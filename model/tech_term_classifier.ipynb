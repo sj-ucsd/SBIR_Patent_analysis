{
 "cells": [
  {
   "cell_type": "markdown",
   "id": "7a0cc711-bcaa-45ff-851b-4c7e2106b2b9",
   "metadata": {},
   "source": [
    "# Technical term classifier\n",
    "Model to identify whether a given word is technical or non-technical\n",
    "Tried few different algorithms including scibert from Huggingface but found \n",
    "that RandomForrest method is faster to train and gives better results"
   ]
  },
  {
   "cell_type": "code",
   "execution_count": 1,
   "id": "e0c93954-e108-4d2c-8e3e-c67bd770f5a5",
   "metadata": {},
   "outputs": [],
   "source": [
    "# To download en_core_sci_lg language model used for the tests, uncomment and run the following line\n",
    "#!pip install https://s3-us-west-2.amazonaws.com/ai2-s2-scispacy/releases/v0.5.3/en_core_sci_lg-0.5.3.tar.gz "
   ]
  },
  {
   "cell_type": "code",
   "execution_count": 2,
   "id": "7e8b1244-759a-4a33-9fc4-4e411f7452c1",
   "metadata": {},
   "outputs": [
    {
     "name": "stdout",
     "output_type": "stream",
     "text": [
      "importing Jupyter notebook from spacy_helper_methods.ipynb\n"
     ]
    }
   ],
   "source": [
    "import pandas as pd\n",
    "from sklearn.feature_extraction.text import TfidfVectorizer\n",
    "from sklearn.ensemble import RandomForestClassifier\n",
    "from sklearn.pipeline import make_pipeline\n",
    "from sklearn.model_selection import train_test_split\n",
    "from sklearn import metrics\n",
    "import joblib\n",
    "import import_ipynb\n",
    "import spacy_helper_methods as sph  # This is a noetbook\n",
    "import spacy as sp"
   ]
  },
  {
   "cell_type": "markdown",
   "id": "4f7aba09-1fba-4f22-a9f5-b92e9c8202ff",
   "metadata": {},
   "source": [
    "## Load data\n",
    "After loading, turn everything to lowercase for training"
   ]
  },
  {
   "cell_type": "code",
   "execution_count": 3,
   "id": "3052cc06-2d08-48e4-8290-0c048cf1f7ac",
   "metadata": {},
   "outputs": [
    {
     "data": {
      "text/plain": [
       "0                                    masking threshold\n",
       "1                                          restful api\n",
       "2                                         quantum-dots\n",
       "3    strength, weakness, opportunity, and threat an...\n",
       "4                                                dance\n",
       "dtype: object"
      ]
     },
     "execution_count": 3,
     "metadata": {},
     "output_type": "execute_result"
    }
   ],
   "source": [
    "# load tech and non-tech terms\n",
    "with open('../preprocessed_files/tech_terms.txt','r') as f:\n",
    "    text = f.read()\n",
    "techwords = text.split('\\n')\n",
    "ts = pd.Series(techwords).str.lower()\n",
    "ts[:5]"
   ]
  },
  {
   "cell_type": "code",
   "execution_count": 4,
   "id": "0dd05b2a-05c3-4927-ac99-279696f5e3a0",
   "metadata": {},
   "outputs": [
    {
     "data": {
      "text/plain": [
       "(0                    hvt\n",
       " 1    stanford university\n",
       " 2                   faee\n",
       " 3               pikewerk\n",
       " 4                    mda\n",
       " dtype: object,\n",
       " 17786)"
      ]
     },
     "execution_count": 4,
     "metadata": {},
     "output_type": "execute_result"
    }
   ],
   "source": [
    "# load terms extracted from sample of SBIR articles - We have two non_tech files, \n",
    "# extracted from two different samples \n",
    "with open('../preprocessed_files/non_tech2.txt','r') as f:\n",
    "    text = f.read()\n",
    "non_techwords = text.split('\\n')\n",
    "nts = pd.Series(non_techwords).str.lower()\n",
    "nts[:5],len(nts)"
   ]
  },
  {
   "cell_type": "markdown",
   "id": "9e1dcd98-7736-425a-b320-18446015f3c6",
   "metadata": {},
   "source": [
    "## Label the data \n",
    "- 0 - non-technology term\n",
    "- 1 - technology term found in IEEE and ACM vocabulary"
   ]
  },
  {
   "cell_type": "code",
   "execution_count": 5,
   "id": "687e814c-885e-4fbc-8a8c-653a4466e9f4",
   "metadata": {},
   "outputs": [
    {
     "data": {
      "text/plain": [
       "([{'text': 'masking threshold', 'label': 1},\n",
       "  {'text': 'restful api', 'label': 1},\n",
       "  {'text': 'quantum-dots', 'label': 1},\n",
       "  {'text': 'strength, weakness, opportunity, and threat analysis', 'label': 1},\n",
       "  {'text': 'dance', 'label': 1}],\n",
       " [{'text': 'hvt', 'label': 0},\n",
       "  {'text': 'stanford university', 'label': 0},\n",
       "  {'text': 'faee', 'label': 0},\n",
       "  {'text': 'pikewerk', 'label': 0},\n",
       "  {'text': 'mda', 'label': 0}])"
      ]
     },
     "execution_count": 5,
     "metadata": {},
     "output_type": "execute_result"
    }
   ],
   "source": [
    "train_data1 = [{\"text\":word,\"label\":1} for word in ts] \n",
    "train_data2 = [{\"text\":word, \"label\":0} for word in nts]\n",
    "train_data1[:5],train_data2[:5]"
   ]
  },
  {
   "cell_type": "code",
   "execution_count": 6,
   "id": "9f71b912-2da8-48a3-a16b-dbd5a8280b6a",
   "metadata": {},
   "outputs": [],
   "source": [
    "tdf = pd.DataFrame(train_data1 + train_data2,columns=['text','label'])"
   ]
  },
  {
   "cell_type": "code",
   "execution_count": 7,
   "id": "34d84791-9307-40d2-a15a-b971d9b0daf0",
   "metadata": {},
   "outputs": [
    {
     "data": {
      "text/plain": [
       "label\n",
       "1    21649\n",
       "0    17786\n",
       "Name: count, dtype: int64"
      ]
     },
     "execution_count": 7,
     "metadata": {},
     "output_type": "execute_result"
    }
   ],
   "source": [
    "tdf['label'].value_counts()"
   ]
  },
  {
   "cell_type": "markdown",
   "id": "157d01b7-eb59-4e09-a9c1-0d41ecae5f09",
   "metadata": {},
   "source": [
    "## Data for training\n",
    "Combine the labeled data for tech and non-tech terms. Split the data for training and validation"
   ]
  },
  {
   "cell_type": "code",
   "execution_count": 8,
   "id": "d1da2285-0fb6-4c73-b550-348efed40daa",
   "metadata": {},
   "outputs": [
    {
     "name": "stdout",
     "output_type": "stream",
     "text": [
      "CPU times: user 25.9 ms, sys: 4.5 ms, total: 30.4 ms\n",
      "Wall time: 39.3 ms\n"
     ]
    }
   ],
   "source": [
    "%%time\n",
    "# Sample data\n",
    "#texts = tdf['text']\n",
    "#labels = tdf['label']  # 1 for tech, 0 for non-tech\n",
    "\n",
    "# Split the data into training and testing sets\n",
    "X_train, X_test, y_train, y_test = train_test_split(tdf['text'], tdf['label'], test_size=0.25, stratify=tdf['label'],\n",
    "                                                    shuffle=True, random_state=42)"
   ]
  },
  {
   "cell_type": "code",
   "execution_count": 9,
   "id": "b6e85c2a-273d-4cde-885c-84d56f637058",
   "metadata": {},
   "outputs": [
    {
     "data": {
      "text/plain": [
       "label\n",
       "1    16237\n",
       "0    13339\n",
       "Name: count, dtype: int64"
      ]
     },
     "execution_count": 9,
     "metadata": {},
     "output_type": "execute_result"
    }
   ],
   "source": [
    "y_train.value_counts()"
   ]
  },
  {
   "cell_type": "markdown",
   "id": "89bf42fd-85ce-426f-88a7-4bcf84467718",
   "metadata": {},
   "source": [
    "## Train the model"
   ]
  },
  {
   "cell_type": "code",
   "execution_count": 10,
   "id": "0e64f160-b7f7-4568-895a-8017c12c6567",
   "metadata": {},
   "outputs": [
    {
     "name": "stdout",
     "output_type": "stream",
     "text": [
      "CPU times: user 2min 5s, sys: 2.36 s, total: 2min 8s\n",
      "Wall time: 5min 48s\n"
     ]
    },
    {
     "data": {
      "text/html": [
       "<style>#sk-container-id-1 {color: black;background-color: white;}#sk-container-id-1 pre{padding: 0;}#sk-container-id-1 div.sk-toggleable {background-color: white;}#sk-container-id-1 label.sk-toggleable__label {cursor: pointer;display: block;width: 100%;margin-bottom: 0;padding: 0.3em;box-sizing: border-box;text-align: center;}#sk-container-id-1 label.sk-toggleable__label-arrow:before {content: \"▸\";float: left;margin-right: 0.25em;color: #696969;}#sk-container-id-1 label.sk-toggleable__label-arrow:hover:before {color: black;}#sk-container-id-1 div.sk-estimator:hover label.sk-toggleable__label-arrow:before {color: black;}#sk-container-id-1 div.sk-toggleable__content {max-height: 0;max-width: 0;overflow: hidden;text-align: left;background-color: #f0f8ff;}#sk-container-id-1 div.sk-toggleable__content pre {margin: 0.2em;color: black;border-radius: 0.25em;background-color: #f0f8ff;}#sk-container-id-1 input.sk-toggleable__control:checked~div.sk-toggleable__content {max-height: 200px;max-width: 100%;overflow: auto;}#sk-container-id-1 input.sk-toggleable__control:checked~label.sk-toggleable__label-arrow:before {content: \"▾\";}#sk-container-id-1 div.sk-estimator input.sk-toggleable__control:checked~label.sk-toggleable__label {background-color: #d4ebff;}#sk-container-id-1 div.sk-label input.sk-toggleable__control:checked~label.sk-toggleable__label {background-color: #d4ebff;}#sk-container-id-1 input.sk-hidden--visually {border: 0;clip: rect(1px 1px 1px 1px);clip: rect(1px, 1px, 1px, 1px);height: 1px;margin: -1px;overflow: hidden;padding: 0;position: absolute;width: 1px;}#sk-container-id-1 div.sk-estimator {font-family: monospace;background-color: #f0f8ff;border: 1px dotted black;border-radius: 0.25em;box-sizing: border-box;margin-bottom: 0.5em;}#sk-container-id-1 div.sk-estimator:hover {background-color: #d4ebff;}#sk-container-id-1 div.sk-parallel-item::after {content: \"\";width: 100%;border-bottom: 1px solid gray;flex-grow: 1;}#sk-container-id-1 div.sk-label:hover label.sk-toggleable__label {background-color: #d4ebff;}#sk-container-id-1 div.sk-serial::before {content: \"\";position: absolute;border-left: 1px solid gray;box-sizing: border-box;top: 0;bottom: 0;left: 50%;z-index: 0;}#sk-container-id-1 div.sk-serial {display: flex;flex-direction: column;align-items: center;background-color: white;padding-right: 0.2em;padding-left: 0.2em;position: relative;}#sk-container-id-1 div.sk-item {position: relative;z-index: 1;}#sk-container-id-1 div.sk-parallel {display: flex;align-items: stretch;justify-content: center;background-color: white;position: relative;}#sk-container-id-1 div.sk-item::before, #sk-container-id-1 div.sk-parallel-item::before {content: \"\";position: absolute;border-left: 1px solid gray;box-sizing: border-box;top: 0;bottom: 0;left: 50%;z-index: -1;}#sk-container-id-1 div.sk-parallel-item {display: flex;flex-direction: column;z-index: 1;position: relative;background-color: white;}#sk-container-id-1 div.sk-parallel-item:first-child::after {align-self: flex-end;width: 50%;}#sk-container-id-1 div.sk-parallel-item:last-child::after {align-self: flex-start;width: 50%;}#sk-container-id-1 div.sk-parallel-item:only-child::after {width: 0;}#sk-container-id-1 div.sk-dashed-wrapped {border: 1px dashed gray;margin: 0 0.4em 0.5em 0.4em;box-sizing: border-box;padding-bottom: 0.4em;background-color: white;}#sk-container-id-1 div.sk-label label {font-family: monospace;font-weight: bold;display: inline-block;line-height: 1.2em;}#sk-container-id-1 div.sk-label-container {text-align: center;}#sk-container-id-1 div.sk-container {/* jupyter's `normalize.less` sets `[hidden] { display: none; }` but bootstrap.min.css set `[hidden] { display: none !important; }` so we also need the `!important` here to be able to override the default hidden behavior on the sphinx rendered scikit-learn.org. See: https://github.com/scikit-learn/scikit-learn/issues/21755 */display: inline-block !important;position: relative;}#sk-container-id-1 div.sk-text-repr-fallback {display: none;}</style><div id=\"sk-container-id-1\" class=\"sk-top-container\"><div class=\"sk-text-repr-fallback\"><pre>Pipeline(steps=[(&#x27;tfidfvectorizer&#x27;, TfidfVectorizer()),\n",
       "                (&#x27;randomforestclassifier&#x27;, RandomForestClassifier())])</pre><b>In a Jupyter environment, please rerun this cell to show the HTML representation or trust the notebook. <br />On GitHub, the HTML representation is unable to render, please try loading this page with nbviewer.org.</b></div><div class=\"sk-container\" hidden><div class=\"sk-item sk-dashed-wrapped\"><div class=\"sk-label-container\"><div class=\"sk-label sk-toggleable\"><input class=\"sk-toggleable__control sk-hidden--visually\" id=\"sk-estimator-id-1\" type=\"checkbox\" ><label for=\"sk-estimator-id-1\" class=\"sk-toggleable__label sk-toggleable__label-arrow\">Pipeline</label><div class=\"sk-toggleable__content\"><pre>Pipeline(steps=[(&#x27;tfidfvectorizer&#x27;, TfidfVectorizer()),\n",
       "                (&#x27;randomforestclassifier&#x27;, RandomForestClassifier())])</pre></div></div></div><div class=\"sk-serial\"><div class=\"sk-item\"><div class=\"sk-estimator sk-toggleable\"><input class=\"sk-toggleable__control sk-hidden--visually\" id=\"sk-estimator-id-2\" type=\"checkbox\" ><label for=\"sk-estimator-id-2\" class=\"sk-toggleable__label sk-toggleable__label-arrow\">TfidfVectorizer</label><div class=\"sk-toggleable__content\"><pre>TfidfVectorizer()</pre></div></div></div><div class=\"sk-item\"><div class=\"sk-estimator sk-toggleable\"><input class=\"sk-toggleable__control sk-hidden--visually\" id=\"sk-estimator-id-3\" type=\"checkbox\" ><label for=\"sk-estimator-id-3\" class=\"sk-toggleable__label sk-toggleable__label-arrow\">RandomForestClassifier</label><div class=\"sk-toggleable__content\"><pre>RandomForestClassifier()</pre></div></div></div></div></div></div></div>"
      ],
      "text/plain": [
       "Pipeline(steps=[('tfidfvectorizer', TfidfVectorizer()),\n",
       "                ('randomforestclassifier', RandomForestClassifier())])"
      ]
     },
     "execution_count": 10,
     "metadata": {},
     "output_type": "execute_result"
    }
   ],
   "source": [
    "%%time\n",
    "# Define and train the model\n",
    "model = make_pipeline(TfidfVectorizer(), RandomForestClassifier())\n",
    "model.fit(X_train, y_train)"
   ]
  },
  {
   "cell_type": "code",
   "execution_count": 11,
   "id": "f0777f59-6222-417f-a692-045520a1808c",
   "metadata": {},
   "outputs": [
    {
     "name": "stdout",
     "output_type": "stream",
     "text": [
      "Accuracy: 0.79\n",
      "Precision: 0.92\n",
      "Recall: 0.68\n",
      "F1 Score: 0.78\n",
      "CPU times: user 21.3 s, sys: 628 ms, total: 21.9 s\n",
      "Wall time: 34 s\n"
     ]
    }
   ],
   "source": [
    "%%time\n",
    "# Predict on the testing set\n",
    "y_pred = model.predict(X_test)\n",
    "\n",
    "# Evaluate the model\n",
    "accuracy = metrics.accuracy_score(y_test, y_pred)\n",
    "precision = metrics.precision_score(y_test, y_pred)\n",
    "recall = metrics.recall_score(y_test, y_pred)\n",
    "f1_score = metrics.f1_score(y_test, y_pred)\n",
    "\n",
    "print(f\"Accuracy: {accuracy:.2f}\")\n",
    "print(f\"Precision: {precision:.2f}\")\n",
    "print(f\"Recall: {recall:.2f}\")\n",
    "print(f\"F1 Score: {f1_score:.2f}\")"
   ]
  },
  {
   "cell_type": "markdown",
   "id": "9f096ec7-4386-4667-9f9f-c48e69bdb357",
   "metadata": {},
   "source": [
    "## Save the model for future use"
   ]
  },
  {
   "cell_type": "code",
   "execution_count": 12,
   "id": "2de0d9de-1e69-44b0-9a17-e1759cdfa8df",
   "metadata": {},
   "outputs": [
    {
     "data": {
      "text/plain": [
       "['../model/trained_tech_classifier_model.joblib']"
      ]
     },
     "execution_count": 12,
     "metadata": {},
     "output_type": "execute_result"
    }
   ],
   "source": [
    "# Save model so in future can be loaded directly without retraining\n",
    "\n",
    "joblib.dump(model, '../model/trained_tech_classifier_model.joblib')"
   ]
  },
  {
   "cell_type": "markdown",
   "id": "33b9c03a-4cb6-4485-b23d-e9be91f504ee",
   "metadata": {},
   "source": [
    "## Some tests"
   ]
  },
  {
   "cell_type": "code",
   "execution_count": 13,
   "id": "bbeff31f-e9ce-4280-a284-15047344fdda",
   "metadata": {},
   "outputs": [],
   "source": [
    "# load model \n",
    "model = joblib.load('../model/trained_tech_classifier_model.joblib')"
   ]
  },
  {
   "cell_type": "code",
   "execution_count": 14,
   "id": "6c6f76f7-b81b-458e-911a-c80fc64b07f4",
   "metadata": {},
   "outputs": [
    {
     "data": {
      "text/plain": [
       "array([1, 0, 0, 1])"
      ]
     },
     "execution_count": 14,
     "metadata": {},
     "output_type": "execute_result"
    }
   ],
   "source": [
    "model.predict(pd.Series(['Cloud Computing','happy smiles', 'invisalign', 'one hot encoding']))"
   ]
  },
  {
   "cell_type": "code",
   "execution_count": 15,
   "id": "b8cec42f-8c35-4c58-80da-a9da6721da71",
   "metadata": {},
   "outputs": [],
   "source": [
    "# Process to extract terms from abstract and check for technical terms\n",
    "\n",
    "abstract = \"\"\"A travel line creation system for an agricultural machine, includes a position \n",
    "acquirer to acquire position measurement points for the agricultural machine, a display, a \n",
    "first generator to associate the position measurement points with a field displayed by the \n",
    "display and generate creation points on the field by shifting the position measurement points \n",
    "inward in an agricultural field, a second generator to create a travel line including a loop \n",
    "which passes through the creation points and calculate each of virtual lines by connecting \n",
    "together adjacent ones of the creation points, and a setter to extract a pair of virtual \n",
    "lines adjacent to each other and extending in different directions and set, as a work point \n",
    "regarding a breakpoint in work performed by a working device, one of the creation points \n",
    "shared by the extracted pair of virtual lines\"\"\"\n",
    "ads = pd.Series([abstract])"
   ]
  },
  {
   "cell_type": "code",
   "execution_count": 16,
   "id": "3e9c6f62-26d1-4c2b-902e-9a440e2fcfa5",
   "metadata": {},
   "outputs": [
    {
     "name": "stderr",
     "output_type": "stream",
     "text": [
      "/Users/sagarjogadhenu/anaconda3/lib/python3.9/site-packages/spacy/util.py:910: UserWarning: [W095] Model 'en_core_sci_lg' (0.5.3) was trained with spaCy v3.6.1 and may not be 100% compatible with the current version (3.7.2). If you see errors or degraded performance, download a newer compatible model or retrain your custom model with the current spaCy version. For more details and available updates, run: python -m spacy validate\n",
      "  warnings.warn(warn_msg)\n",
      "/Users/sagarjogadhenu/anaconda3/lib/python3.9/site-packages/spacy/language.py:2170: FutureWarning: Possible set union at position 6328\n",
      "  deserializers[\"tokenizer\"] = lambda p: self.tokenizer.from_disk(  # type: ignore[union-attr]\n"
     ]
    }
   ],
   "source": [
    "# Sci-spacy gives more entities than regular spacy hence using sci-spacy\n",
    "nlp = sp.load(\"en_core_sci_lg\")  #PS en_core_sci_sm worked but not  en_core_sci_lg\n",
    "lemma_ds = sph.lemmatize(nlp, ads)\n",
    "ent_ds = sph.get_entities(nlp, lemma_ds)"
   ]
  },
  {
   "cell_type": "code",
   "execution_count": 17,
   "id": "2bc232d5-6d43-4253-ab96-7439f82db761",
   "metadata": {},
   "outputs": [
    {
     "data": {
      "text/plain": [
       "['travel',\n",
       " 'agricultural machine',\n",
       " 'acquirer acquire position measurement',\n",
       " 'point agricultural machine',\n",
       " 'display',\n",
       " 'point field',\n",
       " 'creation',\n",
       " 'measurement',\n",
       " 'inward',\n",
       " 'agricultural field',\n",
       " 'generator',\n",
       " 'loop',\n",
       " 'virtual line',\n",
       " 'adjacent',\n",
       " 'creation point',\n",
       " 'setter extract pair',\n",
       " 'adjacent',\n",
       " 'direction',\n",
       " 'breakpoint work',\n",
       " 'working device',\n",
       " 'creation',\n",
       " 'pair virtual line']"
      ]
     },
     "execution_count": 17,
     "metadata": {},
     "output_type": "execute_result"
    }
   ],
   "source": [
    "entities = [ent[0] for ent in ent_ds[0]]\n",
    "entities"
   ]
  },
  {
   "cell_type": "code",
   "execution_count": 18,
   "id": "0e007f5e-196a-4070-b5f9-3c36d1da2992",
   "metadata": {},
   "outputs": [],
   "source": [
    "# Classify whether the above entiteis are technical or non-technical terms\n",
    "y_pred = model.predict(entities)"
   ]
  },
  {
   "cell_type": "code",
   "execution_count": 19,
   "id": "15b953f3-051a-4cfa-bdc7-6e2bc3eee65b",
   "metadata": {},
   "outputs": [
    {
     "data": {
      "text/plain": [
       "[{'travel': 0},\n",
       " {'agricultural machine': 1},\n",
       " {'acquirer acquire position measurement': 1},\n",
       " {'point agricultural machine': 1},\n",
       " {'display': 0},\n",
       " {'point field': 1},\n",
       " {'creation': 0},\n",
       " {'measurement': 1},\n",
       " {'inward': 0},\n",
       " {'agricultural field': 1},\n",
       " {'generator': 0},\n",
       " {'loop': 0},\n",
       " {'virtual line': 1},\n",
       " {'adjacent': 0},\n",
       " {'creation point': 1},\n",
       " {'setter extract pair': 0},\n",
       " {'adjacent': 0},\n",
       " {'direction': 0},\n",
       " {'breakpoint work': 1},\n",
       " {'working device': 1},\n",
       " {'creation': 0},\n",
       " {'pair virtual line': 1}]"
      ]
     },
     "execution_count": 19,
     "metadata": {},
     "output_type": "execute_result"
    }
   ],
   "source": [
    "ent_pred = [{entities[i]:y_pred[i]} for i in range(len(y_pred))]\n",
    "ent_pred"
   ]
  },
  {
   "cell_type": "code",
   "execution_count": null,
   "id": "d0e0d2d1-8303-4308-82b2-0e964cb119c2",
   "metadata": {},
   "outputs": [],
   "source": []
  }
 ],
 "metadata": {
  "kernelspec": {
   "display_name": "Python 3 (ipykernel)",
   "language": "python",
   "name": "python3"
  },
  "language_info": {
   "codemirror_mode": {
    "name": "ipython",
    "version": 3
   },
   "file_extension": ".py",
   "mimetype": "text/x-python",
   "name": "python",
   "nbconvert_exporter": "python",
   "pygments_lexer": "ipython3",
   "version": "3.9.12"
  }
 },
 "nbformat": 4,
 "nbformat_minor": 5
}
