{
 "cells": [
  {
   "cell_type": "markdown",
   "id": "706c589d-16c0-4ec7-9dcb-ab87c1f4a1f4",
   "metadata": {},
   "source": [
    "# Extract technical terms from SBIR data\n",
    "This notebook extracts entities from SBIR dataset. The SBIR dataset is a csv file. We will run spacy methods to lemmatize and extract entities from the abstract field. We will then filter the entities to technical terms by passing the entities through binary classification model previously created. "
   ]
  },
  {
   "cell_type": "code",
   "execution_count": 6,
   "id": "71e2a346-29d0-402c-b407-4d4c6d87d985",
   "metadata": {},
   "outputs": [],
   "source": [
    "import import_ipynb\n",
    "import spacy as sp\n",
    "import json\n",
    "import pandas as pd\n",
    "import joblib\n",
    "import requests\n",
    "import io"
   ]
  },
  {
   "cell_type": "code",
   "execution_count": 2,
   "id": "b5473ee6-4d28-469f-a81e-a5ab45b93ecb",
   "metadata": {},
   "outputs": [
    {
     "name": "stdout",
     "output_type": "stream",
     "text": [
      "importing Jupyter notebook from spacy_helper_methods.ipynb\n"
     ]
    }
   ],
   "source": [
    "import spacy_helper_methods as sph"
   ]
  },
  {
   "cell_type": "markdown",
   "id": "26039a2a-390f-4485-ab9a-aa97db73b8dc",
   "metadata": {},
   "source": [
    "## Load input data"
   ]
  },
  {
   "cell_type": "code",
   "execution_count": 7,
   "id": "6148f07a-c55a-4043-9ba8-4231f1ed6251",
   "metadata": {},
   "outputs": [
    {
     "name": "stderr",
     "output_type": "stream",
     "text": [
      "<timed exec>:4: DtypeWarning: Columns (10,12,13,15,38,39,40) have mixed types. Specify dtype option on import or set low_memory=False.\n"
     ]
    },
    {
     "name": "stdout",
     "output_type": "stream",
     "text": [
      "CPU times: user 10.6 s, sys: 7.77 s, total: 18.4 s\n",
      "Wall time: 1min 12s\n"
     ]
    }
   ],
   "source": [
    "%%time\n",
    "# read SBIR award data directly from web URL\n",
    "url=\"https://data.www.sbir.gov/awarddatapublic/award_data.csv\"\n",
    "s=requests.get(url).content\n",
    "sbir_df=pd.read_csv(io.StringIO(s.decode('utf-8')))"
   ]
  },
  {
   "cell_type": "code",
   "execution_count": 14,
   "id": "b8025d5d-52ab-4234-ae8f-652c203a00ad",
   "metadata": {},
   "outputs": [
    {
     "name": "stdout",
     "output_type": "stream",
     "text": [
      "Archive:  ../model/trained_tech_classifier_model.joblib.zip\n",
      "  inflating: ../model/trained_tech_classifier_model.joblib  \n"
     ]
    }
   ],
   "source": [
    "!unzip -o ../model/trained_tech_classifier_model.joblib.zip -d ../model/"
   ]
  },
  {
   "cell_type": "markdown",
   "id": "8d22abdc-368d-4d0b-b8d7-f5dfa42e581c",
   "metadata": {},
   "source": [
    "## Extract entities and classify"
   ]
  },
  {
   "cell_type": "code",
   "execution_count": 15,
   "id": "c3ebd5d6-836c-4079-ba1f-9c6c500b59a8",
   "metadata": {},
   "outputs": [],
   "source": [
    "model = joblib.load('../model/trained_tech_classifier_model.joblib')\n",
    "nlp = sp.load('en_core_sci_lg')"
   ]
  },
  {
   "cell_type": "code",
   "execution_count": 16,
   "id": "9571d01f-97ab-458c-bba4-a837c36b50e7",
   "metadata": {},
   "outputs": [
    {
     "name": "stdout",
     "output_type": "stream",
     "text": [
      "CPU times: user 9h 13min 46s, sys: 41min 3s, total: 9h 54min 49s\n",
      "Wall time: 11h 12min 49s\n"
     ]
    }
   ],
   "source": [
    "%%time\n",
    "sbir_df['abstract_entities'] = sph.extract_tech_entities(nlp, model, sbir_df['Abstract'])"
   ]
  },
  {
   "cell_type": "code",
   "execution_count": 17,
   "id": "7a2223b1-e767-4094-a70a-4b1d96526002",
   "metadata": {},
   "outputs": [],
   "source": [
    "sbir_df.to_csv('../preprocessed_files/sbir_entities.csv')"
   ]
  },
  {
   "cell_type": "code",
   "execution_count": 20,
   "id": "31578318-6958-4af5-977a-ec2d36de8bbd",
   "metadata": {},
   "outputs": [],
   "source": [
    "sbir_df = sbir_df.drop(['Abstract'],axis=1)"
   ]
  },
  {
   "cell_type": "code",
   "execution_count": 21,
   "id": "86830051-1fc0-4209-97ab-9c093752e279",
   "metadata": {},
   "outputs": [],
   "source": [
    "sbir_df.to_csv('../preprocessed_files/sbir_entities1.csv')"
   ]
  },
  {
   "cell_type": "code",
   "execution_count": 23,
   "id": "a48fc8a8-eb49-4ea6-bcca-a3c6f5be650e",
   "metadata": {},
   "outputs": [
    {
     "data": {
      "text/plain": [
       "Index(['Company', 'Award Title', 'Agency', 'Branch', 'Phase', 'Program',\n",
       "       'Agency Tracking Number', 'Contract', 'Proposal Award Date',\n",
       "       'Contract End Date', 'Solicitation Number', 'Solicitation Year',\n",
       "       'Solicitation Close Date', 'Proposal Receipt Date',\n",
       "       'Date of Notification', 'Topic Code', 'Award Year', 'Award Amount',\n",
       "       'Duns', 'HUBZone Owned', 'Socially and Economically Disadvantaged',\n",
       "       'Women Owned', 'Number Employees', 'Company Website', 'Address1',\n",
       "       'Address2', 'City', 'State', 'Zip', 'Contact Name', 'Contact Title',\n",
       "       'Contact Phone', 'Contact Email', 'PI Name', 'PI Title', 'PI Phone',\n",
       "       'PI Email', 'RI Name', 'RI POC Name', 'RI POC Phone',\n",
       "       'abstract_entities'],\n",
       "      dtype='object')"
      ]
     },
     "execution_count": 23,
     "metadata": {},
     "output_type": "execute_result"
    }
   ],
   "source": [
    "sbir_df.columns"
   ]
  },
  {
   "cell_type": "markdown",
   "id": "b309f4c2-e403-4498-9be0-ecf3c3415789",
   "metadata": {},
   "source": [
    "## Create small output files\n",
    "Since the dataframe is large, need to breakdown into smaller chunks for upload to github"
   ]
  },
  {
   "cell_type": "code",
   "execution_count": 27,
   "id": "5a70884c-8620-4916-a810-1c3a8515a36b",
   "metadata": {},
   "outputs": [],
   "source": [
    "chunksize = 22000 # number of rows per chunk\n",
    "num_chunks = len(sbir_df)//chunksize + 1"
   ]
  },
  {
   "cell_type": "code",
   "execution_count": 30,
   "id": "b0205991-4fcd-4edc-a1bb-38a484170cc7",
   "metadata": {},
   "outputs": [],
   "source": [
    "output_directory = '../preprocessed_files/'\n",
    "base_filename = \"sbir_entities_\"\n",
    "\n",
    "# Write the DataFrame into multiple small files\n",
    "for i in range(num_chunks):\n",
    "    start_idx = i * chunksize\n",
    "    end_idx = (i + 1) * chunksize\n",
    "    chunk_dataframe = sbir_df.iloc[start_idx:end_idx]\n",
    "    \n",
    "    # Formulate the output filename for each chunk\n",
    "    output_filename = f\"{output_directory}{base_filename}{i + 1}.csv\"\n",
    "    \n",
    "    # Write the chunk to a CSV file\n",
    "    chunk_dataframe.to_csv(output_filename, index=False)"
   ]
  },
  {
   "cell_type": "code",
   "execution_count": null,
   "id": "2997f21f-af93-472f-a7f9-f1d1ad65399f",
   "metadata": {},
   "outputs": [],
   "source": []
  }
 ],
 "metadata": {
  "kernelspec": {
   "display_name": "Python 3 (ipykernel)",
   "language": "python",
   "name": "python3"
  },
  "language_info": {
   "codemirror_mode": {
    "name": "ipython",
    "version": 3
   },
   "file_extension": ".py",
   "mimetype": "text/x-python",
   "name": "python",
   "nbconvert_exporter": "python",
   "pygments_lexer": "ipython3",
   "version": "3.9.12"
  }
 },
 "nbformat": 4,
 "nbformat_minor": 5
}
