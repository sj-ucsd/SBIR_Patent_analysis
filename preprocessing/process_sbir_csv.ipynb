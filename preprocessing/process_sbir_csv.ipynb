{
 "cells": [
  {
   "cell_type": "markdown",
   "id": "706c589d-16c0-4ec7-9dcb-ab87c1f4a1f4",
   "metadata": {},
   "source": [
    "# Extract technical terms from SBIR data\n",
    "This notebook extracts entities from SBIR dataset. The SBIR dataset is a csv file. We will run spacy methods to lemmatize and extract entities from the abstract field. We will then filter the entities to technical terms by passing the entities through binary classification model previously created. "
   ]
  },
  {
   "cell_type": "code",
   "execution_count": 1,
   "id": "71e2a346-29d0-402c-b407-4d4c6d87d985",
   "metadata": {},
   "outputs": [],
   "source": [
    "import import_ipynb\n",
    "import spacy as sp\n",
    "import json\n",
    "import pandas as pd\n",
    "import joblib\n",
    "import requests\n",
    "import io"
   ]
  },
  {
   "cell_type": "code",
   "execution_count": 2,
   "id": "b5473ee6-4d28-469f-a81e-a5ab45b93ecb",
   "metadata": {},
   "outputs": [
    {
     "name": "stdout",
     "output_type": "stream",
     "text": [
      "importing Jupyter notebook from spacy_helper_methods.ipynb\n"
     ]
    }
   ],
   "source": [
    "import spacy_helper_methods as sph"
   ]
  },
  {
   "cell_type": "markdown",
   "id": "26039a2a-390f-4485-ab9a-aa97db73b8dc",
   "metadata": {},
   "source": [
    "## Load input data"
   ]
  },
  {
   "cell_type": "code",
   "execution_count": 3,
   "id": "6148f07a-c55a-4043-9ba8-4231f1ed6251",
   "metadata": {},
   "outputs": [
    {
     "name": "stdout",
     "output_type": "stream",
     "text": [
      "CPU times: user 10.5 s, sys: 8.01 s, total: 18.5 s\n",
      "Wall time: 43.1 s\n"
     ]
    }
   ],
   "source": [
    "%%time\n",
    "# read SBIR award data directly from web URL\n",
    "url=\"https://data.www.sbir.gov/awarddatapublic/award_data.csv\"\n",
    "s=requests.get(url).content\n",
    "sbir_df=pd.read_csv(io.StringIO(s.decode('utf-8')), low_memory=False)"
   ]
  },
  {
   "cell_type": "code",
   "execution_count": 4,
   "id": "b8025d5d-52ab-4234-ae8f-652c203a00ad",
   "metadata": {},
   "outputs": [
    {
     "name": "stdout",
     "output_type": "stream",
     "text": [
      "Archive:  ../model/trained_tech_classifier_model.joblib.zip\n",
      "  inflating: ../model/trained_tech_classifier_model.joblib  \n"
     ]
    }
   ],
   "source": [
    "!unzip -o ../model/trained_tech_classifier_model.joblib.zip -d ../model/"
   ]
  },
  {
   "cell_type": "markdown",
   "id": "8d22abdc-368d-4d0b-b8d7-f5dfa42e581c",
   "metadata": {},
   "source": [
    "## Extract entities and classify"
   ]
  },
  {
   "cell_type": "code",
   "execution_count": 5,
   "id": "c3ebd5d6-836c-4079-ba1f-9c6c500b59a8",
   "metadata": {},
   "outputs": [
    {
     "name": "stderr",
     "output_type": "stream",
     "text": [
      "/Users/sagarjogadhenu/anaconda3/lib/python3.9/site-packages/spacy/util.py:910: UserWarning: [W095] Model 'en_core_sci_lg' (0.5.3) was trained with spaCy v3.6.1 and may not be 100% compatible with the current version (3.7.2). If you see errors or degraded performance, download a newer compatible model or retrain your custom model with the current spaCy version. For more details and available updates, run: python -m spacy validate\n",
      "  warnings.warn(warn_msg)\n",
      "/Users/sagarjogadhenu/anaconda3/lib/python3.9/site-packages/spacy/language.py:2170: FutureWarning: Possible set union at position 6328\n",
      "  deserializers[\"tokenizer\"] = lambda p: self.tokenizer.from_disk(  # type: ignore[union-attr]\n"
     ]
    }
   ],
   "source": [
    "model = joblib.load('../model/trained_tech_classifier_model.joblib')\n",
    "nlp = sp.load('en_core_sci_lg')"
   ]
  },
  {
   "cell_type": "code",
   "execution_count": 6,
   "id": "e137f772-9151-4a9e-bcb5-bb34de26ea61",
   "metadata": {},
   "outputs": [],
   "source": [
    "#sbir_df.info()"
   ]
  },
  {
   "cell_type": "code",
   "execution_count": 7,
   "id": "72036088-f10c-41c1-a894-c8ca56444001",
   "metadata": {},
   "outputs": [
    {
     "name": "stdout",
     "output_type": "stream",
     "text": [
      "<class 'pandas.core.frame.DataFrame'>\n",
      "RangeIndex: 201856 entries, 0 to 201855\n",
      "Data columns (total 41 columns):\n",
      " #   Column                                   Non-Null Count   Dtype \n",
      "---  ------                                   --------------   ----- \n",
      " 0   Company                                  201853 non-null  object\n",
      " 1   Award Title                              201232 non-null  object\n",
      " 2   Agency                                   201855 non-null  object\n",
      " 3   Branch                                   146776 non-null  object\n",
      " 4   Phase                                    201856 non-null  object\n",
      " 5   Program                                  201856 non-null  object\n",
      " 6   Agency Tracking Number                   201544 non-null  object\n",
      " 7   Contract                                 168149 non-null  object\n",
      " 8   Proposal Award Date                      123889 non-null  object\n",
      " 9   Contract End Date                        118873 non-null  object\n",
      " 10  Solicitation Number                      125706 non-null  object\n",
      " 11  Solicitation Year                        143664 non-null  object\n",
      " 12  Solicitation Close Date                  95031 non-null   object\n",
      " 13  Proposal Receipt Date                    76517 non-null   object\n",
      " 14  Date of Notification                     99028 non-null   object\n",
      " 15  Topic Code                               117341 non-null  object\n",
      " 16  Award Year                               201856 non-null  object\n",
      " 17  Award Amount                             201815 non-null  object\n",
      " 18  Duns                                     146921 non-null  object\n",
      " 19  HUBZone Owned                            201856 non-null  object\n",
      " 20  Socially and Economically Disadvantaged  201856 non-null  object\n",
      " 21  Women Owned                              201856 non-null  object\n",
      " 22  Number Employees                         185771 non-null  object\n",
      " 23  Company Website                          126117 non-null  object\n",
      " 24  Address1                                 201722 non-null  object\n",
      " 25  Address2                                 61048 non-null   object\n",
      " 26  City                                     201841 non-null  object\n",
      " 27  State                                    201846 non-null  object\n",
      " 28  Zip                                      201848 non-null  object\n",
      " 29  Abstract                                 201856 non-null  object\n",
      " 30  Contact Name                             200875 non-null  object\n",
      " 31  Contact Title                            100097 non-null  object\n",
      " 32  Contact Phone                            201052 non-null  object\n",
      " 33  Contact Email                            163961 non-null  object\n",
      " 34  PI Name                                  201540 non-null  object\n",
      " 35  PI Title                                 111980 non-null  object\n",
      " 36  PI Phone                                 201520 non-null  object\n",
      " 37  PI Email                                 163697 non-null  object\n",
      " 38  RI Name                                  61032 non-null   object\n",
      " 39  RI POC Name                              34061 non-null   object\n",
      " 40  RI POC Phone                             33377 non-null   object\n",
      "dtypes: object(41)\n",
      "memory usage: 63.1+ MB\n"
     ]
    }
   ],
   "source": [
    "#Resolve Nulls for Abstracts by assigning an empty value '' to allow the entity extraction process to work without removing the rows\n",
    "sbir_df[sbir_df['Abstract'].isna()] = ''\n",
    "sbir_df['Abstract'].astype('string')\n",
    "sbir_df.info()"
   ]
  },
  {
   "cell_type": "code",
   "execution_count": 8,
   "id": "b6ad0d85-472e-4d5d-bda1-ea8f8e4e04c2",
   "metadata": {},
   "outputs": [],
   "source": [
    "#sbir_df[sbir_df['Abstract'].isna()]"
   ]
  },
  {
   "cell_type": "code",
   "execution_count": 9,
   "id": "9571d01f-97ab-458c-bba4-a837c36b50e7",
   "metadata": {},
   "outputs": [
    {
     "name": "stdout",
     "output_type": "stream",
     "text": [
      "CPU times: user 5 µs, sys: 1e+03 ns, total: 6 µs\n",
      "Wall time: 11 µs\n"
     ]
    }
   ],
   "source": [
    "%%time\n",
    "# This is for the whole database. This can take long time. Uncomment when necessary to process whole data\n",
    "#sbir_df['abstract_entities'] = sph.extract_tech_entities(nlp, model, sbir_df['Abstract'])\n",
    "#sbir_df.to_csv('../preprocessed_files/sbir_entities.csv')"
   ]
  },
  {
   "cell_type": "code",
   "execution_count": 21,
   "id": "62309c2c-ff65-4197-9f48-4c4051d712db",
   "metadata": {},
   "outputs": [
    {
     "name": "stdout",
     "output_type": "stream",
     "text": [
      "CPU times: user 3min 55s, sys: 33.6 s, total: 4min 28s\n",
      "Wall time: 10min 39s\n"
     ]
    }
   ],
   "source": [
    "%%time\n",
    "sbir_sample = sbir_df.sample(1000)\n",
    "sbir_sample = sbir_sample[~sbir_sample['Abstract'].isna()]\n",
    "sbir_sample = sbir_sample [sbir_sample['Abstract'] != '']\n",
    "sbir_sample['abstract_entities'] = sph.extract_tech_entities(nlp, model, sbir_sample['Abstract'])\n"
   ]
  },
  {
   "cell_type": "code",
   "execution_count": 24,
   "id": "1ac62e22-d5f0-4128-97b5-a57db718331d",
   "metadata": {},
   "outputs": [],
   "source": [
    "sbir_sample = sbir_sample.rename_axis('id')\n",
    "sbir_sample\n",
    "sbir_sample.to_csv('../preprocessed_files/sbir_1k_sample.csv')"
   ]
  },
  {
   "cell_type": "markdown",
   "id": "b309f4c2-e403-4498-9be0-ecf3c3415789",
   "metadata": {},
   "source": [
    "## Create small output files\n",
    "Run this when cell 9 above is uncommented. Since the dataframe is large, need to breakdown into smaller chunks for upload to github"
   ]
  },
  {
   "cell_type": "code",
   "execution_count": null,
   "id": "5a70884c-8620-4916-a810-1c3a8515a36b",
   "metadata": {},
   "outputs": [],
   "source": [
    "chunksize = 22000 # number of rows per chunk\n",
    "num_chunks = len(sbir_df)//chunksize + 1"
   ]
  },
  {
   "cell_type": "code",
   "execution_count": null,
   "id": "b0205991-4fcd-4edc-a1bb-38a484170cc7",
   "metadata": {},
   "outputs": [],
   "source": [
    "output_directory = '../preprocessed_files/'\n",
    "base_filename = \"sbir_entities_\"\n",
    "\n",
    "# Write the DataFrame into multiple small files\n",
    "for i in range(num_chunks):\n",
    "    start_idx = i * chunksize\n",
    "    end_idx = (i + 1) * chunksize\n",
    "    chunk_dataframe = sbir_df.iloc[start_idx:end_idx]\n",
    "    \n",
    "    # Formulate the output filename for each chunk\n",
    "    output_filename = f\"{output_directory}{base_filename}{i + 1}.csv\"\n",
    "    \n",
    "    # Write the chunk to a CSV file\n",
    "    chunk_dataframe.to_csv(output_filename, index=False)"
   ]
  },
  {
   "cell_type": "code",
   "execution_count": null,
   "id": "2997f21f-af93-472f-a7f9-f1d1ad65399f",
   "metadata": {},
   "outputs": [],
   "source": []
  }
 ],
 "metadata": {
  "kernelspec": {
   "display_name": "Python 3 (ipykernel)",
   "language": "python",
   "name": "python3"
  },
  "language_info": {
   "codemirror_mode": {
    "name": "ipython",
    "version": 3
   },
   "file_extension": ".py",
   "mimetype": "text/x-python",
   "name": "python",
   "nbconvert_exporter": "python",
   "pygments_lexer": "ipython3",
   "version": "3.9.12"
  }
 },
 "nbformat": 4,
 "nbformat_minor": 5
}
