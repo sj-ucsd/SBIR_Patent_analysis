{
 "cells": [
  {
   "cell_type": "markdown",
   "id": "706c589d-16c0-4ec7-9dcb-ab87c1f4a1f4",
   "metadata": {},
   "source": [
    "# Extract technical terms from SBIR data\n",
    "This notebook extracts entities from SBIR dataset. The SBIR dataset is a csv file. We will run spacy methods to lemmatize and extract entities from the abstract field. We will then filter the entities to technical terms by passing the entities through binary classification model previously created. "
   ]
  },
  {
   "cell_type": "code",
   "execution_count": null,
   "id": "71e2a346-29d0-402c-b407-4d4c6d87d985",
   "metadata": {},
   "outputs": [],
   "source": [
    "import import_ipynb\n",
    "import spacy as sp\n",
    "import json\n",
    "import pandas as pd\n",
    "import joblib\n",
    "import requests\n",
    "import io"
   ]
  },
  {
   "cell_type": "code",
   "execution_count": null,
   "id": "b5473ee6-4d28-469f-a81e-a5ab45b93ecb",
   "metadata": {},
   "outputs": [],
   "source": [
    "import spacy_helper_methods as sph"
   ]
  },
  {
   "cell_type": "markdown",
   "id": "26039a2a-390f-4485-ab9a-aa97db73b8dc",
   "metadata": {},
   "source": [
    "## Load input data"
   ]
  },
  {
   "cell_type": "code",
   "execution_count": null,
   "id": "6148f07a-c55a-4043-9ba8-4231f1ed6251",
   "metadata": {},
   "outputs": [],
   "source": [
    "%%time\n",
    "# read SBIR award data directly from web URL\n",
    "url=\"https://data.www.sbir.gov/awarddatapublic/award_data.csv\"\n",
    "s=requests.get(url).content\n",
    "sbir_df=pd.read_csv(io.StringIO(s.decode('utf-8')), low_memory=False)"
   ]
  },
  {
   "cell_type": "code",
   "execution_count": null,
   "id": "b8025d5d-52ab-4234-ae8f-652c203a00ad",
   "metadata": {},
   "outputs": [],
   "source": [
    "!unzip -o ../model/trained_tech_classifier_model.joblib.zip -d ../model/"
   ]
  },
  {
   "cell_type": "markdown",
   "id": "8d22abdc-368d-4d0b-b8d7-f5dfa42e581c",
   "metadata": {},
   "source": [
    "## Extract entities and classify"
   ]
  },
  {
   "cell_type": "code",
   "execution_count": null,
   "id": "c3ebd5d6-836c-4079-ba1f-9c6c500b59a8",
   "metadata": {},
   "outputs": [],
   "source": [
    "model = joblib.load('../model/trained_tech_classifier_model.joblib')\n",
    "nlp = sp.load('en_core_sci_lg')"
   ]
  },
  {
   "cell_type": "code",
   "execution_count": null,
   "id": "e137f772-9151-4a9e-bcb5-bb34de26ea61",
   "metadata": {},
   "outputs": [],
   "source": [
    "#sbir_df.info()"
   ]
  },
  {
   "cell_type": "code",
   "execution_count": null,
   "id": "72036088-f10c-41c1-a894-c8ca56444001",
   "metadata": {},
   "outputs": [],
   "source": [
    "#Resolve Nulls for Abstracts by assigning an empty value '' to allow the entity extraction process to work without removing the rows\n",
    "sbir_df[sbir_df['Abstract'].isna()] = ''\n",
    "sbir_df['Abstract'].astype('string')\n",
    "sbir_df.info()"
   ]
  },
  {
   "cell_type": "code",
   "execution_count": null,
   "id": "b6ad0d85-472e-4d5d-bda1-ea8f8e4e04c2",
   "metadata": {},
   "outputs": [],
   "source": [
    "#sbir_df[sbir_df['Abstract'].isna()]"
   ]
  },
  {
   "cell_type": "code",
   "execution_count": null,
   "id": "9571d01f-97ab-458c-bba4-a837c36b50e7",
   "metadata": {},
   "outputs": [],
   "source": [
    "%%time\n",
    "sbir_df['abstract_entities'] = sph.extract_tech_entities(nlp, model, sbir_df['Abstract'])"
   ]
  },
  {
   "cell_type": "code",
   "execution_count": null,
   "id": "7a2223b1-e767-4094-a70a-4b1d96526002",
   "metadata": {},
   "outputs": [],
   "source": [
    "sbir_df.to_csv('../preprocessed_files/sbir_entities.csv')"
   ]
  },
  {
   "cell_type": "code",
   "execution_count": null,
   "id": "31578318-6958-4af5-977a-ec2d36de8bbd",
   "metadata": {},
   "outputs": [],
   "source": [
    "#sbir_df = sbir_df.drop(['Abstract'],axis=1)"
   ]
  },
  {
   "cell_type": "code",
   "execution_count": null,
   "id": "86830051-1fc0-4209-97ab-9c093752e279",
   "metadata": {},
   "outputs": [],
   "source": [
    "sbir_df.to_csv('../preprocessed_files/sbir_entities1.csv')"
   ]
  },
  {
   "cell_type": "code",
   "execution_count": null,
   "id": "a48fc8a8-eb49-4ea6-bcca-a3c6f5be650e",
   "metadata": {},
   "outputs": [],
   "source": [
    "sbir_df.columns"
   ]
  },
  {
   "cell_type": "markdown",
   "id": "b309f4c2-e403-4498-9be0-ecf3c3415789",
   "metadata": {},
   "source": [
    "## Create small output files\n",
    "Since the dataframe is large, need to breakdown into smaller chunks for upload to github"
   ]
  },
  {
   "cell_type": "code",
   "execution_count": null,
   "id": "5a70884c-8620-4916-a810-1c3a8515a36b",
   "metadata": {},
   "outputs": [],
   "source": [
    "chunksize = 22000 # number of rows per chunk\n",
    "num_chunks = len(sbir_df)//chunksize + 1"
   ]
  },
  {
   "cell_type": "code",
   "execution_count": null,
   "id": "b0205991-4fcd-4edc-a1bb-38a484170cc7",
   "metadata": {},
   "outputs": [],
   "source": [
    "output_directory = '../preprocessed_files/'\n",
    "base_filename = \"sbir_entities_\"\n",
    "\n",
    "# Write the DataFrame into multiple small files\n",
    "for i in range(num_chunks):\n",
    "    start_idx = i * chunksize\n",
    "    end_idx = (i + 1) * chunksize\n",
    "    chunk_dataframe = sbir_df.iloc[start_idx:end_idx]\n",
    "    \n",
    "    # Formulate the output filename for each chunk\n",
    "    output_filename = f\"{output_directory}{base_filename}{i + 1}.csv\"\n",
    "    \n",
    "    # Write the chunk to a CSV file\n",
    "    chunk_dataframe.to_csv(output_filename, index=False)"
   ]
  },
  {
   "cell_type": "code",
   "execution_count": null,
   "id": "2997f21f-af93-472f-a7f9-f1d1ad65399f",
   "metadata": {},
   "outputs": [],
   "source": []
  }
 ],
 "metadata": {
  "kernelspec": {
   "display_name": "Python 3 (ipykernel)",
   "language": "python",
   "name": "python3"
  },
  "language_info": {
   "codemirror_mode": {
    "name": "ipython",
    "version": 3
   },
   "file_extension": ".py",
   "mimetype": "text/x-python",
   "name": "python",
   "nbconvert_exporter": "python",
   "pygments_lexer": "ipython3",
   "version": "3.9.13"
  }
 },
 "nbformat": 4,
 "nbformat_minor": 5
}
