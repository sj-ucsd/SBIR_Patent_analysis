{
 "cells": [
  {
   "cell_type": "markdown",
   "id": "8a87a134-a902-46f1-8439-c1f1bc4e7f82",
   "metadata": {},
   "source": [
    "## Generate simularity scoring for technical entities in the SBIR and Patent data sets\n",
    "\n"
   ]
  },
  {
   "cell_type": "code",
   "execution_count": 7,
   "id": "951f0802-168a-49a0-8530-10989fb9f853",
   "metadata": {},
   "outputs": [
    {
     "name": "stdout",
     "output_type": "stream",
     "text": [
      "Name: pyjedai\n",
      "Version: 0.1.3\n",
      "Summary: An open-source library that builds powerful end-to-end Entity Resolution workflows.\n",
      "Home-page: \n",
      "Author: \n",
      "Author-email: Konstantinos Nikoletos <nikoletos.kon@gmail.com>, George Papadakis <gpapadis84@gmail.com>, Jakub Maciejewski <jacobb.maciejewski@gmail.com>, Manolis Koubarakis <koubarak@di.uoa.gr>\n",
      "License: Apache Software License 2.0\n",
      "Location: /home/laben/anaconda3/lib/python3.9/site-packages\n",
      "Requires: faiss-cpu, gensim, matplotlib, matplotlib-inline, networkx, nltk, numpy, optuna, ordered-set, pandas, pandas-profiling, pandocfilters, plotly, py-stringmatching, PyYAML, rdflib, rdfpandas, regex, scipy, seaborn, sentence-transformers, strsim, strsimpy, tomli, tqdm, transformers, valentine\n",
      "Required-by: \n"
     ]
    }
   ],
   "source": [
    "#!pip install pyjedai -U\n",
    "#!pip show pyjedai"
   ]
  },
  {
   "cell_type": "code",
   "execution_count": 18,
   "id": "2e24b723-2ee0-4a3c-b058-d53f8f7a07d3",
   "metadata": {},
   "outputs": [],
   "source": [
    "import os\n",
    "import sys\n",
    "import pandas as pd\n",
    "import networkx\n",
    "from networkx import draw, Graph\n",
    "\n",
    "from pyjedai.utils import print_clusters, print_blocks, print_candidate_pairs\n",
    "from pyjedai.evaluation import Evaluation\n",
    "\n",
    "from pyjedai.datamodel import Data\n",
    "from pyjedai.joins import EJoin, TopKJoin\n",
    "from pyjedai.clustering import ConnectedComponentsClustering"
   ]
  },
  {
   "cell_type": "code",
   "execution_count": 5,
   "id": "1bcabe4d-3c50-4290-889f-ee7ca02ed725",
   "metadata": {},
   "outputs": [],
   "source": [
    "sbir_df = pd.read_csv('../preprocessed_files/sbir_entities.csv')"
   ]
  },
  {
   "cell_type": "code",
   "execution_count": 6,
   "id": "90b41367-791d-49cd-a3cf-e22eeafa4148",
   "metadata": {},
   "outputs": [
    {
     "data": {
      "text/html": [
       "<div>\n",
       "<style scoped>\n",
       "    .dataframe tbody tr th:only-of-type {\n",
       "        vertical-align: middle;\n",
       "    }\n",
       "\n",
       "    .dataframe tbody tr th {\n",
       "        vertical-align: top;\n",
       "    }\n",
       "\n",
       "    .dataframe thead th {\n",
       "        text-align: right;\n",
       "    }\n",
       "</style>\n",
       "<table border=\"1\" class=\"dataframe\">\n",
       "  <thead>\n",
       "    <tr style=\"text-align: right;\">\n",
       "      <th></th>\n",
       "      <th>Unnamed: 0</th>\n",
       "      <th>Company</th>\n",
       "      <th>Award Title</th>\n",
       "      <th>Agency</th>\n",
       "      <th>Branch</th>\n",
       "      <th>Phase</th>\n",
       "      <th>Program</th>\n",
       "      <th>Agency Tracking Number</th>\n",
       "      <th>Contract</th>\n",
       "      <th>Proposal Award Date</th>\n",
       "      <th>...</th>\n",
       "      <th>Contact Phone</th>\n",
       "      <th>Contact Email</th>\n",
       "      <th>PI Name</th>\n",
       "      <th>PI Title</th>\n",
       "      <th>PI Phone</th>\n",
       "      <th>PI Email</th>\n",
       "      <th>RI Name</th>\n",
       "      <th>RI POC Name</th>\n",
       "      <th>RI POC Phone</th>\n",
       "      <th>abstract_entities</th>\n",
       "    </tr>\n",
       "  </thead>\n",
       "  <tbody>\n",
       "    <tr>\n",
       "      <th>0</th>\n",
       "      <td>145112</td>\n",
       "      <td>NEUROBEHAVIORAL SYSTEMS INC</td>\n",
       "      <td>NaN</td>\n",
       "      <td>Department of Health and Human Services</td>\n",
       "      <td>National Institutes of Health</td>\n",
       "      <td>Phase I</td>\n",
       "      <td>SBIR</td>\n",
       "      <td>1R43NS040623-01</td>\n",
       "      <td>NaN</td>\n",
       "      <td>NaN</td>\n",
       "      <td>...</td>\n",
       "      <td>(510) 653-3461</td>\n",
       "      <td>DLWOODS@NEUROBEHAVIORALSYSTEMS.COM</td>\n",
       "      <td>PETER PEBLER</td>\n",
       "      <td>NaN</td>\n",
       "      <td>() -</td>\n",
       "      <td>NaN</td>\n",
       "      <td>NaN</td>\n",
       "      <td>NaN</td>\n",
       "      <td>NaN</td>\n",
       "      <td>['transponder', 'multiple frequency band', 'mi...</td>\n",
       "    </tr>\n",
       "    <tr>\n",
       "      <th>1</th>\n",
       "      <td>106926</td>\n",
       "      <td>Applied EM Inc.</td>\n",
       "      <td>An Integrated Antenna Set for Software Radios</td>\n",
       "      <td>Department of Defense</td>\n",
       "      <td>Navy</td>\n",
       "      <td>Phase II</td>\n",
       "      <td>SBIR</td>\n",
       "      <td>N032-0588</td>\n",
       "      <td>N68335-05-C-0421</td>\n",
       "      <td>09/30/2005</td>\n",
       "      <td>...</td>\n",
       "      <td>(757) 224-2035</td>\n",
       "      <td>cjreddy@appliedem.com</td>\n",
       "      <td>C. Reddy</td>\n",
       "      <td>President &amp; Chief Technic</td>\n",
       "      <td>(757) 224-2035</td>\n",
       "      <td>cjreddy@appliedem.com</td>\n",
       "      <td>NaN</td>\n",
       "      <td>NaN</td>\n",
       "      <td>NaN</td>\n",
       "      <td>['Tactical radio system', 'wideband antenna se...</td>\n",
       "    </tr>\n",
       "    <tr>\n",
       "      <th>2</th>\n",
       "      <td>126831</td>\n",
       "      <td>SIGMA SYSTEMS RESEARCH, INC.</td>\n",
       "      <td>Integrated Data Fusion and Decision Support fo...</td>\n",
       "      <td>Department of Defense</td>\n",
       "      <td>Missile Defense Agency</td>\n",
       "      <td>Phase II</td>\n",
       "      <td>SBIR</td>\n",
       "      <td>01-0494</td>\n",
       "      <td>F3361502C4028</td>\n",
       "      <td>NaN</td>\n",
       "      <td>...</td>\n",
       "      <td>(703) 582-0638</td>\n",
       "      <td>sigma@sigma-sys.com</td>\n",
       "      <td>Alan Hadjarian</td>\n",
       "      <td>Senior Scientist</td>\n",
       "      <td>(703) 385-5677</td>\n",
       "      <td>ahadjarian@sigma-sys.com</td>\n",
       "      <td>NaN</td>\n",
       "      <td>NaN</td>\n",
       "      <td>NaN</td>\n",
       "      <td>['datum fusion', 'decision support', 'decision...</td>\n",
       "    </tr>\n",
       "    <tr>\n",
       "      <th>3</th>\n",
       "      <td>25069</td>\n",
       "      <td>MIKEL INC</td>\n",
       "      <td>Non-collinear Wave-front Curvature Range Measu...</td>\n",
       "      <td>Department of Defense</td>\n",
       "      <td>Navy</td>\n",
       "      <td>Phase II</td>\n",
       "      <td>SBIR</td>\n",
       "      <td>N021-0353</td>\n",
       "      <td>N68335-19-C-0091</td>\n",
       "      <td>11/21/2018</td>\n",
       "      <td>...</td>\n",
       "      <td>(508) 523-6832</td>\n",
       "      <td>craig.cameron@mikelinc.com</td>\n",
       "      <td>TOM NORTHARDT, Ph.D. TOM NORTHARDT, Ph.D.</td>\n",
       "      <td>PROJECT ENGINEER / PRINCIPAL INVESTIGATOR</td>\n",
       "      <td>(401) 846-1462</td>\n",
       "      <td>tom.northardt@mikelinc.com</td>\n",
       "      <td>NaN</td>\n",
       "      <td>NaN</td>\n",
       "      <td>NaN</td>\n",
       "      <td>['goal phase', 'information', 'submarine', 'ac...</td>\n",
       "    </tr>\n",
       "    <tr>\n",
       "      <th>4</th>\n",
       "      <td>83500</td>\n",
       "      <td>MOSAIC ATM, INC.</td>\n",
       "      <td>Autonomous Command, Control and Communication ...</td>\n",
       "      <td>Department of Defense</td>\n",
       "      <td>Air Force</td>\n",
       "      <td>Phase II</td>\n",
       "      <td>SBIR</td>\n",
       "      <td>F073-089-1634</td>\n",
       "      <td>FA8650-09-C-3910</td>\n",
       "      <td>03/19/2009</td>\n",
       "      <td>...</td>\n",
       "      <td>(800) 405-8576</td>\n",
       "      <td>stevenson@mosaicatm.com</td>\n",
       "      <td>Chris Brinton</td>\n",
       "      <td>President and Principal A</td>\n",
       "      <td>(703) 737-7637</td>\n",
       "      <td>brinton@mosaicatm.com</td>\n",
       "      <td>NaN</td>\n",
       "      <td>NaN</td>\n",
       "      <td>NaN</td>\n",
       "      <td>['current', 'paradigm management', 'traffic', ...</td>\n",
       "    </tr>\n",
       "  </tbody>\n",
       "</table>\n",
       "<p>5 rows × 43 columns</p>\n",
       "</div>"
      ],
      "text/plain": [
       "   Unnamed: 0                       Company  \\\n",
       "0      145112   NEUROBEHAVIORAL SYSTEMS INC   \n",
       "1      106926               Applied EM Inc.   \n",
       "2      126831  SIGMA SYSTEMS RESEARCH, INC.   \n",
       "3       25069                     MIKEL INC   \n",
       "4       83500              MOSAIC ATM, INC.   \n",
       "\n",
       "                                         Award Title  \\\n",
       "0                                                NaN   \n",
       "1      An Integrated Antenna Set for Software Radios   \n",
       "2  Integrated Data Fusion and Decision Support fo...   \n",
       "3  Non-collinear Wave-front Curvature Range Measu...   \n",
       "4  Autonomous Command, Control and Communication ...   \n",
       "\n",
       "                                    Agency                         Branch  \\\n",
       "0  Department of Health and Human Services  National Institutes of Health   \n",
       "1                    Department of Defense                           Navy   \n",
       "2                    Department of Defense         Missile Defense Agency   \n",
       "3                    Department of Defense                           Navy   \n",
       "4                    Department of Defense                      Air Force   \n",
       "\n",
       "      Phase Program Agency Tracking Number          Contract  \\\n",
       "0   Phase I    SBIR        1R43NS040623-01               NaN   \n",
       "1  Phase II    SBIR              N032-0588  N68335-05-C-0421   \n",
       "2  Phase II    SBIR                01-0494     F3361502C4028   \n",
       "3  Phase II    SBIR              N021-0353  N68335-19-C-0091   \n",
       "4  Phase II    SBIR          F073-089-1634  FA8650-09-C-3910   \n",
       "\n",
       "  Proposal Award Date  ...   Contact Phone  \\\n",
       "0                 NaN  ...  (510) 653-3461   \n",
       "1          09/30/2005  ...  (757) 224-2035   \n",
       "2                 NaN  ...  (703) 582-0638   \n",
       "3          11/21/2018  ...  (508) 523-6832   \n",
       "4          03/19/2009  ...  (800) 405-8576   \n",
       "\n",
       "                        Contact Email  \\\n",
       "0  DLWOODS@NEUROBEHAVIORALSYSTEMS.COM   \n",
       "1               cjreddy@appliedem.com   \n",
       "2                 sigma@sigma-sys.com   \n",
       "3          craig.cameron@mikelinc.com   \n",
       "4             stevenson@mosaicatm.com   \n",
       "\n",
       "                                     PI Name  \\\n",
       "0                               PETER PEBLER   \n",
       "1                                   C. Reddy   \n",
       "2                             Alan Hadjarian   \n",
       "3  TOM NORTHARDT, Ph.D. TOM NORTHARDT, Ph.D.   \n",
       "4                              Chris Brinton   \n",
       "\n",
       "                                    PI Title        PI Phone  \\\n",
       "0                                        NaN            () -   \n",
       "1                  President & Chief Technic  (757) 224-2035   \n",
       "2                           Senior Scientist  (703) 385-5677   \n",
       "3  PROJECT ENGINEER / PRINCIPAL INVESTIGATOR  (401) 846-1462   \n",
       "4                  President and Principal A  (703) 737-7637   \n",
       "\n",
       "                     PI Email RI Name  RI POC Name RI POC Phone  \\\n",
       "0                         NaN     NaN          NaN          NaN   \n",
       "1       cjreddy@appliedem.com     NaN          NaN          NaN   \n",
       "2    ahadjarian@sigma-sys.com     NaN          NaN          NaN   \n",
       "3  tom.northardt@mikelinc.com     NaN          NaN          NaN   \n",
       "4       brinton@mosaicatm.com     NaN          NaN          NaN   \n",
       "\n",
       "                                   abstract_entities  \n",
       "0  ['transponder', 'multiple frequency band', 'mi...  \n",
       "1  ['Tactical radio system', 'wideband antenna se...  \n",
       "2  ['datum fusion', 'decision support', 'decision...  \n",
       "3  ['goal phase', 'information', 'submarine', 'ac...  \n",
       "4  ['current', 'paradigm management', 'traffic', ...  \n",
       "\n",
       "[5 rows x 43 columns]"
      ]
     },
     "execution_count": 6,
     "metadata": {},
     "output_type": "execute_result"
    }
   ],
   "source": [
    "sbir_df.head()"
   ]
  },
  {
   "cell_type": "code",
   "execution_count": 16,
   "id": "4741cfae-76a2-46d4-814c-089a09cbc251",
   "metadata": {},
   "outputs": [],
   "source": [
    "attr = ['abstract_entities']\n",
    "data = Data(\n",
    "    dataset_1=sbir_df,\n",
    "    id_column_name_1='Unnamed: 0',\n",
    "    #ground_truth=gt,\n",
    "    attributes_1=attr\n",
    ")"
   ]
  },
  {
   "cell_type": "code",
   "execution_count": 19,
   "id": "d2609863-21f6-4cf6-9387-a31d8cdf13cc",
   "metadata": {},
   "outputs": [
    {
     "data": {
      "application/vnd.jupyter.widget-view+json": {
       "model_id": "b17deccd39e54c96b55006c1e3661627",
       "version_major": 2,
       "version_minor": 0
      },
      "text/plain": [
       "EJoin (jaccard):   0%|          | 0/871 [00:00<?, ?it/s]"
      ]
     },
     "metadata": {},
     "output_type": "display_data"
    }
   ],
   "source": [
    "join = EJoin(similarity_threshold = 0.5,\n",
    "             metric = 'jaccard',\n",
    "             tokenization = 'qgrams_multiset',\n",
    "             qgrams = 2)\n",
    "\n",
    "g = join.fit(data)"
   ]
  },
  {
   "cell_type": "code",
   "execution_count": 28,
   "id": "db809f22-ad62-4169-b93e-273e4db7027d",
   "metadata": {},
   "outputs": [],
   "source": [
    "ec = ConnectedComponentsClustering()\n",
    "clusters = ec.process(g, data, similarity_threshold=0.5)"
   ]
  },
  {
   "cell_type": "code",
   "execution_count": 29,
   "id": "b5202367-53a1-4627-8011-fb42111bdf46",
   "metadata": {},
   "outputs": [
    {
     "name": "stdout",
     "output_type": "stream",
     "text": [
      "[{0}, {1, 2, 3, 4, 5, 6, 7, 9, 11, 12, 13, 14, 16, 17, 19, 20, 22, 23, 24, 25, 26, 27, 28, 30, 31, 32, 33, 35, 36, 37, 38, 39, 41, 42, 44, 45, 46, 47, 50, 51, 52, 53, 54, 55, 56, 58, 59, 60, 61, 62, 64, 65, 66, 67, 68, 69, 70, 71, 72, 73, 75, 76, 77, 78, 79, 80, 83, 84, 85, 86, 89, 90, 91, 92, 93, 95, 96, 98, 99, 100, 101, 102, 103, 106, 107, 111, 112, 113, 114, 115, 116, 117, 119, 120, 121, 122, 123, 124, 125, 126, 127, 128, 129, 131, 132, 133, 135, 138, 141, 143, 146, 147, 148, 150, 152, 153, 154, 155, 156, 157, 158, 160, 161, 163, 164, 165, 166, 167, 169, 171, 172, 173, 174, 175, 176, 177, 179, 180, 181, 182, 184, 185, 188, 190, 191, 192, 193, 194, 195, 196, 197, 198, 199, 200, 203, 204, 206, 207, 208, 209, 210, 211, 212, 213, 214, 215, 220, 221, 222, 223, 224, 225, 227, 228, 229, 230, 231, 232, 234, 235, 237, 238, 239, 240, 241, 242, 243, 244, 246, 247, 248, 249, 250, 251, 253, 254, 255, 256, 257, 258, 259, 260, 262, 263, 266, 267, 270, 271, 272, 273, 274, 277, 278, 280, 281, 283, 284, 285, 286, 287, 288, 289, 291, 292, 293, 294, 295, 296, 297, 298, 300, 301, 302, 303, 304, 306, 307, 308, 309, 310, 311, 312, 313, 315, 317, 318, 319, 320, 321, 324, 325, 326, 327, 330, 331, 332, 333, 335, 338, 339, 340, 341, 342, 343, 344, 345, 346, 347, 348, 349, 350, 351, 352, 353, 354, 355, 356, 357, 360, 361, 362, 364, 366, 368, 369, 370, 371, 374, 375, 376, 377, 378, 379, 380, 381, 382, 383, 384, 385, 387, 388, 389, 390, 393, 394, 395, 396, 397, 398, 401, 402, 403, 405, 406, 408, 409, 410, 411, 412, 413, 414, 415, 416, 417, 418, 420, 421, 422, 424, 425, 427, 428, 429, 430, 431, 432, 433, 437, 438, 440, 441, 443, 445, 446, 448, 449, 451, 453, 454, 455, 456, 457, 458, 459, 460, 461, 462, 465, 466, 467, 468, 469, 470, 471, 472, 473, 475, 476, 477, 479, 480, 481, 482, 484, 485, 486, 487, 488, 489, 490, 491, 492, 493, 495, 496, 497, 498, 499, 500, 501, 502, 503, 504, 505, 506, 507, 510, 512, 513, 514, 516, 517, 518, 519, 522, 523, 524, 527, 528, 529, 530, 531, 532, 533, 534, 536, 537, 538, 539, 541, 542, 543, 545, 546, 547, 548, 549, 550, 551, 552, 553, 554, 555, 557, 559, 560, 561, 562, 563, 564, 566, 567, 568, 569, 571, 572, 573, 575, 576, 577, 578, 580, 581, 583, 584, 586, 587, 588, 589, 590, 592, 593, 594, 595, 596, 597, 598, 599, 602, 603, 605, 607, 608, 609, 610, 611, 612, 613, 614, 615, 616, 618, 622, 623, 624, 625, 626, 627, 630, 631, 633, 635, 636, 637, 638, 640, 641, 643, 644, 645, 646, 647, 648, 649, 650, 651, 652, 653, 654, 655, 656, 657, 658, 660, 661, 662, 665, 666, 667, 668, 669, 670, 671, 672, 674, 675, 676, 677, 678, 680, 681, 682, 683, 685, 686, 687, 688, 689, 690, 691, 692, 694, 695, 696, 697, 700, 701, 702, 703, 704, 705, 706, 707, 708, 710, 711, 713, 714, 715, 716, 717, 719, 721, 722, 723, 724, 727, 728, 729, 731, 732, 733, 735, 738, 739, 740, 741, 742, 743, 744, 745, 747, 749, 750, 751, 752, 754, 755, 756, 759, 761, 763, 765, 767, 768, 769, 770, 771, 773, 775, 776, 777, 778, 779, 780, 781, 782, 783, 784, 785, 786, 787, 788, 789, 790, 792, 793, 794, 795, 796, 797, 798, 799, 801, 802, 803, 804, 805, 806, 808, 810, 811, 812, 814, 816, 817, 818, 819, 821, 822, 823, 824, 825, 826, 827, 828, 829, 830, 831, 833, 835, 836, 837, 838, 839, 840, 842, 843, 844, 845, 846, 847, 849, 850, 851, 852, 853, 854, 855, 856, 857, 858, 859, 860, 861, 863, 864, 865, 866, 867, 868, 869}, {8}, {10}, {15}, {18}, {21}, {29}, {34}, {40}, {43}, {48}, {49}, {57}, {63}, {74}, {81}, {82}, {87}, {88}, {94}, {97}, {104}, {105}, {108}, {109}, {110}, {118}, {130}, {134}, {136}, {137}, {139}, {140}, {142}, {144}, {145}, {149}, {726, 151}, {159}, {162}, {168}, {170}, {178}, {183}, {186}, {187}, {189}, {201}, {202}, {205}, {216}, {217}, {218}, {219}, {226}, {233}, {236}, {245}, {252}, {261}, {264}, {265}, {268}, {269}, {275}, {276}, {279}, {282}, {290}, {299}, {305}, {314}, {316}, {322}, {323}, {328}, {329}, {334}, {336}, {337}, {358}, {359}, {363}, {365}, {367}, {372}, {373}, {386}, {391}, {392}, {399}, {400}, {404}, {407}, {419}, {423}, {426}, {434}, {435}, {436}, {439}, {442}, {444}, {447}, {450}, {452}, {463}, {464}, {474}, {478}, {483}, {494}, {508}, {509}, {511}, {515}, {520}, {521}, {525}, {526}, {535}, {540}, {544}, {556}, {558}, {565}, {570}, {574}, {579}, {582}, {585}, {591}, {600}, {601}, {604}, {606}, {617}, {619}, {620}, {621}, {628}, {629}, {632}, {634}, {639}, {642}, {659}, {663}, {664}, {673}, {679}, {684}, {693}, {698}, {699}, {709}, {712}, {718}, {720}, {725}, {730}, {734}, {736}, {737}, {746}, {748}, {753}, {757}, {758}, {760}, {762}, {764}, {766}, {772}, {774}, {791}, {800}, {807}, {809}, {813}, {815}, {820}, {832}, {834}, {841}, {848}, {862}, {870}]\n"
     ]
    }
   ],
   "source": [
    "print(clusters)"
   ]
  },
  {
   "cell_type": "code",
   "execution_count": 23,
   "id": "749e96b0-4630-41a0-9cc8-4371684d0f4a",
   "metadata": {},
   "outputs": [
    {
     "ename": "ValueError",
     "evalue": "Invalid call for scalar access (setting)!",
     "output_type": "error",
     "traceback": [
      "\u001b[0;31m---------------------------------------------------------------------------\u001b[0m",
      "\u001b[0;31mValueError\u001b[0m                                Traceback (most recent call last)",
      "Input \u001b[0;32mIn [23]\u001b[0m, in \u001b[0;36m<cell line: 4>\u001b[0;34m()\u001b[0m\n\u001b[1;32m      1\u001b[0m \u001b[38;5;66;03m#assign clusters to the data frame\u001b[39;00m\n\u001b[1;32m      2\u001b[0m \u001b[38;5;66;03m#sbir_df.insert(1,'ClusterID', -1, True)\u001b[39;00m\n\u001b[1;32m      4\u001b[0m \u001b[38;5;28;01mfor\u001b[39;00m i \u001b[38;5;129;01min\u001b[39;00m \u001b[38;5;28mrange\u001b[39m(\u001b[38;5;241m0\u001b[39m,\u001b[38;5;28mlen\u001b[39m(clusters)):\n\u001b[0;32m----> 5\u001b[0m     sbir_df\u001b[38;5;241m.\u001b[39mat[\u001b[38;5;28mtuple\u001b[39m(clusters[i]),\u001b[38;5;124m'\u001b[39m\u001b[38;5;124mClusterID\u001b[39m\u001b[38;5;124m'\u001b[39m] \u001b[38;5;241m=\u001b[39m i\n",
      "File \u001b[0;32m~/anaconda3/lib/python3.9/site-packages/pandas/core/indexing.py:2425\u001b[0m, in \u001b[0;36m_AtIndexer.__setitem__\u001b[0;34m(self, key, value)\u001b[0m\n\u001b[1;32m   2422\u001b[0m \u001b[38;5;28;01mif\u001b[39;00m \u001b[38;5;28mself\u001b[39m\u001b[38;5;241m.\u001b[39mndim \u001b[38;5;241m==\u001b[39m \u001b[38;5;241m2\u001b[39m \u001b[38;5;129;01mand\u001b[39;00m \u001b[38;5;129;01mnot\u001b[39;00m \u001b[38;5;28mself\u001b[39m\u001b[38;5;241m.\u001b[39m_axes_are_unique:\n\u001b[1;32m   2423\u001b[0m     \u001b[38;5;66;03m# GH#33041 fall back to .loc\u001b[39;00m\n\u001b[1;32m   2424\u001b[0m     \u001b[38;5;28;01mif\u001b[39;00m \u001b[38;5;129;01mnot\u001b[39;00m \u001b[38;5;28misinstance\u001b[39m(key, \u001b[38;5;28mtuple\u001b[39m) \u001b[38;5;129;01mor\u001b[39;00m \u001b[38;5;129;01mnot\u001b[39;00m \u001b[38;5;28mall\u001b[39m(is_scalar(x) \u001b[38;5;28;01mfor\u001b[39;00m x \u001b[38;5;129;01min\u001b[39;00m key):\n\u001b[0;32m-> 2425\u001b[0m         \u001b[38;5;28;01mraise\u001b[39;00m \u001b[38;5;167;01mValueError\u001b[39;00m(\u001b[38;5;124m\"\u001b[39m\u001b[38;5;124mInvalid call for scalar access (setting)!\u001b[39m\u001b[38;5;124m\"\u001b[39m)\n\u001b[1;32m   2427\u001b[0m     \u001b[38;5;28mself\u001b[39m\u001b[38;5;241m.\u001b[39mobj\u001b[38;5;241m.\u001b[39mloc[key] \u001b[38;5;241m=\u001b[39m value\n\u001b[1;32m   2428\u001b[0m     \u001b[38;5;28;01mreturn\u001b[39;00m\n",
      "\u001b[0;31mValueError\u001b[0m: Invalid call for scalar access (setting)!"
     ]
    }
   ],
   "source": [
    "#assign clusters to the data frame\n",
    "#sbir_df.insert(1,'ClusterID', -1, True)\n",
    "\n",
    "for i in range(0,len(clusters)):\n",
    "    sbir_df.at[tuple(clusters[i]),'ClusterID'] = i"
   ]
  },
  {
   "cell_type": "code",
   "execution_count": null,
   "id": "b8220e7e-2058-493e-9382-f1630bdb297c",
   "metadata": {},
   "outputs": [],
   "source": []
  }
 ],
 "metadata": {
  "kernelspec": {
   "display_name": "Python 3 (ipykernel)",
   "language": "python",
   "name": "python3"
  },
  "language_info": {
   "codemirror_mode": {
    "name": "ipython",
    "version": 3
   },
   "file_extension": ".py",
   "mimetype": "text/x-python",
   "name": "python",
   "nbconvert_exporter": "python",
   "pygments_lexer": "ipython3",
   "version": "3.9.13"
  }
 },
 "nbformat": 4,
 "nbformat_minor": 5
}
