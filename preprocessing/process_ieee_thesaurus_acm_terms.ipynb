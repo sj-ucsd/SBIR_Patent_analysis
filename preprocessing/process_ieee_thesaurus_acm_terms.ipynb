{
 "cells": [
  {
   "cell_type": "markdown",
   "id": "6d5a91ba-9d15-40c5-8f30-e2cb25c31db6",
   "metadata": {},
   "source": [
    "# Process IEEE Thesaurus and ACM vocabulary. \n",
    "\n",
    "This notebook needs to be processed only once. Output is stored as a text file with technical terms from both the sources (IEEE and ACM). \n"
   ]
  },
  {
   "cell_type": "code",
   "execution_count": 13,
   "id": "b8c1e233-dcba-4384-a044-188e4e429a13",
   "metadata": {},
   "outputs": [],
   "source": [
    "#Install JSON Path as necessary\n",
    "#!pip install jsonpath-ng\n",
    "#!pip install bs4"
   ]
  },
  {
   "cell_type": "code",
   "execution_count": 14,
   "id": "3fe8fecb-db7a-497e-a4e8-4da580a69f92",
   "metadata": {},
   "outputs": [],
   "source": [
    "import re\n",
    "from jsonpath_ng.ext import parse  \n",
    "import json\n",
    "from bs4 import BeautifulSoup"
   ]
  },
  {
   "cell_type": "markdown",
   "id": "6267dd8a-b22a-4779-a9fa-e0aa9e8c9dfd",
   "metadata": {},
   "source": [
    "## IEEE Thesaurus processing\n",
    "IEEE thesaurus is only available in PDF format. First convert pdf to text using online tools.\n",
    "Part of extraction, need to remove headers/footers from the text and remove any classification. The IEEE thesausrus (pdf) can be downlaoded from https://www.ieee.org/publications/services/thesaurus-access-page.html "
   ]
  },
  {
   "cell_type": "code",
   "execution_count": 15,
   "id": "c6e1f6be-d904-4458-969f-5f713f138c9e",
   "metadata": {},
   "outputs": [],
   "source": [
    " # PS update the path location\n",
    "with open('../input_files/ieee-thesaurus.txt','r') as f:\n",
    "    lines = f.readlines()"
   ]
  },
  {
   "cell_type": "code",
   "execution_count": 16,
   "id": "c61fad68-8a87-4890-a87e-85ac7316d6a9",
   "metadata": {},
   "outputs": [],
   "source": [
    "# remove all header/footer lines, remove unnecessary characters/new lines, empty lines etc\n",
    "pattern = r'\\x0cJULY 2023 IEEE Thesaurus\\n'\n",
    "lines= [re.sub(pattern,'',line) for line in lines]\n",
    "pattern = r'^\\s*This work is licensed under the Creative Commons.*$'\n",
    "lines= [re.sub(pattern,'',line) for line in lines]\n",
    "pattern = pattern = r'^\\s*International License.*$'\n",
    "lines= [re.sub(pattern,'',line) for line in lines]\n",
    "pattern = r'Engineers.*$'\n",
    "lines= [re.sub(pattern,'',line) for line in lines]\n",
    "#pattern = r'[BT:,RT:,NT:,UF:,USE:]'\n",
    "pattern = r'BT:'\n",
    "lines= [re.sub(pattern,'',line) for line in lines]\n",
    "pattern = r'RT:'\n",
    "lines= [re.sub(pattern,'',line) for line in lines]\n",
    "pattern = r'NT:'\n",
    "lines= [re.sub(pattern,'',line) for line in lines]\n",
    "pattern = r'USE:'\n",
    "lines= [re.sub(pattern,'',line) for line in lines]\n",
    "pattern = r'UF:'\n",
    "lines= [re.sub(pattern,'',line) for line in lines]\n",
    "lines = [re.sub('\\n','',line) for line in lines]\n",
    "lines = [re.sub('Page.*$','',line) for line in lines]\n",
    "lines = [line for line in lines if line.strip()]"
   ]
  },
  {
   "cell_type": "code",
   "execution_count": 17,
   "id": "7cf79371-d640-4aa7-87c5-e1b07f5077ce",
   "metadata": {},
   "outputs": [
    {
     "data": {
      "text/plain": [
       "(12476,\n",
       " ['APCVD',\n",
       "  'Active noise reduction',\n",
       "  'Transportation industry',\n",
       "  'Particle beam',\n",
       "  'Optical flow'],\n",
       " ['Engineering in medicine and biology',\n",
       "  'Headphones',\n",
       "  'Cobalt alloys',\n",
       "  'Diffusion processes',\n",
       "  'Semiconductor-insulator'])"
      ]
     },
     "execution_count": 17,
     "metadata": {},
     "output_type": "execute_result"
    }
   ],
   "source": [
    "lines = list(set(lines[58:])) # remove the headerlines\n",
    "# Take a peek at the output\n",
    "len(lines), lines[:5], lines[-5:]"
   ]
  },
  {
   "cell_type": "code",
   "execution_count": 18,
   "id": "1cf93708-139b-4379-98ab-fcce22f40e02",
   "metadata": {},
   "outputs": [],
   "source": [
    "with open('../preprocessed_files/ieee_tech_words.txt','w') as nf:\n",
    "    nf.writelines('\\n'.join(map(str, lines)))"
   ]
  },
  {
   "cell_type": "markdown",
   "id": "2dc558fb-91c4-4057-9caa-eac0c5832b0b",
   "metadata": {},
   "source": [
    "## ACM processing\n",
    "ACM words are available in json format but have HTML tags that need to be removed. ACM vocabulary in json format can be downloaded from:https://csrc.nist.gov/glossary "
   ]
  },
  {
   "cell_type": "code",
   "execution_count": 19,
   "id": "ca09a800",
   "metadata": {},
   "outputs": [],
   "source": [
    "# PS update the path location\n",
    "with open('../input_files/glossary-export.json','r',encoding='utf-8-sig') as f:\n",
    "    gtext = json.load(f)"
   ]
  },
  {
   "cell_type": "code",
   "execution_count": 20,
   "id": "d2a1b164-36db-48ca-aba8-233a4befe61a",
   "metadata": {},
   "outputs": [],
   "source": [
    "# extract terms using json path. We are only interested in the term\n",
    "jpexpr = parse(\"parentTerms..term\")\n",
    "terms = [match.value for match in jpexpr.find(gtext)]"
   ]
  },
  {
   "cell_type": "code",
   "execution_count": 21,
   "id": "9cd78b62-98c4-403b-8c3f-ec82f0a6cbae",
   "metadata": {},
   "outputs": [
    {
     "data": {
      "text/plain": [
       "['(EC)DH',\n",
       " '(p, t)-completeness',\n",
       " '(t + k)-way combination coverage',\n",
       " '.csv',\n",
       " '[<i>T</i>]<sub>2</sub>']"
      ]
     },
     "execution_count": 21,
     "metadata": {},
     "output_type": "execute_result"
    }
   ],
   "source": [
    "terms[:5]"
   ]
  },
  {
   "cell_type": "code",
   "execution_count": 22,
   "id": "275f10cd-d165-4e7a-aef2-76bbf5714ded",
   "metadata": {},
   "outputs": [
    {
     "name": "stdout",
     "output_type": "stream",
     "text": [
      "['(EC)DH', '(p, t)-completeness', '(t + k)-way combination coverage', '.csv', '[T]2']\n"
     ]
    }
   ],
   "source": [
    "# remove HTML tags\n",
    "acm_terms = []\n",
    "for term in terms:\n",
    "    if '<' in term:\n",
    "        soup = BeautifulSoup(term, 'html.parser')\n",
    "        text_content = soup.get_text()\n",
    "    else:\n",
    "        text_content = term\n",
    "    acm_terms.append(text_content)\n",
    "print(acm_terms[:5])\n",
    "acm_terms = list(set(acm_terms))"
   ]
  },
  {
   "cell_type": "code",
   "execution_count": 23,
   "id": "ae558720-604c-4a92-98fa-ab471cdddf46",
   "metadata": {},
   "outputs": [
    {
     "data": {
      "text/plain": [
       "(21649,\n",
       " ['APCVD',\n",
       "  'Particle beam',\n",
       "  'Publish/subscrbe systems',\n",
       "  'Computer integrated manufacturing',\n",
       "  'United States Government Configuration Baseline (USGCB)'])"
      ]
     },
     "execution_count": 23,
     "metadata": {},
     "output_type": "execute_result"
    }
   ],
   "source": [
    "# append tech terms to IEEE words list\n",
    "tech_terms = list(set(lines + acm_terms))\n",
    "len(tech_terms), tech_terms[:5]"
   ]
  },
  {
   "cell_type": "code",
   "execution_count": 24,
   "id": "a12e4758-9b31-4146-8cb0-ac61ecc48089",
   "metadata": {},
   "outputs": [],
   "source": [
    "# Store output in a technology terms file\n",
    "with open('../preprocessed_files/tech_terms.txt','w') as f:\n",
    "    f.writelines('\\n'.join(map(str, tech_terms)))"
   ]
  },
  {
   "cell_type": "code",
   "execution_count": null,
   "id": "1bab6a8d-76e1-4e7d-a1d8-43faff9778d8",
   "metadata": {},
   "outputs": [],
   "source": []
  }
 ],
 "metadata": {
  "kernelspec": {
   "display_name": "Python 3 (ipykernel)",
   "language": "python",
   "name": "python3"
  },
  "language_info": {
   "codemirror_mode": {
    "name": "ipython",
    "version": 3
   },
   "file_extension": ".py",
   "mimetype": "text/x-python",
   "name": "python",
   "nbconvert_exporter": "python",
   "pygments_lexer": "ipython3",
   "version": "3.9.13"
  }
 },
 "nbformat": 4,
 "nbformat_minor": 5
}
