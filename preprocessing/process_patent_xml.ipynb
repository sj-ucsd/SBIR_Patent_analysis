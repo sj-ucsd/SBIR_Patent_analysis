{
 "cells": [
  {
   "cell_type": "code",
   "execution_count": 1,
   "id": "28270307-88d2-47cf-97c9-32329e593dc0",
   "metadata": {},
   "outputs": [],
   "source": [
    "from lxml import etree"
   ]
  },
  {
   "cell_type": "code",
   "execution_count": 70,
   "id": "dd8b6b4d-fbc0-47a8-91b5-1af9d7aee34e",
   "metadata": {},
   "outputs": [
    {
     "data": {
      "text/plain": [
       "[{'country': 'US',\n",
       "  'doc-number': 20230225235,\n",
       "  'title': 'AGRICULTURAL TRENCH DEPTH SYSTEMS, METHODS, AND APPARATUS',\n",
       "  'assignee': {'orgname': 'Precision Planting LLC',\n",
       "   'city': 'Tremont',\n",
       "   'state': 'IL',\n",
       "   'country': 'US'},\n",
       "  'inventors': [{'last-name': 'Sloneker',\n",
       "    'first-name': 'Dillon',\n",
       "    'city': 'Danvers',\n",
       "    'state': 'IL',\n",
       "    'country': 'US'},\n",
       "   {'last-name': 'Hodel',\n",
       "    'first-name': 'Jeremy J.',\n",
       "    'city': 'Morton',\n",
       "    'state': 'IL',\n",
       "    'country': 'US'},\n",
       "   {'last-name': 'Schlipf', 'first-name': 'Ben L.', 'country': 'US'}],\n",
       "  'abstract': '\\nA row unit (10) of an agricultural planter with an apparatus for adjusting the depth of a trench opened by the row unit (10). The row unit (10) includes a trench depth adjustment assembly (90T) configured to modify the trench depth. The trench depth adjustment assembly (90T) includes a depth adjustment body (5044) pivotally connected via a pivot to a frame member (14) of the row unit (10). An electric motor (5030) is operable to cause rotation of a shaft (5038) operably coupled with the depth adjustment body (5044), whereby rotation of the shaft (5038) causes the depth adjustment body (5044) to pivotally move about the pivot (92) thereby changing a position of contact of the depth adjustment body (5044) with a gauge wheel arm (54), thus changing the amount of upward ravel of the gauge wheel (52) with respect to a trench opening disc (62) and thus the depth of the trench.\\n',\n",
       "  'claims': 'a row unit frame;\\na furrow opening disc rotatably supported by said row unit frame for opening a furrow in a soil surface as the row unit frame advances in a forward direction of travel;\\na gauge wheel disposed adjacent to said furrow opening disc and pivotably supported from said row unit frame by a gauge wheel arm such that said gauge wheel is displaceable with respect to said furrow opening disc;\\na depth adjustment assembly, including:\\na depth adjustment body pivotally connected via a pivot to said row unit frame, said depth adjustment body disposed to engage said gauge wheel arm to limit an amount of upward travel of said gauge wheel with respect to said furrow opening disc;\\na motor operable to cause rotation of a shaft, said shaft operably coupled with said depth adjustment body, whereby rotation of said shaft causes said depth adjustment body to pivotally move about said pivot thereby changing a position of contact of said depth adjustment body with said gauge wheel arm thus changing the amount of upward travel of said gauge wheel with respect to said furrow opening disc;\\nwherein said shaft is rotationally fixed to a cable drum, a cable is attached at one end to said cable drum and said cable is linked at another end to said depth adjustment body.\\n\\n\\n\\nan absolute position sensor disposed to detect a rotational position of one of said, worm gear, said gear wheel, said shaft, and said cable drum.\\n\\n\\n\\n\\n\\n\\n\\na rocker connected to said depth adjustment body and engaging said gauge wheel arm.\\n\\n\\n\\n'},\n",
       " {'country': 'US',\n",
       "  'doc-number': 20230225236,\n",
       "  'title': 'Agricultural Attachment for Cultivating Row Crops',\n",
       "  'assignee': {'orgname': 'Amazonen-Werke H. Dreyer SE & Co. KG',\n",
       "   'city': 'Hasbergen',\n",
       "   'country': 'DE'},\n",
       "  'inventors': [{'last-name': 'RESCH',\n",
       "    'first-name': 'Rainer',\n",
       "    'city': 'Hagen a TW',\n",
       "    'country': 'DE'},\n",
       "   {'last-name': 'MAHLER', 'first-name': 'Tom', 'country': 'US'}],\n",
       "  'abstract': '\\nThe invention relates to an agricultural attachment for cultivating row crops, comprising a row-detection device designed to detect, during a cultivation process, locations and/or courses of rows of plants on farmland, and a signal generating device designed to generate steering commands for a drive vehicle to which the attachment is attached, in accordance with the locations and/or courses of the rows of plants detected by the row-detection device.\\n',\n",
       "  'claims': 'a row-detection device adapted to detect, during a cultivation process, locations and/or courses of rows of plants on farmland;\\n\\ncharacterized by a signal generating device adapted to generate steering commands for a drive vehicle to which the attachment is attached, in accordance with the locations and/or courses of the rows of plants detected by the row-detection device.\\ncharacterized by a communication device which is adapted to exchange data bidirectionally with a control unit the drive vehicle,\\nwherein the steering commands for the drive vehicle generated by the signal generation device can be transmitted to the drive vehicle the communication device.\\n\\ncharacterized by a plurality of soil cultivating tools spaced apart transversely to the direction of travel,\\nwherein the signal generation device is adapted to generate the steering commands for the drive vehicle to correct relative positions between plant rows and soil cultivating tools.\\n\\ncharacterized by a plurality of spreading elements spaced apart transversely to the direction of travel, wherein the signal generation device is adapted to generate the steering commands for the drive vehicle to correct relative positions between plant rows and spreading elements.\\n\\ncharacterized in that the signal generation device is adapted to generate speed setting commands for the drive vehicle.\\n\\n\\ncharacterized in that the signal generation device is adapted to generate speed adjustment commands for the drive vehicle as a function of the locations and/or courses of plant rows detected by the row detection device.\\ncharacterized by an evaluation device which is adapted to evaluate the result of the cultivation of the row crops during a cultivation process with regard to at least one cultivation criterion which is dependent on the driving speed,\\nwherein the signal generation device is adapted to generate speed setting commands for the drive vehicle as a function of the result of the processing of the row crops evaluated by the evaluation device.\\n\\ncharacterized by a rotation rate sensor adapted to detect a change in alignment of the attachment relative to the longitudinal direction of the plant rows,\\n\\nwherein the row-detection device is adapted to detect the locations and/or courses of plant rows on the farmland taking into account the change in alignment of the attachment detected by the rotation rate sensor.\\ncharacterized by an inclination sensor which is adapted to detect an inclination of the attachment relative to a horizontal plane, the ground of the farmland, a leaf canopy and/or a crop top,\\ncharacterized in that the signal generation device is adapted to generate the steering commands for the drive vehicle also as a function of the inclination of the attachment detected by the inclination sensor.\\n\\ncharacterized in that the row-detection device comprises one or more cameras, one or more sensors and/or one or more sensing devices for row detection.\\n\\nan agricultural attachment; and\\na drive vehicle on which the attachment is mounted;\\ncharacterized in that the agricultural attachment is configured according to one of the preceding claims, and the drive vehicle is adapted to automatically perform a steering operation based on steering commands from the attachment.\\n\\ndetecting locations and/or courses of plant rows on a farmland during a cultivation process by means of a row-detection device of an agricultural attachment of the agricultural machine assembly;\\n\\ncharacterized by the steps of:\\ngenerating steering commands for a drive vehicle of the machine assembly, on which the attachment is mounted, as a function of the locations and/or courses of plant rows detected by the row-detection device y means of a signal generation device of the attachment;\\ntransmitting steering commands generated by the signal generation device to a control unit of the drive vehicle; and\\nautomatic execution of a steering operation by the drive vehicle based on the transmitted steering commands of the attachment.\\n\\ncharacterized by the step of:\\ngenerating speed setting commands for the drive vehicle by means of the signal generation device of the attachment;\\nwherein generating said speed setting commands is preferably performed as a function of locations and/or courses of plant rows detected by said row-detection device.\\n\\ncharacterized by the step of:\\nevaluating the result of the cultivation of the row crops during a cultivation process with regard to at least one cultivation criterion dependent on the driving speed by means of an evaluation device of the attachment;\\n\\nwherein the generation of the speed setting commands for the drive vehicle preferably takes place as a function of the result of the cultivation of the row crops evaluated by the evaluation device.\\ncharacterized by the step of:\\ndetecting a change in the alignment of the attachment relative to the longitudinal direction of the plant rows by means of a rotation rate sensor of the attachment,\\n\\nwherein detecting the locations and/or courses of plant rows on the farmland is performed taking into account the change in alignment of the attachment detected by the rotation rate sensor.\\n'},\n",
       " {'country': 'US',\n",
       "  'doc-number': 20230225237,\n",
       "  'title': 'TRAVEL LINE CREATION SYSTEM FOR AGRICULTURAL MACHINE',\n",
       "  'assignee': {'orgname': 'KUBOTA CORPORATION',\n",
       "   'city': 'Osaka-shi',\n",
       "   'country': 'JP'},\n",
       "  'inventors': [{'last-name': 'MORIMOTO',\n",
       "    'first-name': 'Takanori',\n",
       "    'city': 'Sakai-shi',\n",
       "    'country': 'JP'},\n",
       "   {'last-name': 'KIKUCHI',\n",
       "    'first-name': 'Ryota',\n",
       "    'city': 'Sakai-shi',\n",
       "    'country': 'JP'},\n",
       "   {'last-name': 'TAMATANI',\n",
       "    'first-name': 'Kenji',\n",
       "    'city': 'Sakai-shi',\n",
       "    'country': 'JP'},\n",
       "   {'last-name': 'YOSHIMURA',\n",
       "    'first-name': 'Fumiya',\n",
       "    'city': 'Sakai-shi',\n",
       "    'country': 'JP'}],\n",
       "  'abstract': '\\nA travel line creation system for an agricultural machine, includes a position acquirer to acquire position measurement points for the agricultural machine, a display, a first generator to associate the position measurement points with a field displayed by the display and generate creation points on the field by shifting the position measurement points inward in an agricultural field, a second generator to create a travel line including a loop which passes through the creation points and calculate each of virtual lines by connecting together adjacent ones of the creation points, and a setter to extract a pair of virtual lines adjacent to each other and extending in different directions and set, as a work point regarding a breakpoint in work performed by a working device, one of the creation points shared by the extracted pair of virtual lines.\\n',\n",
       "  'claims': 'a position acquirer to acquire position measurement points obtained when the agricultural machine to which a working device is attachable makes a round in an agricultural field;\\na display to display a field that represents the agricultural field;\\na first generator to:\\nassociate the position measurement points with the field displayed by the display; and\\ngenerate creation points on the field by shifting the position measurement points inward in the agricultural field;\\n\\na second generator to:\\ncreate a travel line including a loop which passes through the creation points generated by the first generator; and\\ncalculate each of virtual lines by connecting together adjacent ones of the creation points on the travel line; and\\n\\na setter to:\\nextract, from the virtual lines generated by the second generator, a pair of virtual lines adjacent to each other and extending in different directions; and\\nset, as a work point regarding a breakpoint in work performed by the working device, one of the creation points that is shared by the extracted pair of virtual lines.\\n\\n\\nthe setter is operable to, if there are a plurality of the pairs of virtual lines, extract a particular pair of virtual lines defining an angle not less than a criterion value from the plurality of pairs of virtual lines, and set, as the work point, one of the creation points that is shared by the extracted particular pair of virtual lines.\\n\\nthe setter is operable to, if there are candidates for the work point, extract a particular pair of virtual lines defining an internal angle less than 180° from a plurality of the extracted pairs of virtual lines, and set, as the work point, one of the creation points that is shared by the extracted particular pair of virtual lines.\\n\\nthe setter is operable to, if there are candidates for the work point, set, as the work point, one of the candidates that is nearest to an entrance-and-exit of the agricultural field.\\n\\n\\n\\nthe second generator is operable to generate, as a plurality of the travel lines, paths adjacent to each other in a direction from a central portion of the field outward; and\\nthe setter is operable to set, respectively for the paths adjacent to each other, a plurality of the work points at different positions in a direction in which the paths extend.\\n\\nthe travel line creation system according to \\n\\n'},\n",
       " {'country': 'US',\n",
       "  'doc-number': 20230225238,\n",
       "  'title': 'AGRICULTURAL HARVESTING MACHINE WITH PRE-EMERGENCE WEED DETECTION AND MITIGATION SYSTEM',\n",
       "  'assignee': {'orgname': 'Deere & Company',\n",
       "   'city': 'Moline',\n",
       "   'state': 'IL',\n",
       "   'country': 'US'},\n",
       "  'inventors': [{'last-name': 'BLANK',\n",
       "    'first-name': 'Sebastian',\n",
       "    'city': 'Moline',\n",
       "    'state': 'IL',\n",
       "    'country': 'US'},\n",
       "   {'last-name': 'HAMMER',\n",
       "    'first-name': 'Curtis R.',\n",
       "    'city': 'Bettendorf',\n",
       "    'state': 'IA',\n",
       "    'country': 'US'},\n",
       "   {'last-name': 'ANDERSON',\n",
       "    'first-name': 'Noel W.',\n",
       "    'city': 'Fargo',\n",
       "    'state': 'ND',\n",
       "    'country': 'US'},\n",
       "   {'last-name': 'PFEIFFER',\n",
       "    'first-name': 'Dohn W.',\n",
       "    'city': 'Bettendorf',\n",
       "    'state': 'IA',\n",
       "    'country': 'US'},\n",
       "   {'last-name': 'ADVANI',\n",
       "    'first-name': 'Gurmukh H.',\n",
       "    'city': 'West Fargo',\n",
       "    'state': 'ND',\n",
       "    'country': 'US'}],\n",
       "  'abstract': '\\nAn agricultural harvesting machine includes crop processing functionality configured to engage crop in a field, perform a crop processing operation on the crop, and move the processed crop to a harvested crop repository, and a control system configured to identify a weed seed area indicating presence of weed seeds, and generate a control signal associated with a pre-emergence weed seed treatment operation based on the identified weed seed area.\\n',\n",
       "  'claims': 'crop processing functionality configured to engage crop in a field, perform a crop processing operation on the crop to obtain processed crop, and move the processed crop to a harvested crop repository; and\\na control system configured to:\\nidentify a weed seed area indicating presence of weed seeds based on a weed seed movement model that projects likely locations of the weed seeds given a location of one or more weed plants in the field that produced the weed seeds; and\\ngenerate a control signal associated with a pre-emergence weed seed treatment operation on the weed seeds, prior to emergence of the weed seeds, based on the weed seed area.\\n\\n\\nwhen a weed plant that carried the weed seeds is cut by the agricultural harvesting machine, and\\nthe weed seeds are discharged on to the surface of the field by the agricultural harvesting machine.\\n\\n\\n\\n\\n\\n\\n\\n\\na weed seed collector configured to collect the weed seeds.\\n\\n\\na weed seed burier configured to bury the weed seeds in the field,\\na weed seed crusher configured to mechanically crush the weed seeds,\\na thermal weed seed treatment device configured to thermally treat the weed seeds, or\\na chemical weed seed treatment device configured to chemically treat the weed seeds.\\n\\na display device to display an indication of the weed seed area to an operator, or\\na data storage device to store an indication of the weed seed area.\\n\\n\\nan imaging sensor, wherein the weed seed area is identified based on one or more images, obtained from the imaging sensor, of the field in a path of the agricultural harvesting machine.\\n\\na weed seed detector configured to detect weed seeds, wherein the weed seed area is identified based on a weed seed presence signal received from the weed seed detector.\\n\\nobtaining a weed seed movement model that models movement of weed seeds during a crop processing operation that engages crop in a field and moves the processed crop to a harvested crop repository;\\nidentifying a weed seed area based on the weed seed movement model; and\\ngenerating a control signal associated with a pre-emergence weed seed treatment operation based on the weed seed area.\\n\\nobtaining a weed map that identifies weed area in the field; and\\napplying the weed seed movement model to determining movement of the weed seeds from the identified weed area; and\\nidentifying the weed area based on the determined movement.\\n\\nthe agricultural machine comprises a harvesting machine,\\nthe crop processing operation comprises a harvesting operation, and\\nthe weed seed movement model is based on at least one of: \\nenvironment data representing an environment of the field during the harvesting operation,\\nterrain data representing a terrain of the field, or\\nharvesting machine data representing machine operating characteristics of the harvesting machine used to perform the harvesting operation.\\n\\n\\nat least one processor; and\\nmemory storing instructions executable by the at least one processor, wherein the instructions, when executed, cause the control system to:\\ncontrol crop processing functionality of the agricultural harvesting machine to engage crop in a field, perform a crop processing operation on the crop to obtain processed crop, and move the processed crop to a harvested crop repository;\\nidentify a weed seed area indicating presence of weed seeds based on a weed seed movement model that projects likely locations of the weed seeds given a location of one or more weed plants in the field that produced the weed seeds; and\\ngenerate a control signal associated with a pre-emergence weed seed treatment operation on the weed seeds, prior to emergence of the weed seeds, based on the weed seed area.\\n\\n\\n\\n'}]"
      ]
     },
     "execution_count": 70,
     "metadata": {},
     "output_type": "execute_result"
    }
   ],
   "source": [
    "patent = []\n",
    "claims = \"\"\n",
    "tags = ['publication-reference','invention-title','us-applicant','inventors','abstract','claims']\n",
    "doc_number = 0\n",
    "mydict = dict()\n",
    "for _, element in etree.iterparse('ip2.xml', tag=tags):\n",
    "    if element.tag == 'publication-reference':\n",
    "        if mydict:\n",
    "            patent.append(mydict)\n",
    "        mydict = dict()\n",
    "        for elem in element.iter('doc-number','country'):\n",
    "            if elem.tag == 'doc-number':\n",
    "                mydict[elem.tag] = int(elem.text)\n",
    "            else:\n",
    "                mydict[elem.tag] = elem.text\n",
    "        element.clear()\n",
    "    elif element.tag == 'invention-title':\n",
    "        mydict['title'] = element.text\n",
    "        element.clear()\n",
    "    elif element.tag == 'us-applicant':\n",
    "        subdict = dict()\n",
    "        for e in element.iter('orgname','city','state','country'):\n",
    "            subdict[e.tag] = e.text\n",
    "        mydict['assignee'] = subdict\n",
    "        element.clear()\n",
    "    elif element.tag == 'inventors':\n",
    "        mydict['inventors'] = []\n",
    "        for elem in element.iter('inventor'):\n",
    "            subdict = dict()\n",
    "            for e in elem.iter('first-name','last-name','city','state','country'):\n",
    "                subdict[e.tag] = e.text\n",
    "            mydict['inventors'].append(subdict)\n",
    "        element.clear()\n",
    "    elif element.tag == 'abstract':\n",
    "        mydict['abstract'] = ''.join([text for text in element.itertext() if element.tag not in ('b', 'i', 'u')])\n",
    "        element.clear()\n",
    "    elif element.tag == 'claims':\n",
    "        mydict['claims'] = ''.join([text for text in element.itertext('claim-text') if element.tag not in ('b', 'i', 'u')])\n",
    "        element.clear()\n",
    "\n",
    "patent.append(mydict) # append last one\n",
    "patent"
   ]
  },
  {
   "cell_type": "code",
   "execution_count": 65,
   "id": "15f79fac-bdcf-429e-94ee-448f635cea0b",
   "metadata": {},
   "outputs": [
    {
     "data": {
      "text/plain": [
       "'[{\"country\": \"US\", \"doc-number\": 20230225235, \"title\": \"AGRICULTURAL TRENCH DEPTH SYSTEMS, METHODS, AND APPARATUS\", \"assignee\": {\"orgname\": \"Precision Planting LLC\", \"city\": \"Tremont\", \"state\": \"IL\", \"country\": \"US\"}, \"inventors\": [{\"last-name\": \"Schlipf\", \"first-name\": \"Ben L.\", \"city\": \"Morton\", \"state\": \"IL\", \"country\": \"US\"}, {\"last-name\": \"Schlipf\", \"first-name\": \"Ben L.\", \"city\": \"Morton\", \"state\": \"IL\", \"country\": \"US\"}, {\"last-name\": \"Schlipf\", \"first-name\": \"Ben L.\", \"city\": \"Morton\", \"state\": \"IL\", \"country\": \"US\"}], \"abstract\": \"\\\\nA row unit (10) of an agricultural planter with an apparatus for adjusting the depth of a trench opened by the row unit (10). The row unit (10) includes a trench depth adjustment assembly (90T) configured to modify the trench depth. The trench depth adjustment assembly (90T) includes a depth adjustment body (5044) pivotally connected via a pivot to a frame member (14) of the row unit (10). An electric motor (5030) is operable to cause rotation of a shaft (5038) operably coupled with the depth adjustment body (5044), whereby rotation of the shaft (5038) causes the depth adjustment body (5044) to pivotally move about the pivot (92) thereby changing a position of contact of the depth adjustment body (5044) with a gauge wheel arm (54), thus changing the amount of upward ravel of the gauge wheel (52) with respect to a trench opening disc (62) and thus the depth of the trench.\\\\n\"}, {\"country\": \"US\", \"doc-number\": 20230225236, \"title\": \"Agricultural Attachment for Cultivating Row Crops\", \"assignee\": {\"orgname\": \"Amazonen-Werke H. Dreyer SE & Co. KG\", \"city\": \"Hasbergen\", \"country\": \"DE\"}, \"inventors\": [{\"last-name\": \"MAHLER\", \"first-name\": \"Tom\", \"city\": \"Hagen a TW\", \"country\": \"US\"}, {\"last-name\": \"MAHLER\", \"first-name\": \"Tom\", \"city\": \"Hagen a TW\", \"country\": \"US\"}], \"abstract\": \"\\\\nThe invention relates to an agricultural attachment for cultivating row crops, comprising a row-detection device designed to detect, during a cultivation process, locations and/or courses of rows of plants on farmland, and a signal generating device designed to generate steering commands for a drive vehicle to which the attachment is attached, in accordance with the locations and/or courses of the rows of plants detected by the row-detection device.\\\\n\"}, {\"country\": \"US\", \"doc-number\": 20230225237, \"title\": \"TRAVEL LINE CREATION SYSTEM FOR AGRICULTURAL MACHINE\", \"assignee\": {\"orgname\": \"KUBOTA CORPORATION\", \"city\": \"Osaka-shi\", \"country\": \"JP\"}, \"inventors\": [{\"last-name\": \"YOSHIMURA\", \"first-name\": \"Fumiya\", \"city\": \"Sakai-shi\", \"country\": \"JP\"}, {\"last-name\": \"YOSHIMURA\", \"first-name\": \"Fumiya\", \"city\": \"Sakai-shi\", \"country\": \"JP\"}, {\"last-name\": \"YOSHIMURA\", \"first-name\": \"Fumiya\", \"city\": \"Sakai-shi\", \"country\": \"JP\"}, {\"last-name\": \"YOSHIMURA\", \"first-name\": \"Fumiya\", \"city\": \"Sakai-shi\", \"country\": \"JP\"}], \"abstract\": \"\\\\nA travel line creation system for an agricultural machine, includes a position acquirer to acquire position measurement points for the agricultural machine, a display, a first generator to associate the position measurement points with a field displayed by the display and generate creation points on the field by shifting the position measurement points inward in an agricultural field, a second generator to create a travel line including a loop which passes through the creation points and calculate each of virtual lines by connecting together adjacent ones of the creation points, and a setter to extract a pair of virtual lines adjacent to each other and extending in different directions and set, as a work point regarding a breakpoint in work performed by a working device, one of the creation points shared by the extracted pair of virtual lines.\\\\n\"}, {\"country\": \"US\", \"doc-number\": 20230225238, \"title\": \"AGRICULTURAL HARVESTING MACHINE WITH PRE-EMERGENCE WEED DETECTION AND MITIGATION SYSTEM\", \"assignee\": {\"orgname\": \"Deere & Company\", \"city\": \"Moline\", \"state\": \"IL\", \"country\": \"US\"}, \"inventors\": [{\"last-name\": \"ADVANI\", \"first-name\": \"Gurmukh H.\", \"city\": \"West Fargo\", \"state\": \"ND\", \"country\": \"US\"}, {\"last-name\": \"ADVANI\", \"first-name\": \"Gurmukh H.\", \"city\": \"West Fargo\", \"state\": \"ND\", \"country\": \"US\"}, {\"last-name\": \"ADVANI\", \"first-name\": \"Gurmukh H.\", \"city\": \"West Fargo\", \"state\": \"ND\", \"country\": \"US\"}, {\"last-name\": \"ADVANI\", \"first-name\": \"Gurmukh H.\", \"city\": \"West Fargo\", \"state\": \"ND\", \"country\": \"US\"}, {\"last-name\": \"ADVANI\", \"first-name\": \"Gurmukh H.\", \"city\": \"West Fargo\", \"state\": \"ND\", \"country\": \"US\"}], \"abstract\": \"\\\\nAn agricultural harvesting machine includes crop processing functionality configured to engage crop in a field, perform a crop processing operation on the crop, and move the processed crop to a harvested crop repository, and a control system configured to identify a weed seed area indicating presence of weed seeds, and generate a control signal associated with a pre-emergence weed seed treatment operation based on the identified weed seed area.\\\\n\"}]'"
      ]
     },
     "execution_count": 65,
     "metadata": {},
     "output_type": "execute_result"
    }
   ],
   "source": [
    "import json\n",
    "json.dumps(patent)"
   ]
  }
 ],
 "metadata": {
  "kernelspec": {
   "display_name": "Python 3 (ipykernel)",
   "language": "python",
   "name": "python3"
  },
  "language_info": {
   "codemirror_mode": {
    "name": "ipython",
    "version": 3
   },
   "file_extension": ".py",
   "mimetype": "text/x-python",
   "name": "python",
   "nbconvert_exporter": "python",
   "pygments_lexer": "ipython3",
   "version": "3.9.12"
  }
 },
 "nbformat": 4,
 "nbformat_minor": 5
}
