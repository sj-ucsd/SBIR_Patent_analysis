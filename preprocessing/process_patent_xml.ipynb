{
 "cells": [
  {
   "cell_type": "code",
   "execution_count": 71,
   "id": "28270307-88d2-47cf-97c9-32329e593dc0",
   "metadata": {},
   "outputs": [],
   "source": [
    "from lxml import etree"
   ]
  },
  {
   "cell_type": "code",
   "execution_count": 104,
   "id": "dd8b6b4d-fbc0-47a8-91b5-1af9d7aee34e",
   "metadata": {},
   "outputs": [
    {
     "name": "stdout",
     "output_type": "stream",
     "text": [
      "CPU times: user 2.44 s, sys: 828 ms, total: 3.27 s\n",
      "Wall time: 4.35 s\n"
     ]
    }
   ],
   "source": [
    "%%time\n",
    "patent = []\n",
    "claims = \"\"\n",
    "tags = ['publication-reference','application-reference','invention-title',\\\n",
    "        'us-applicant','inventors','abstract','claims']\n",
    "doc_number = 0\n",
    "mydict = dict()\n",
    "for _, element in etree.iterparse('ip4.xml', tag=tags):\n",
    "    if element.tag == 'publication-reference':\n",
    "        if mydict:\n",
    "            patent.append(mydict)\n",
    "        mydict = dict()\n",
    "        for elem in element.iter('doc-number','country','date'):\n",
    "            if elem.tag == 'doc-number':\n",
    "                mydict[elem.tag] = int(elem.text)\n",
    "            else:\n",
    "                mydict[elem.tag] = elem.text\n",
    "        element.clear()\n",
    "    elif element.tag == 'application-reference':\n",
    "        subdict = dict()\n",
    "        for elem in element.iter('doc-number','country','date'):\n",
    "            if elem.tag == 'doc-number':\n",
    "                subdict[elem.tag] = int(elem.text)\n",
    "            else:\n",
    "                subdict[elem.tag] = elem.text\n",
    "            mydict['application-reference'] = subdict\n",
    "        element.clear()\n",
    "    elif element.tag == 'invention-title':\n",
    "        mydict['title'] = element.text\n",
    "        element.clear()\n",
    "    elif element.tag == 'us-applicant':\n",
    "        subdict = dict()\n",
    "        for e in element.iter('orgname','city','state','country'):\n",
    "            subdict[e.tag] = e.text\n",
    "        mydict['assignee'] = subdict\n",
    "        element.clear()\n",
    "    elif element.tag == 'inventors':\n",
    "        mydict['inventors'] = []\n",
    "        for elem in element.iter('inventor'):\n",
    "            subdict = dict()\n",
    "            for e in elem.iter('first-name','last-name','city','state','country'):\n",
    "                subdict[e.tag] = e.text\n",
    "            mydict['inventors'].append(subdict)\n",
    "        element.clear()\n",
    "    elif element.tag == 'abstract':\n",
    "        mydict['abstract'] = ''.join([text for text in element.itertext() if element.tag not in ('b', 'i', 'u')])\n",
    "        element.clear()\n",
    "    elif element.tag == 'claims':\n",
    "        mydict['claims'] = ''.join([text for text in element.itertext('claim-text') if element.tag not in ('b', 'i', 'u')])\n",
    "        element.clear()\n",
    "\n",
    "patent.append(mydict) # append last one\n",
    "#patent"
   ]
  },
  {
   "cell_type": "code",
   "execution_count": 106,
   "id": "eb189c66-6590-4e3d-9307-2eb7c5e687e0",
   "metadata": {},
   "outputs": [],
   "source": [
    "with open('patents.json', 'w') as json_file:\n",
    "    json.dump(patent, json_file, indent=2) "
   ]
  },
  {
   "cell_type": "code",
   "execution_count": 82,
   "id": "ea9fb58e-57e4-4ca6-afa3-477cc4abd3af",
   "metadata": {},
   "outputs": [
    {
     "name": "stdout",
     "output_type": "stream",
     "text": [
      "publication-reference\n",
      "invention-title\n",
      "us-applicant\n",
      "inventors\n",
      "abstract\n",
      "claims\n"
     ]
    }
   ],
   "source": [
    "for _, element in etree.iterparse('ip1.xml', tag=tags):\n",
    "    print(element.tag)"
   ]
  },
  {
   "cell_type": "code",
   "execution_count": 65,
   "id": "15f79fac-bdcf-429e-94ee-448f635cea0b",
   "metadata": {},
   "outputs": [
    {
     "data": {
      "text/plain": [
       "'[{\"country\": \"US\", \"doc-number\": 20230225235, \"title\": \"AGRICULTURAL TRENCH DEPTH SYSTEMS, METHODS, AND APPARATUS\", \"assignee\": {\"orgname\": \"Precision Planting LLC\", \"city\": \"Tremont\", \"state\": \"IL\", \"country\": \"US\"}, \"inventors\": [{\"last-name\": \"Schlipf\", \"first-name\": \"Ben L.\", \"city\": \"Morton\", \"state\": \"IL\", \"country\": \"US\"}, {\"last-name\": \"Schlipf\", \"first-name\": \"Ben L.\", \"city\": \"Morton\", \"state\": \"IL\", \"country\": \"US\"}, {\"last-name\": \"Schlipf\", \"first-name\": \"Ben L.\", \"city\": \"Morton\", \"state\": \"IL\", \"country\": \"US\"}], \"abstract\": \"\\\\nA row unit (10) of an agricultural planter with an apparatus for adjusting the depth of a trench opened by the row unit (10). The row unit (10) includes a trench depth adjustment assembly (90T) configured to modify the trench depth. The trench depth adjustment assembly (90T) includes a depth adjustment body (5044) pivotally connected via a pivot to a frame member (14) of the row unit (10). An electric motor (5030) is operable to cause rotation of a shaft (5038) operably coupled with the depth adjustment body (5044), whereby rotation of the shaft (5038) causes the depth adjustment body (5044) to pivotally move about the pivot (92) thereby changing a position of contact of the depth adjustment body (5044) with a gauge wheel arm (54), thus changing the amount of upward ravel of the gauge wheel (52) with respect to a trench opening disc (62) and thus the depth of the trench.\\\\n\"}, {\"country\": \"US\", \"doc-number\": 20230225236, \"title\": \"Agricultural Attachment for Cultivating Row Crops\", \"assignee\": {\"orgname\": \"Amazonen-Werke H. Dreyer SE & Co. KG\", \"city\": \"Hasbergen\", \"country\": \"DE\"}, \"inventors\": [{\"last-name\": \"MAHLER\", \"first-name\": \"Tom\", \"city\": \"Hagen a TW\", \"country\": \"US\"}, {\"last-name\": \"MAHLER\", \"first-name\": \"Tom\", \"city\": \"Hagen a TW\", \"country\": \"US\"}], \"abstract\": \"\\\\nThe invention relates to an agricultural attachment for cultivating row crops, comprising a row-detection device designed to detect, during a cultivation process, locations and/or courses of rows of plants on farmland, and a signal generating device designed to generate steering commands for a drive vehicle to which the attachment is attached, in accordance with the locations and/or courses of the rows of plants detected by the row-detection device.\\\\n\"}, {\"country\": \"US\", \"doc-number\": 20230225237, \"title\": \"TRAVEL LINE CREATION SYSTEM FOR AGRICULTURAL MACHINE\", \"assignee\": {\"orgname\": \"KUBOTA CORPORATION\", \"city\": \"Osaka-shi\", \"country\": \"JP\"}, \"inventors\": [{\"last-name\": \"YOSHIMURA\", \"first-name\": \"Fumiya\", \"city\": \"Sakai-shi\", \"country\": \"JP\"}, {\"last-name\": \"YOSHIMURA\", \"first-name\": \"Fumiya\", \"city\": \"Sakai-shi\", \"country\": \"JP\"}, {\"last-name\": \"YOSHIMURA\", \"first-name\": \"Fumiya\", \"city\": \"Sakai-shi\", \"country\": \"JP\"}, {\"last-name\": \"YOSHIMURA\", \"first-name\": \"Fumiya\", \"city\": \"Sakai-shi\", \"country\": \"JP\"}], \"abstract\": \"\\\\nA travel line creation system for an agricultural machine, includes a position acquirer to acquire position measurement points for the agricultural machine, a display, a first generator to associate the position measurement points with a field displayed by the display and generate creation points on the field by shifting the position measurement points inward in an agricultural field, a second generator to create a travel line including a loop which passes through the creation points and calculate each of virtual lines by connecting together adjacent ones of the creation points, and a setter to extract a pair of virtual lines adjacent to each other and extending in different directions and set, as a work point regarding a breakpoint in work performed by a working device, one of the creation points shared by the extracted pair of virtual lines.\\\\n\"}, {\"country\": \"US\", \"doc-number\": 20230225238, \"title\": \"AGRICULTURAL HARVESTING MACHINE WITH PRE-EMERGENCE WEED DETECTION AND MITIGATION SYSTEM\", \"assignee\": {\"orgname\": \"Deere & Company\", \"city\": \"Moline\", \"state\": \"IL\", \"country\": \"US\"}, \"inventors\": [{\"last-name\": \"ADVANI\", \"first-name\": \"Gurmukh H.\", \"city\": \"West Fargo\", \"state\": \"ND\", \"country\": \"US\"}, {\"last-name\": \"ADVANI\", \"first-name\": \"Gurmukh H.\", \"city\": \"West Fargo\", \"state\": \"ND\", \"country\": \"US\"}, {\"last-name\": \"ADVANI\", \"first-name\": \"Gurmukh H.\", \"city\": \"West Fargo\", \"state\": \"ND\", \"country\": \"US\"}, {\"last-name\": \"ADVANI\", \"first-name\": \"Gurmukh H.\", \"city\": \"West Fargo\", \"state\": \"ND\", \"country\": \"US\"}, {\"last-name\": \"ADVANI\", \"first-name\": \"Gurmukh H.\", \"city\": \"West Fargo\", \"state\": \"ND\", \"country\": \"US\"}], \"abstract\": \"\\\\nAn agricultural harvesting machine includes crop processing functionality configured to engage crop in a field, perform a crop processing operation on the crop, and move the processed crop to a harvested crop repository, and a control system configured to identify a weed seed area indicating presence of weed seeds, and generate a control signal associated with a pre-emergence weed seed treatment operation based on the identified weed seed area.\\\\n\"}]'"
      ]
     },
     "execution_count": 65,
     "metadata": {},
     "output_type": "execute_result"
    }
   ],
   "source": [
    "import json\n",
    "json.dumps(patent)"
   ]
  },
  {
   "cell_type": "code",
   "execution_count": 101,
   "id": "12eabd93-35c9-4234-a76e-c1cbac325ed9",
   "metadata": {},
   "outputs": [
    {
     "ename": "XMLSyntaxError",
     "evalue": "Opening and ending tag mismatch: c line 4 and root, line 6, column 8 (xml_data.xml, line 6)",
     "output_type": "error",
     "traceback": [
      "Traceback \u001b[0;36m(most recent call last)\u001b[0m:\n",
      "\u001b[0m  File \u001b[1;32m~/anaconda3/lib/python3.9/site-packages/IPython/core/interactiveshell.py:3505\u001b[0m in \u001b[1;35mrun_code\u001b[0m\n    exec(code_obj, self.user_global_ns, self.user_ns)\u001b[0m\n",
      "\u001b[0m  Cell \u001b[1;32mIn[101], line 1\u001b[0m\n    for event, element in etree.iterparse('xml_data.xml',events=['start','end']):\u001b[0m\n",
      "\u001b[0m  File \u001b[1;32msrc/lxml/iterparse.pxi:210\u001b[0m in \u001b[1;35mlxml.etree.iterparse.__next__\u001b[0m\n",
      "\u001b[0m  File \u001b[1;32msrc/lxml/iterparse.pxi:195\u001b[0m in \u001b[1;35mlxml.etree.iterparse.__next__\u001b[0m\n",
      "\u001b[0m  File \u001b[1;32msrc/lxml/iterparse.pxi:230\u001b[0m in \u001b[1;35mlxml.etree.iterparse._read_more_events\u001b[0m\n",
      "\u001b[0m  File \u001b[1;32msrc/lxml/parser.pxi:1379\u001b[0m in \u001b[1;35mlxml.etree._FeedParser.feed\u001b[0m\n",
      "\u001b[0m  File \u001b[1;32msrc/lxml/parser.pxi:609\u001b[0m in \u001b[1;35mlxml.etree._ParserContext._handleParseResult\u001b[0m\n",
      "\u001b[0m  File \u001b[1;32msrc/lxml/parser.pxi:618\u001b[0m in \u001b[1;35mlxml.etree._ParserContext._handleParseResultDoc\u001b[0m\n",
      "\u001b[0m  File \u001b[1;32msrc/lxml/parser.pxi:728\u001b[0m in \u001b[1;35mlxml.etree._handleParseResult\u001b[0m\n",
      "\u001b[0;36m  File \u001b[0;32msrc/lxml/parser.pxi:657\u001b[0;36m in \u001b[0;35mlxml.etree._raiseParseError\u001b[0;36m\n",
      "\u001b[0;36m  File \u001b[0;32mxml_data.xml:6\u001b[0;36m\u001b[0m\n\u001b[0;31m    </root>\u001b[0m\n\u001b[0m          ^\u001b[0m\n\u001b[0;31mXMLSyntaxError\u001b[0m\u001b[0;31m:\u001b[0m Opening and ending tag mismatch: c line 4 and root, line 6, column 8\n"
     ]
    }
   ],
   "source": [
    "for event, element in etree.iterparse('xml_data.xml',events=['start','end']):\n",
    "    element.get('c')\n"
   ]
  },
  {
   "cell_type": "code",
   "execution_count": 102,
   "id": "32b78f62-44e3-48b9-9464-edd77df3db3e",
   "metadata": {},
   "outputs": [
    {
     "ename": "XMLSyntaxError",
     "evalue": "Opening and ending tag mismatch: skipped_item line 6 and root, line 8, column 8 (<string>, line 8)",
     "output_type": "error",
     "traceback": [
      "Traceback \u001b[0;36m(most recent call last)\u001b[0m:\n",
      "\u001b[0m  File \u001b[1;32m~/anaconda3/lib/python3.9/site-packages/IPython/core/interactiveshell.py:3505\u001b[0m in \u001b[1;35mrun_code\u001b[0m\n    exec(code_obj, self.user_global_ns, self.user_ns)\u001b[0m\n",
      "\u001b[0m  Cell \u001b[1;32mIn[102], line 18\u001b[0m\n    root = etree.fromstring(xml_content)\u001b[0m\n",
      "\u001b[0m  File \u001b[1;32msrc/lxml/etree.pyx:3257\u001b[0m in \u001b[1;35mlxml.etree.fromstring\u001b[0m\n",
      "\u001b[0m  File \u001b[1;32msrc/lxml/parser.pxi:1916\u001b[0m in \u001b[1;35mlxml.etree._parseMemoryDocument\u001b[0m\n",
      "\u001b[0m  File \u001b[1;32msrc/lxml/parser.pxi:1796\u001b[0m in \u001b[1;35mlxml.etree._parseDoc\u001b[0m\n",
      "\u001b[0m  File \u001b[1;32msrc/lxml/parser.pxi:1085\u001b[0m in \u001b[1;35mlxml.etree._BaseParser._parseUnicodeDoc\u001b[0m\n",
      "\u001b[0m  File \u001b[1;32msrc/lxml/parser.pxi:618\u001b[0m in \u001b[1;35mlxml.etree._ParserContext._handleParseResultDoc\u001b[0m\n",
      "\u001b[0m  File \u001b[1;32msrc/lxml/parser.pxi:728\u001b[0m in \u001b[1;35mlxml.etree._handleParseResult\u001b[0m\n",
      "\u001b[0;36m  File \u001b[0;32msrc/lxml/parser.pxi:657\u001b[0;36m in \u001b[0;35mlxml.etree._raiseParseError\u001b[0;36m\n",
      "\u001b[0;36m  File \u001b[0;32m<string>:8\u001b[0;36m\u001b[0m\n\u001b[0;31mXMLSyntaxError\u001b[0m\u001b[0;31m:\u001b[0m Opening and ending tag mismatch: skipped_item line 6 and root, line 8, column 8\n"
     ]
    }
   ],
   "source": [
    "from lxml import etree\n",
    "\n",
    "xml_content = \"\"\"\n",
    "<root>\n",
    "    <item>1</item>\n",
    "    <item>2</item>\n",
    "    <item>3</item>\n",
    "    <skipped_item>4\n",
    "    <item>5</item>\n",
    "</root>\n",
    "\"\"\"\n",
    "\n",
    "# Function to check if the element has a closing tag\n",
    "def has_closing_tag(element):\n",
    "    return element.text and '</' + element.tag + '>' in element.tail\n",
    "\n",
    "# Parse the XML content\n",
    "root = etree.fromstring(xml_content)\n",
    "\n",
    "# Iterate over elements using iterparse\n",
    "for event, element in etree.iterparse(root, events=('start', 'end')):\n",
    "    if event == 'start':\n",
    "        # Process start events\n",
    "        print(f\"Start: {element.tag}\")\n",
    "    elif event == 'end':\n",
    "        # Process end events\n",
    "        print(f\"End: {element.tag}\")\n",
    "\n",
    "        # Check if the element has a closing tag\n",
    "        if not has_closing_tag(element):\n",
    "            print(f\"Skipping incomplete element: {element.tag}\")\n",
    "            element.clear()  # Clear the element to free memory\n",
    "            continue\n",
    "\n",
    "        # Your processing logic here for non-skipped tags\n",
    "\n",
    "# Clean up the remaining memory used by the context\n",
    "del root\n"
   ]
  },
  {
   "cell_type": "code",
   "execution_count": 103,
   "id": "d9836978-98ff-4840-8f9a-53d56e6961f8",
   "metadata": {},
   "outputs": [
    {
     "ename": "TypeError",
     "evalue": "expected str, bytes or os.PathLike object, not _Element",
     "output_type": "error",
     "traceback": [
      "\u001b[0;31m---------------------------------------------------------------------------\u001b[0m",
      "\u001b[0;31mTypeError\u001b[0m                                 Traceback (most recent call last)",
      "Cell \u001b[0;32mIn[103], line 23\u001b[0m\n\u001b[1;32m     20\u001b[0m repaired_root \u001b[38;5;241m=\u001b[39m etree\u001b[38;5;241m.\u001b[39mfromstring(repaired_xml)\n\u001b[1;32m     22\u001b[0m \u001b[38;5;66;03m# Iterate over elements using iterparse\u001b[39;00m\n\u001b[0;32m---> 23\u001b[0m \u001b[38;5;28;01mfor\u001b[39;00m event, element \u001b[38;5;129;01min\u001b[39;00m \u001b[43metree\u001b[49m\u001b[38;5;241;43m.\u001b[39;49m\u001b[43miterparse\u001b[49m\u001b[43m(\u001b[49m\u001b[43mrepaired_root\u001b[49m\u001b[43m,\u001b[49m\u001b[43m \u001b[49m\u001b[43mevents\u001b[49m\u001b[38;5;241;43m=\u001b[39;49m\u001b[43m(\u001b[49m\u001b[38;5;124;43m'\u001b[39;49m\u001b[38;5;124;43mstart\u001b[39;49m\u001b[38;5;124;43m'\u001b[39;49m\u001b[43m,\u001b[49m\u001b[43m \u001b[49m\u001b[38;5;124;43m'\u001b[39;49m\u001b[38;5;124;43mend\u001b[39;49m\u001b[38;5;124;43m'\u001b[39;49m\u001b[43m)\u001b[49m\u001b[43m)\u001b[49m:\n\u001b[1;32m     24\u001b[0m     \u001b[38;5;28;01mif\u001b[39;00m event \u001b[38;5;241m==\u001b[39m \u001b[38;5;124m'\u001b[39m\u001b[38;5;124mstart\u001b[39m\u001b[38;5;124m'\u001b[39m:\n\u001b[1;32m     25\u001b[0m         \u001b[38;5;28mprint\u001b[39m(\u001b[38;5;124mf\u001b[39m\u001b[38;5;124m\"\u001b[39m\u001b[38;5;124mStart: \u001b[39m\u001b[38;5;132;01m{\u001b[39;00melement\u001b[38;5;241m.\u001b[39mtag\u001b[38;5;132;01m}\u001b[39;00m\u001b[38;5;124m\"\u001b[39m)\n",
      "File \u001b[0;32msrc/lxml/iterparse.pxi:79\u001b[0m, in \u001b[0;36mlxml.etree.iterparse.__init__\u001b[0;34m()\u001b[0m\n",
      "\u001b[0;31mTypeError\u001b[0m: expected str, bytes or os.PathLike object, not _Element"
     ]
    }
   ],
   "source": [
    "from lxml import etree, html\n",
    "\n",
    "xml_content = \"\"\"\n",
    "<root>\n",
    "    <item>1</item>\n",
    "    <item>2</item>\n",
    "    <item>3</item>\n",
    "    <skipped_item>4\n",
    "    <item>5</item>\n",
    "</root>\n",
    "\"\"\"\n",
    "\n",
    "# Use the HTML parser with recovery mode to handle incomplete XML\n",
    "root = html.fromstring(xml_content)\n",
    "\n",
    "# Convert the HTML tree back to XML\n",
    "repaired_xml = etree.tostring(root, method='xml', encoding='utf-8').decode('utf-8')\n",
    "\n",
    "# Parse the repaired XML\n",
    "repaired_root = etree.fromstring(repaired_xml)\n",
    "\n",
    "# Iterate over elements using iterparse\n",
    "for event, element in etree.iterparse(repaired_root, events=('start', 'end')):\n",
    "    if event == 'start':\n",
    "        print(f\"Start: {element.tag}\")\n",
    "    elif event == 'end':\n",
    "        print(f\"End: {element.tag}\")\n",
    "\n",
    "# Clean up the remaining memory used by the context\n",
    "del repaired_root"
   ]
  },
  {
   "cell_type": "code",
   "execution_count": null,
   "id": "9b13f606-4311-4fe7-a0f9-414fbdab88ce",
   "metadata": {},
   "outputs": [],
   "source": []
  }
 ],
 "metadata": {
  "kernelspec": {
   "display_name": "Python 3 (ipykernel)",
   "language": "python",
   "name": "python3"
  },
  "language_info": {
   "codemirror_mode": {
    "name": "ipython",
    "version": 3
   },
   "file_extension": ".py",
   "mimetype": "text/x-python",
   "name": "python",
   "nbconvert_exporter": "python",
   "pygments_lexer": "ipython3",
   "version": "3.9.12"
  }
 },
 "nbformat": 4,
 "nbformat_minor": 5
}
