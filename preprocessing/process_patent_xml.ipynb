{
 "cells": [
  {
   "cell_type": "markdown",
   "id": "e9ab3621-24de-4b76-a071-449094a6f8e7",
   "metadata": {},
   "source": [
    "# Process the patent XML file\n",
    "This notebook \n",
    "1. extracts necessary fields from the large patent text XML file. \n",
    "2. extract technical terms from the patent abstract and claims.\n",
    "\n",
    "The input patent file is downloaded from https://bulkdata.uspto.gov/data/patent/application/redbook/fulltext/2023/ipa230720.zip \n",
    "The file is large hence not available in the repository. Download ahead of running this notebook. "
   ]
  },
  {
   "cell_type": "markdown",
   "id": "ba6943c9-0b2f-4bbe-af56-c3a784f9ed2f",
   "metadata": {},
   "source": [
    "unzipping the above ipa230720.zip file will give ipa230720.xml. Since this is almost a 1GB file, we will use etree iterparse instead of loading the entire file into memory.\n",
    "\n",
    "The file itself is not usable for following reasons:\n",
    "1. The file does not have a root xml node. Instead it contains individual patent documents appended. This means the etree parsor cannot be used directly. \n",
    "2. There are certain lines like <?xml version=\"1.0\" encoding=\"UTF-8\"?> and <!DOCTYPE us-patent-application SYSTEM \"us-patent-application-v46-2022-02-17.dtd\" [ ]> that need to be removed (parser has a problem parsing these lines)\n",
    "3. While most patents start with <us-patent-application tag, some don't. Some of these have <sequence-cwu. Further Some these don't have end tags hence causing parser errors. All these need to be fixed. \n",
    "\n"
   ]
  },
  {
   "cell_type": "code",
   "execution_count": 1,
   "id": "4224568d-02fe-4065-8b22-0576d6bcde61",
   "metadata": {},
   "outputs": [],
   "source": [
    "# To download en_core_sci_lg language model used for the tests, uncomment and run the following line\n",
    "#!pip install scispacy\n",
    "#!pip install https://s3-us-west-2.amazonaws.com/ai2-s2-scispacy/releases/v0.5.3/en_core_sci_lg-0.5.3.tar.gz \n",
    "#!conda install scipy\n",
    "#!pip install --upgrade scipy #went from 1.7.3 to 1.11.4\n",
    "#!conda list\n",
    "#!pip list"
   ]
  },
  {
   "cell_type": "code",
   "execution_count": 22,
   "id": "adedc22e-1dc6-4cc3-b5d0-771483f90b88",
   "metadata": {},
   "outputs": [],
   "source": [
    "#!conda list"
   ]
  },
  {
   "cell_type": "code",
   "execution_count": 3,
   "id": "1f21b760-7ef7-461c-bcea-9cb5c41fa7ad",
   "metadata": {},
   "outputs": [],
   "source": [
    "import re\n",
    "from lxml import etree\n",
    "import pandas as pd\n",
    "import spacy as sp\n",
    "import import_ipynb\n",
    "import joblib\n",
    "from io import BytesIO\n",
    "import scispacy"
   ]
  },
  {
   "cell_type": "code",
   "execution_count": 4,
   "id": "80d6307f-7d92-42e2-9484-1fd56fbaff5c",
   "metadata": {},
   "outputs": [
    {
     "name": "stdout",
     "output_type": "stream",
     "text": [
      "importing Jupyter notebook from spacy_helper_methods.ipynb\n"
     ]
    }
   ],
   "source": [
    "# Import spacy_helper_methods notebook should be in same directory\n",
    "import spacy_helper_methods as sph"
   ]
  },
  {
   "cell_type": "markdown",
   "id": "5e6e3f57-b3a5-4df5-82eb-a1ef0e5dd725",
   "metadata": {},
   "source": [
    "## Preprocess input file \n",
    "1. remove unnecessary lines from the xml\n",
    "2. replace sequence-cww tags with us-patent-application tags\n",
    "3. "
   ]
  },
  {
   "cell_type": "code",
   "execution_count": 5,
   "id": "e107c57c-bfac-4786-a999-6772503b3f48",
   "metadata": {},
   "outputs": [
    {
     "name": "stdout",
     "output_type": "stream",
     "text": [
      "CPU times: user 1.06 s, sys: 1.23 s, total: 2.29 s\n",
      "Wall time: 2.27 s\n"
     ]
    }
   ],
   "source": [
    "%%time\n",
    "input_file = '../input_files/ipa230720.xml'\n",
    "with open(input_file,'r') as f:\n",
    "    xmlfile = f.read()"
   ]
  },
  {
   "cell_type": "code",
   "execution_count": 6,
   "id": "efab58fd-3441-401c-b6b0-bb7cbefe874e",
   "metadata": {},
   "outputs": [
    {
     "name": "stdout",
     "output_type": "stream",
     "text": [
      "CPU times: user 2.47 s, sys: 1.91 s, total: 4.39 s\n",
      "Wall time: 4.34 s\n"
     ]
    },
    {
     "data": {
      "text/plain": [
       "'\\n\\n<us-patent-application lang=\"EN\" dtd-version=\"v4.6 2022-02-17\" file=\"US20230225235A1-20230720.XML\" status=\"PRODUCTION\" id=\"us-patent-application\" country=\"US\" date-produced=\"20230704\" date-publ=\"202'"
      ]
     },
     "execution_count": 6,
     "metadata": {},
     "output_type": "execute_result"
    }
   ],
   "source": [
    "%%time\n",
    "xmlfile = re.sub(r'<\\?xml version=\"1.0\".*','',xmlfile)\n",
    "xmlfile = re.sub(r'<!DOCTYPE.*','',xmlfile)\n",
    "xmlfile = re.sub(r'sequence-cwu',r'us-patent-application',xmlfile)\n",
    "#xmlfile = xmlfile.split('\\n')\n",
    "#xmlfile = [line.strip() for line in xmlfile if line]\n",
    "xmlfile[:200]\n"
   ]
  },
  {
   "cell_type": "code",
   "execution_count": 7,
   "id": "46287f16-3467-4067-85b1-a5b24ef1355d",
   "metadata": {},
   "outputs": [],
   "source": [
    "#print('sequence-cwu' in xmlfile)\n",
    "#xmlfile = xmlfile.replace('sequence-cwu','us-patent-application')\n",
    "#'sequence-cwu' in xmlfile"
   ]
  },
  {
   "cell_type": "code",
   "execution_count": 8,
   "id": "5e3dab8a-7601-4f11-a56b-5064d5e498d8",
   "metadata": {},
   "outputs": [],
   "source": [
    "# The iterparse requires a heirarchical xml model hence add root tags\n",
    "xmlfile = '<root>\\n' + xmlfile + '\\n</root>\\n'\n",
    "#xmlstr = ' '.join(xmlfile)"
   ]
  },
  {
   "cell_type": "code",
   "execution_count": 9,
   "id": "9b771394-0629-4db3-b575-ce9858ffc1e2",
   "metadata": {},
   "outputs": [
    {
     "data": {
      "text/plain": [
       "\"\\n%%time\\nopen_tags = []\\nend_tags = []\\ncount = 0\\nfor i in range(len(tmp)):\\n    if tmp[i].startswith('<us-patent-application'): #and tmp[i].endswith('>'):\\n        if open_tags:\\n            print(open_tags)\\n            tmp.insert(i,'</us-patent-application>')\\n            count += 1\\n        open_tags.append(tmp[i])\\n    elif tmp[i].startswith('</us-patent-application'):# and tmp[i].endswith('>'):\\n        if open_tags:\\n            open_tags.pop()\\ncount\\n\""
      ]
     },
     "execution_count": 9,
     "metadata": {},
     "output_type": "execute_result"
    }
   ],
   "source": [
    "# code to find any missing tags and add them\n",
    "'''\n",
    "%%time\n",
    "open_tags = []\n",
    "end_tags = []\n",
    "count = 0\n",
    "for i in range(len(tmp)):\n",
    "    if tmp[i].startswith('<us-patent-application'): #and tmp[i].endswith('>'):\n",
    "        if open_tags:\n",
    "            print(open_tags)\n",
    "            tmp.insert(i,'</us-patent-application>')\n",
    "            count += 1\n",
    "        open_tags.append(tmp[i])\n",
    "    elif tmp[i].startswith('</us-patent-application'):# and tmp[i].endswith('>'):\n",
    "        if open_tags:\n",
    "            open_tags.pop()\n",
    "count\n",
    "'''"
   ]
  },
  {
   "cell_type": "code",
   "execution_count": 10,
   "id": "b98ec745-07fb-4276-bf33-508b662e498c",
   "metadata": {},
   "outputs": [
    {
     "data": {
      "text/plain": [
       "'\\npatent_s = 0\\npatent_e = 0\\nsequence_s = 0\\nsequence_e = 0\\nfor line in xmldata:\\n    if \"<us-patent-application\" in line:\\n        patent_s += 1\\n    elif \"</us-patent-application\" in line:\\n        patent_e += 1\\n    elif \"<sequence-cwu\" in line:\\n        sequence_s += 1\\n    elif \"</sequence-cwu\" in line:\\n        sequence_e += 1\\n        \\npatent_s, patent_e, sequence_s, sequence_e\\n'"
      ]
     },
     "execution_count": 10,
     "metadata": {},
     "output_type": "execute_result"
    }
   ],
   "source": [
    "# code to count and make sure starting and ending tags match \n",
    "'''\n",
    "patent_s = 0\n",
    "patent_e = 0\n",
    "sequence_s = 0\n",
    "sequence_e = 0\n",
    "for line in xmldata:\n",
    "    if \"<us-patent-application\" in line:\n",
    "        patent_s += 1\n",
    "    elif \"</us-patent-application\" in line:\n",
    "        patent_e += 1\n",
    "    elif \"<sequence-cwu\" in line:\n",
    "        sequence_s += 1\n",
    "    elif \"</sequence-cwu\" in line:\n",
    "        sequence_e += 1\n",
    "        \n",
    "patent_s, patent_e, sequence_s, sequence_e\n",
    "'''"
   ]
  },
  {
   "cell_type": "code",
   "execution_count": 11,
   "id": "e90aaa37-4586-4203-a1da-2104757a6753",
   "metadata": {},
   "outputs": [],
   "source": [
    "# convert to a file format to feed to iterparse\n",
    "xmlfile = BytesIO(xmlfile.encode(\"UTF-8\"))"
   ]
  },
  {
   "cell_type": "markdown",
   "id": "a0968ca9-530e-4a23-a868-7740da216100",
   "metadata": {},
   "source": [
    "## Parse cleaned patent xml\n",
    "Walk through one patent record at a time and extract necessary fields"
   ]
  },
  {
   "cell_type": "code",
   "execution_count": 12,
   "id": "dd8b6b4d-fbc0-47a8-91b5-1af9d7aee34e",
   "metadata": {},
   "outputs": [
    {
     "name": "stdout",
     "output_type": "stream",
     "text": [
      "CPU times: user 9.58 s, sys: 2.01 s, total: 11.6 s\n",
      "Wall time: 11.6 s\n"
     ]
    }
   ],
   "source": [
    "%%time\n",
    "patent = []\n",
    "mydict = dict()\n",
    "\n",
    "tags = ['publication-reference','application-reference','invention-title',\\\n",
    "        'us-applicant','inventors','abstract','claims']\n",
    "\n",
    "\n",
    "for _, element in etree.iterparse(xmlfile, tag=tags):\n",
    "    if element.tag == 'publication-reference':\n",
    "        if mydict:\n",
    "            patent.append(mydict)\n",
    "        mydict = dict()\n",
    "        for elem in element.iter('doc-number','country','date'):\n",
    "            if elem.tag == 'doc-number':\n",
    "                mydict[elem.tag] = int(elem.text)\n",
    "            else:\n",
    "                mydict[elem.tag] = elem.text\n",
    "        element.clear()\n",
    "    elif element.tag == 'application-reference':\n",
    "        subdict = dict()\n",
    "        for elem in element.iter('doc-number','country','date'):\n",
    "            if elem.tag == 'doc-number':\n",
    "                subdict[elem.tag] = int(elem.text)\n",
    "            else:\n",
    "                subdict[elem.tag] = elem.text\n",
    "            mydict['application-reference'] = subdict\n",
    "        element.clear()\n",
    "    elif element.tag == 'invention-title':\n",
    "        mydict['title'] = element.text\n",
    "        element.clear()\n",
    "    elif element.tag == 'us-applicant':\n",
    "        subdict = dict()\n",
    "        for e in element.iter('orgname','city','state','country'):\n",
    "            subdict[e.tag] = e.text\n",
    "        mydict['assignee'] = subdict\n",
    "        element.clear()\n",
    "    elif element.tag == 'inventors':\n",
    "        mydict['inventors'] = []\n",
    "        for elem in element.iter('inventor'):\n",
    "            subdict = dict()\n",
    "            for e in elem.iter('first-name','last-name','city','state','country'):\n",
    "                subdict[e.tag] = e.text\n",
    "            mydict['inventors'].append(subdict)\n",
    "        element.clear()\n",
    "    elif element.tag == 'abstract':\n",
    "        mydict['abstract'] = ''.join([text for text in element.itertext() if element.tag not in ('b', 'i', 'u')])\n",
    "        element.clear()\n",
    "    elif element.tag == 'claims':\n",
    "        mydict['claims'] = ''.join([text for text in element.itertext('claim-text') if element.tag not in ('b', 'i', 'u')])\n",
    "        element.clear()\n",
    "\n",
    "patent.append(mydict) # append last one\n",
    "#patent"
   ]
  },
  {
   "cell_type": "code",
   "execution_count": 13,
   "id": "9b13f606-4311-4fe7-a0f9-414fbdab88ce",
   "metadata": {},
   "outputs": [
    {
     "data": {
      "text/plain": [
       "7502"
      ]
     },
     "execution_count": 13,
     "metadata": {},
     "output_type": "execute_result"
    }
   ],
   "source": [
    "len(patent)"
   ]
  },
  {
   "cell_type": "code",
   "execution_count": 14,
   "id": "f0607391-579e-4acf-8eae-b279bc00eb6d",
   "metadata": {},
   "outputs": [
    {
     "data": {
      "text/html": [
       "<div>\n",
       "<style scoped>\n",
       "    .dataframe tbody tr th:only-of-type {\n",
       "        vertical-align: middle;\n",
       "    }\n",
       "\n",
       "    .dataframe tbody tr th {\n",
       "        vertical-align: top;\n",
       "    }\n",
       "\n",
       "    .dataframe thead th {\n",
       "        text-align: right;\n",
       "    }\n",
       "</style>\n",
       "<table border=\"1\" class=\"dataframe\">\n",
       "  <thead>\n",
       "    <tr style=\"text-align: right;\">\n",
       "      <th></th>\n",
       "      <th>country</th>\n",
       "      <th>doc-number</th>\n",
       "      <th>date</th>\n",
       "      <th>application-reference</th>\n",
       "      <th>title</th>\n",
       "      <th>assignee</th>\n",
       "      <th>inventors</th>\n",
       "      <th>abstract</th>\n",
       "      <th>claims</th>\n",
       "    </tr>\n",
       "  </thead>\n",
       "  <tbody>\n",
       "    <tr>\n",
       "      <th>0</th>\n",
       "      <td>US</td>\n",
       "      <td>20230225235</td>\n",
       "      <td>20230720</td>\n",
       "      <td>{'country': 'US', 'doc-number': 17754513, 'dat...</td>\n",
       "      <td>AGRICULTURAL TRENCH DEPTH SYSTEMS, METHODS, AN...</td>\n",
       "      <td>{'orgname': 'Precision Planting LLC', 'city': ...</td>\n",
       "      <td>[{'last-name': 'Sloneker', 'first-name': 'Dill...</td>\n",
       "      <td>\\nA row unit (10) of an agricultural planter w...</td>\n",
       "      <td>a row unit frame;\\na furrow opening disc rotat...</td>\n",
       "    </tr>\n",
       "    <tr>\n",
       "      <th>1</th>\n",
       "      <td>US</td>\n",
       "      <td>20230225236</td>\n",
       "      <td>20230720</td>\n",
       "      <td>{'country': 'US', 'doc-number': 18007883, 'dat...</td>\n",
       "      <td>Agricultural Attachment for Cultivating Row Crops</td>\n",
       "      <td>{'orgname': 'Amazonen-Werke H. Dreyer SE &amp; Co....</td>\n",
       "      <td>[{'last-name': 'RESCH', 'first-name': 'Rainer'...</td>\n",
       "      <td>\\nThe invention relates to an agricultural att...</td>\n",
       "      <td>a row-detection device adapted to detect, duri...</td>\n",
       "    </tr>\n",
       "    <tr>\n",
       "      <th>2</th>\n",
       "      <td>US</td>\n",
       "      <td>20230225237</td>\n",
       "      <td>20230720</td>\n",
       "      <td>{'country': 'US', 'doc-number': 18121636, 'dat...</td>\n",
       "      <td>TRAVEL LINE CREATION SYSTEM FOR AGRICULTURAL M...</td>\n",
       "      <td>{'orgname': 'KUBOTA CORPORATION', 'city': 'Osa...</td>\n",
       "      <td>[{'last-name': 'MORIMOTO', 'first-name': 'Taka...</td>\n",
       "      <td>\\nA travel line creation system for an agricul...</td>\n",
       "      <td>a position acquirer to acquire position measur...</td>\n",
       "    </tr>\n",
       "    <tr>\n",
       "      <th>3</th>\n",
       "      <td>US</td>\n",
       "      <td>20230225238</td>\n",
       "      <td>20230720</td>\n",
       "      <td>{'country': 'US', 'doc-number': 18187398, 'dat...</td>\n",
       "      <td>AGRICULTURAL HARVESTING MACHINE WITH PRE-EMERG...</td>\n",
       "      <td>{'orgname': 'Deere &amp; Company', 'city': 'Moline...</td>\n",
       "      <td>[{'last-name': 'BLANK', 'first-name': 'Sebasti...</td>\n",
       "      <td>\\nAn agricultural harvesting machine includes ...</td>\n",
       "      <td>crop processing functionality configured to en...</td>\n",
       "    </tr>\n",
       "    <tr>\n",
       "      <th>4</th>\n",
       "      <td>US</td>\n",
       "      <td>20230225239</td>\n",
       "      <td>20230720</td>\n",
       "      <td>{'country': 'US', 'doc-number': 18190358, 'dat...</td>\n",
       "      <td>DETECTION OF PLANT DISEASES WITH MULTI-STAGE, ...</td>\n",
       "      <td>{'orgname': 'CLIMATE LLC', 'city': 'Saint Loui...</td>\n",
       "      <td>[{'last-name': 'Guan', 'first-name': 'Wei', 'c...</td>\n",
       "      <td>\\nA computer system is provided comprising a c...</td>\n",
       "      <td>a classification model management server compu...</td>\n",
       "    </tr>\n",
       "  </tbody>\n",
       "</table>\n",
       "</div>"
      ],
      "text/plain": [
       "  country   doc-number      date  \\\n",
       "0      US  20230225235  20230720   \n",
       "1      US  20230225236  20230720   \n",
       "2      US  20230225237  20230720   \n",
       "3      US  20230225238  20230720   \n",
       "4      US  20230225239  20230720   \n",
       "\n",
       "                               application-reference  \\\n",
       "0  {'country': 'US', 'doc-number': 17754513, 'dat...   \n",
       "1  {'country': 'US', 'doc-number': 18007883, 'dat...   \n",
       "2  {'country': 'US', 'doc-number': 18121636, 'dat...   \n",
       "3  {'country': 'US', 'doc-number': 18187398, 'dat...   \n",
       "4  {'country': 'US', 'doc-number': 18190358, 'dat...   \n",
       "\n",
       "                                               title  \\\n",
       "0  AGRICULTURAL TRENCH DEPTH SYSTEMS, METHODS, AN...   \n",
       "1  Agricultural Attachment for Cultivating Row Crops   \n",
       "2  TRAVEL LINE CREATION SYSTEM FOR AGRICULTURAL M...   \n",
       "3  AGRICULTURAL HARVESTING MACHINE WITH PRE-EMERG...   \n",
       "4  DETECTION OF PLANT DISEASES WITH MULTI-STAGE, ...   \n",
       "\n",
       "                                            assignee  \\\n",
       "0  {'orgname': 'Precision Planting LLC', 'city': ...   \n",
       "1  {'orgname': 'Amazonen-Werke H. Dreyer SE & Co....   \n",
       "2  {'orgname': 'KUBOTA CORPORATION', 'city': 'Osa...   \n",
       "3  {'orgname': 'Deere & Company', 'city': 'Moline...   \n",
       "4  {'orgname': 'CLIMATE LLC', 'city': 'Saint Loui...   \n",
       "\n",
       "                                           inventors  \\\n",
       "0  [{'last-name': 'Sloneker', 'first-name': 'Dill...   \n",
       "1  [{'last-name': 'RESCH', 'first-name': 'Rainer'...   \n",
       "2  [{'last-name': 'MORIMOTO', 'first-name': 'Taka...   \n",
       "3  [{'last-name': 'BLANK', 'first-name': 'Sebasti...   \n",
       "4  [{'last-name': 'Guan', 'first-name': 'Wei', 'c...   \n",
       "\n",
       "                                            abstract  \\\n",
       "0  \\nA row unit (10) of an agricultural planter w...   \n",
       "1  \\nThe invention relates to an agricultural att...   \n",
       "2  \\nA travel line creation system for an agricul...   \n",
       "3  \\nAn agricultural harvesting machine includes ...   \n",
       "4  \\nA computer system is provided comprising a c...   \n",
       "\n",
       "                                              claims  \n",
       "0  a row unit frame;\\na furrow opening disc rotat...  \n",
       "1  a row-detection device adapted to detect, duri...  \n",
       "2  a position acquirer to acquire position measur...  \n",
       "3  crop processing functionality configured to en...  \n",
       "4  a classification model management server compu...  "
      ]
     },
     "execution_count": 14,
     "metadata": {},
     "output_type": "execute_result"
    }
   ],
   "source": [
    "# Drop any patents that don't have abstract\n",
    "patent_df = pd.DataFrame.from_dict(patent)\n",
    "patent_df = patent_df[~patent_df['abstract'].isna()]\n",
    "patent_df.head()"
   ]
  },
  {
   "cell_type": "code",
   "execution_count": 15,
   "id": "04da2925-fdf0-4675-8bea-dd3c9a666bde",
   "metadata": {},
   "outputs": [
    {
     "name": "stdout",
     "output_type": "stream",
     "text": [
      "<class 'pandas.core.frame.DataFrame'>\n",
      "Index: 7234 entries, 0 to 7501\n",
      "Data columns (total 9 columns):\n",
      " #   Column                 Non-Null Count  Dtype \n",
      "---  ------                 --------------  ----- \n",
      " 0   country                7234 non-null   object\n",
      " 1   doc-number             7234 non-null   int64 \n",
      " 2   date                   7234 non-null   object\n",
      " 3   application-reference  7234 non-null   object\n",
      " 4   title                  7234 non-null   object\n",
      " 5   assignee               7234 non-null   object\n",
      " 6   inventors              7234 non-null   object\n",
      " 7   abstract               7234 non-null   object\n",
      " 8   claims                 7234 non-null   object\n",
      "dtypes: int64(1), object(8)\n",
      "memory usage: 565.2+ KB\n"
     ]
    }
   ],
   "source": [
    "patent_df.info()"
   ]
  },
  {
   "cell_type": "markdown",
   "id": "3d99007d-8bbb-4a6e-b30b-43907754c68c",
   "metadata": {},
   "source": [
    "## Extract technical terms\n",
    "Process the patent dictionary generated above by doing following things:\n",
    "1. Lemmatize text of abstract and claims fields\n",
    "2. Extract entities for each record using scispacy entity language model \n",
    "3. Pass the extracted entities through binary RandomForrest classifier to remove non-tech terms\n",
    "4. Drop abstract and claim columns and save output to csv"
   ]
  },
  {
   "cell_type": "code",
   "execution_count": 16,
   "id": "c6309c5c-35ad-47b8-ac10-bab784c44661",
   "metadata": {},
   "outputs": [
    {
     "name": "stdout",
     "output_type": "stream",
     "text": [
      "Archive:  ../model/trained_tech_classifier_model.joblib.zip\n",
      "  inflating: ../model/trained_tech_classifier_model.joblib  \n"
     ]
    }
   ],
   "source": [
    "!unzip -o ../model/trained_tech_classifier_model.joblib.zip -d ../model"
   ]
  },
  {
   "cell_type": "code",
   "execution_count": 17,
   "id": "636c469d-ae2d-434f-8ba0-c20a5b219b64",
   "metadata": {},
   "outputs": [
    {
     "name": "stderr",
     "output_type": "stream",
     "text": [
      "/home/laben/anaconda3/lib/python3.9/site-packages/sklearn/base.py:329: UserWarning: Trying to unpickle estimator TfidfTransformer from version 1.2.2 when using version 1.1.1. This might lead to breaking code or invalid results. Use at your own risk. For more info please refer to:\n",
      "https://scikit-learn.org/stable/model_persistence.html#security-maintainability-limitations\n",
      "  warnings.warn(\n",
      "/home/laben/anaconda3/lib/python3.9/site-packages/sklearn/base.py:329: UserWarning: Trying to unpickle estimator TfidfVectorizer from version 1.2.2 when using version 1.1.1. This might lead to breaking code or invalid results. Use at your own risk. For more info please refer to:\n",
      "https://scikit-learn.org/stable/model_persistence.html#security-maintainability-limitations\n",
      "  warnings.warn(\n",
      "/home/laben/anaconda3/lib/python3.9/site-packages/sklearn/base.py:329: UserWarning: Trying to unpickle estimator DecisionTreeClassifier from version 1.2.2 when using version 1.1.1. This might lead to breaking code or invalid results. Use at your own risk. For more info please refer to:\n",
      "https://scikit-learn.org/stable/model_persistence.html#security-maintainability-limitations\n",
      "  warnings.warn(\n",
      "/home/laben/anaconda3/lib/python3.9/site-packages/sklearn/base.py:329: UserWarning: Trying to unpickle estimator RandomForestClassifier from version 1.2.2 when using version 1.1.1. This might lead to breaking code or invalid results. Use at your own risk. For more info please refer to:\n",
      "https://scikit-learn.org/stable/model_persistence.html#security-maintainability-limitations\n",
      "  warnings.warn(\n",
      "/home/laben/anaconda3/lib/python3.9/site-packages/sklearn/base.py:329: UserWarning: Trying to unpickle estimator Pipeline from version 1.2.2 when using version 1.1.1. This might lead to breaking code or invalid results. Use at your own risk. For more info please refer to:\n",
      "https://scikit-learn.org/stable/model_persistence.html#security-maintainability-limitations\n",
      "  warnings.warn(\n"
     ]
    }
   ],
   "source": [
    "model = joblib.load('../model/trained_tech_classifier_model.joblib')\n",
    "#scikit"
   ]
  },
  {
   "cell_type": "code",
   "execution_count": 18,
   "id": "0c7eb8c3-37c8-4dc0-9330-b66b65781801",
   "metadata": {},
   "outputs": [
    {
     "name": "stderr",
     "output_type": "stream",
     "text": [
      "/home/laben/anaconda3/lib/python3.9/site-packages/spacy/util.py:910: UserWarning: [W095] Model 'en_core_sci_lg' (0.5.3) was trained with spaCy v3.6.1 and may not be 100% compatible with the current version (3.7.2). If you see errors or degraded performance, download a newer compatible model or retrain your custom model with the current spaCy version. For more details and available updates, run: python -m spacy validate\n",
      "  warnings.warn(warn_msg)\n",
      "/home/laben/anaconda3/lib/python3.9/site-packages/spacy/language.py:2170: FutureWarning: Possible set union at position 6328\n",
      "  deserializers[\"tokenizer\"] = lambda p: self.tokenizer.from_disk(  # type: ignore[union-attr]\n"
     ]
    }
   ],
   "source": [
    "nlp = sp.load('en_core_sci_lg')"
   ]
  },
  {
   "cell_type": "code",
   "execution_count": 19,
   "id": "ed76ec94-d776-4213-9ba3-087bbbd91b6c",
   "metadata": {},
   "outputs": [
    {
     "name": "stdout",
     "output_type": "stream",
     "text": [
      "CPU times: user 31min 1s, sys: 893 ms, total: 31min 2s\n",
      "Wall time: 31min 2s\n"
     ]
    }
   ],
   "source": [
    "%%time\n",
    "patent_df['abstract_entities'] = sph.extract_tech_entities(nlp, model,patent_df['abstract'])\n",
    "patent_df['claim_entities'] = sph.extract_tech_entities(nlp, model, patent_df['claims'])"
   ]
  },
  {
   "cell_type": "code",
   "execution_count": 20,
   "id": "057cabeb-9183-4f42-9d13-4cee38d3bc15",
   "metadata": {},
   "outputs": [],
   "source": [
    "patent_df = patent_df.drop(['abstract','claims'],axis=1)"
   ]
  },
  {
   "cell_type": "code",
   "execution_count": 21,
   "id": "a2595583-2469-4d45-abf5-51b56883cc91",
   "metadata": {},
   "outputs": [],
   "source": [
    "patent_df.to_csv('../preprocessed_files/patents_entities.csv')"
   ]
  },
  {
   "cell_type": "code",
   "execution_count": null,
   "id": "2d104d7c-53c6-4ad7-a82a-d94d4395dd7a",
   "metadata": {},
   "outputs": [],
   "source": []
  }
 ],
 "metadata": {
  "kernelspec": {
   "display_name": "Python 3 (ipykernel)",
   "language": "python",
   "name": "python3"
  },
  "language_info": {
   "codemirror_mode": {
    "name": "ipython",
    "version": 3
   },
   "file_extension": ".py",
   "mimetype": "text/x-python",
   "name": "python",
   "nbconvert_exporter": "python",
   "pygments_lexer": "ipython3",
   "version": "3.9.13"
  }
 },
 "nbformat": 4,
 "nbformat_minor": 5
}
