{
 "cells": [
  {
   "cell_type": "markdown",
   "id": "8a87a134-a902-46f1-8439-c1f1bc4e7f82",
   "metadata": {},
   "source": [
    "## Generate similarity scoring for technical entities in the SBIR and Patent data sets (Obsolete)\n",
    "This attempt used the Jedai Similarity Join approach, which proved to be ineffective using lists of SBIR entities combined into a single string\n"
   ]
  },
  {
   "cell_type": "code",
   "execution_count": 6,
   "id": "951f0802-168a-49a0-8530-10989fb9f853",
   "metadata": {},
   "outputs": [],
   "source": [
    "#!pip install pyjedai -U\n",
    "#!pip show pyjedai"
   ]
  },
  {
   "cell_type": "code",
   "execution_count": 7,
   "id": "2e24b723-2ee0-4a3c-b058-d53f8f7a07d3",
   "metadata": {},
   "outputs": [],
   "source": [
    "import os\n",
    "import sys\n",
    "import pandas as pd\n",
    "import networkx\n",
    "from networkx import draw, Graph\n",
    "\n",
    "from pyjedai.utils import print_clusters, print_blocks, print_candidate_pairs\n",
    "from pyjedai.evaluation import Evaluation\n",
    "\n",
    "from pyjedai.datamodel import Data\n",
    "from pyjedai.joins import EJoin, TopKJoin\n",
    "from pyjedai.clustering import ConnectedComponentsClustering"
   ]
  },
  {
   "cell_type": "code",
   "execution_count": 8,
   "id": "1bcabe4d-3c50-4290-889f-ee7ca02ed725",
   "metadata": {},
   "outputs": [],
   "source": [
    "sbir_df = pd.read_csv('../preprocessed_files/sbir_entities.csv')"
   ]
  },
  {
   "cell_type": "code",
   "execution_count": 9,
   "id": "90b41367-791d-49cd-a3cf-e22eeafa4148",
   "metadata": {},
   "outputs": [
    {
     "data": {
      "text/html": [
       "<div>\n",
       "<style scoped>\n",
       "    .dataframe tbody tr th:only-of-type {\n",
       "        vertical-align: middle;\n",
       "    }\n",
       "\n",
       "    .dataframe tbody tr th {\n",
       "        vertical-align: top;\n",
       "    }\n",
       "\n",
       "    .dataframe thead th {\n",
       "        text-align: right;\n",
       "    }\n",
       "</style>\n",
       "<table border=\"1\" class=\"dataframe\">\n",
       "  <thead>\n",
       "    <tr style=\"text-align: right;\">\n",
       "      <th></th>\n",
       "      <th>Unnamed: 0</th>\n",
       "      <th>Company</th>\n",
       "      <th>Award Title</th>\n",
       "      <th>Agency</th>\n",
       "      <th>Branch</th>\n",
       "      <th>Phase</th>\n",
       "      <th>Program</th>\n",
       "      <th>Agency Tracking Number</th>\n",
       "      <th>Contract</th>\n",
       "      <th>Proposal Award Date</th>\n",
       "      <th>...</th>\n",
       "      <th>Contact Phone</th>\n",
       "      <th>Contact Email</th>\n",
       "      <th>PI Name</th>\n",
       "      <th>PI Title</th>\n",
       "      <th>PI Phone</th>\n",
       "      <th>PI Email</th>\n",
       "      <th>RI Name</th>\n",
       "      <th>RI POC Name</th>\n",
       "      <th>RI POC Phone</th>\n",
       "      <th>abstract_entities</th>\n",
       "    </tr>\n",
       "  </thead>\n",
       "  <tbody>\n",
       "    <tr>\n",
       "      <th>0</th>\n",
       "      <td>145112</td>\n",
       "      <td>NEUROBEHAVIORAL SYSTEMS INC</td>\n",
       "      <td>NaN</td>\n",
       "      <td>Department of Health and Human Services</td>\n",
       "      <td>National Institutes of Health</td>\n",
       "      <td>Phase I</td>\n",
       "      <td>SBIR</td>\n",
       "      <td>1R43NS040623-01</td>\n",
       "      <td>NaN</td>\n",
       "      <td>NaN</td>\n",
       "      <td>...</td>\n",
       "      <td>(510) 653-3461</td>\n",
       "      <td>DLWOODS@NEUROBEHAVIORALSYSTEMS.COM</td>\n",
       "      <td>PETER PEBLER</td>\n",
       "      <td>NaN</td>\n",
       "      <td>() -</td>\n",
       "      <td>NaN</td>\n",
       "      <td>NaN</td>\n",
       "      <td>NaN</td>\n",
       "      <td>NaN</td>\n",
       "      <td>['transponder', 'multiple frequency band', 'mi...</td>\n",
       "    </tr>\n",
       "    <tr>\n",
       "      <th>1</th>\n",
       "      <td>106926</td>\n",
       "      <td>Applied EM Inc.</td>\n",
       "      <td>An Integrated Antenna Set for Software Radios</td>\n",
       "      <td>Department of Defense</td>\n",
       "      <td>Navy</td>\n",
       "      <td>Phase II</td>\n",
       "      <td>SBIR</td>\n",
       "      <td>N032-0588</td>\n",
       "      <td>N68335-05-C-0421</td>\n",
       "      <td>09/30/2005</td>\n",
       "      <td>...</td>\n",
       "      <td>(757) 224-2035</td>\n",
       "      <td>cjreddy@appliedem.com</td>\n",
       "      <td>C. Reddy</td>\n",
       "      <td>President &amp; Chief Technic</td>\n",
       "      <td>(757) 224-2035</td>\n",
       "      <td>cjreddy@appliedem.com</td>\n",
       "      <td>NaN</td>\n",
       "      <td>NaN</td>\n",
       "      <td>NaN</td>\n",
       "      <td>['Tactical radio system', 'wideband antenna se...</td>\n",
       "    </tr>\n",
       "    <tr>\n",
       "      <th>2</th>\n",
       "      <td>126831</td>\n",
       "      <td>SIGMA SYSTEMS RESEARCH, INC.</td>\n",
       "      <td>Integrated Data Fusion and Decision Support fo...</td>\n",
       "      <td>Department of Defense</td>\n",
       "      <td>Missile Defense Agency</td>\n",
       "      <td>Phase II</td>\n",
       "      <td>SBIR</td>\n",
       "      <td>01-0494</td>\n",
       "      <td>F3361502C4028</td>\n",
       "      <td>NaN</td>\n",
       "      <td>...</td>\n",
       "      <td>(703) 582-0638</td>\n",
       "      <td>sigma@sigma-sys.com</td>\n",
       "      <td>Alan Hadjarian</td>\n",
       "      <td>Senior Scientist</td>\n",
       "      <td>(703) 385-5677</td>\n",
       "      <td>ahadjarian@sigma-sys.com</td>\n",
       "      <td>NaN</td>\n",
       "      <td>NaN</td>\n",
       "      <td>NaN</td>\n",
       "      <td>['datum fusion', 'decision support', 'decision...</td>\n",
       "    </tr>\n",
       "    <tr>\n",
       "      <th>3</th>\n",
       "      <td>25069</td>\n",
       "      <td>MIKEL INC</td>\n",
       "      <td>Non-collinear Wave-front Curvature Range Measu...</td>\n",
       "      <td>Department of Defense</td>\n",
       "      <td>Navy</td>\n",
       "      <td>Phase II</td>\n",
       "      <td>SBIR</td>\n",
       "      <td>N021-0353</td>\n",
       "      <td>N68335-19-C-0091</td>\n",
       "      <td>11/21/2018</td>\n",
       "      <td>...</td>\n",
       "      <td>(508) 523-6832</td>\n",
       "      <td>craig.cameron@mikelinc.com</td>\n",
       "      <td>TOM NORTHARDT, Ph.D. TOM NORTHARDT, Ph.D.</td>\n",
       "      <td>PROJECT ENGINEER / PRINCIPAL INVESTIGATOR</td>\n",
       "      <td>(401) 846-1462</td>\n",
       "      <td>tom.northardt@mikelinc.com</td>\n",
       "      <td>NaN</td>\n",
       "      <td>NaN</td>\n",
       "      <td>NaN</td>\n",
       "      <td>['goal phase', 'information', 'submarine', 'ac...</td>\n",
       "    </tr>\n",
       "    <tr>\n",
       "      <th>4</th>\n",
       "      <td>83500</td>\n",
       "      <td>MOSAIC ATM, INC.</td>\n",
       "      <td>Autonomous Command, Control and Communication ...</td>\n",
       "      <td>Department of Defense</td>\n",
       "      <td>Air Force</td>\n",
       "      <td>Phase II</td>\n",
       "      <td>SBIR</td>\n",
       "      <td>F073-089-1634</td>\n",
       "      <td>FA8650-09-C-3910</td>\n",
       "      <td>03/19/2009</td>\n",
       "      <td>...</td>\n",
       "      <td>(800) 405-8576</td>\n",
       "      <td>stevenson@mosaicatm.com</td>\n",
       "      <td>Chris Brinton</td>\n",
       "      <td>President and Principal A</td>\n",
       "      <td>(703) 737-7637</td>\n",
       "      <td>brinton@mosaicatm.com</td>\n",
       "      <td>NaN</td>\n",
       "      <td>NaN</td>\n",
       "      <td>NaN</td>\n",
       "      <td>['current', 'paradigm management', 'traffic', ...</td>\n",
       "    </tr>\n",
       "  </tbody>\n",
       "</table>\n",
       "<p>5 rows × 43 columns</p>\n",
       "</div>"
      ],
      "text/plain": [
       "   Unnamed: 0                       Company  \\\n",
       "0      145112   NEUROBEHAVIORAL SYSTEMS INC   \n",
       "1      106926               Applied EM Inc.   \n",
       "2      126831  SIGMA SYSTEMS RESEARCH, INC.   \n",
       "3       25069                     MIKEL INC   \n",
       "4       83500              MOSAIC ATM, INC.   \n",
       "\n",
       "                                         Award Title  \\\n",
       "0                                                NaN   \n",
       "1      An Integrated Antenna Set for Software Radios   \n",
       "2  Integrated Data Fusion and Decision Support fo...   \n",
       "3  Non-collinear Wave-front Curvature Range Measu...   \n",
       "4  Autonomous Command, Control and Communication ...   \n",
       "\n",
       "                                    Agency                         Branch  \\\n",
       "0  Department of Health and Human Services  National Institutes of Health   \n",
       "1                    Department of Defense                           Navy   \n",
       "2                    Department of Defense         Missile Defense Agency   \n",
       "3                    Department of Defense                           Navy   \n",
       "4                    Department of Defense                      Air Force   \n",
       "\n",
       "      Phase Program Agency Tracking Number          Contract  \\\n",
       "0   Phase I    SBIR        1R43NS040623-01               NaN   \n",
       "1  Phase II    SBIR              N032-0588  N68335-05-C-0421   \n",
       "2  Phase II    SBIR                01-0494     F3361502C4028   \n",
       "3  Phase II    SBIR              N021-0353  N68335-19-C-0091   \n",
       "4  Phase II    SBIR          F073-089-1634  FA8650-09-C-3910   \n",
       "\n",
       "  Proposal Award Date  ...   Contact Phone  \\\n",
       "0                 NaN  ...  (510) 653-3461   \n",
       "1          09/30/2005  ...  (757) 224-2035   \n",
       "2                 NaN  ...  (703) 582-0638   \n",
       "3          11/21/2018  ...  (508) 523-6832   \n",
       "4          03/19/2009  ...  (800) 405-8576   \n",
       "\n",
       "                        Contact Email  \\\n",
       "0  DLWOODS@NEUROBEHAVIORALSYSTEMS.COM   \n",
       "1               cjreddy@appliedem.com   \n",
       "2                 sigma@sigma-sys.com   \n",
       "3          craig.cameron@mikelinc.com   \n",
       "4             stevenson@mosaicatm.com   \n",
       "\n",
       "                                     PI Name  \\\n",
       "0                               PETER PEBLER   \n",
       "1                                   C. Reddy   \n",
       "2                             Alan Hadjarian   \n",
       "3  TOM NORTHARDT, Ph.D. TOM NORTHARDT, Ph.D.   \n",
       "4                              Chris Brinton   \n",
       "\n",
       "                                    PI Title        PI Phone  \\\n",
       "0                                        NaN            () -   \n",
       "1                  President & Chief Technic  (757) 224-2035   \n",
       "2                           Senior Scientist  (703) 385-5677   \n",
       "3  PROJECT ENGINEER / PRINCIPAL INVESTIGATOR  (401) 846-1462   \n",
       "4                  President and Principal A  (703) 737-7637   \n",
       "\n",
       "                     PI Email RI Name  RI POC Name RI POC Phone  \\\n",
       "0                         NaN     NaN          NaN          NaN   \n",
       "1       cjreddy@appliedem.com     NaN          NaN          NaN   \n",
       "2    ahadjarian@sigma-sys.com     NaN          NaN          NaN   \n",
       "3  tom.northardt@mikelinc.com     NaN          NaN          NaN   \n",
       "4       brinton@mosaicatm.com     NaN          NaN          NaN   \n",
       "\n",
       "                                   abstract_entities  \n",
       "0  ['transponder', 'multiple frequency band', 'mi...  \n",
       "1  ['Tactical radio system', 'wideband antenna se...  \n",
       "2  ['datum fusion', 'decision support', 'decision...  \n",
       "3  ['goal phase', 'information', 'submarine', 'ac...  \n",
       "4  ['current', 'paradigm management', 'traffic', ...  \n",
       "\n",
       "[5 rows x 43 columns]"
      ]
     },
     "execution_count": 9,
     "metadata": {},
     "output_type": "execute_result"
    }
   ],
   "source": [
    "sbir_df.head()"
   ]
  },
  {
   "cell_type": "code",
   "execution_count": 10,
   "id": "4741cfae-76a2-46d4-814c-089a09cbc251",
   "metadata": {},
   "outputs": [],
   "source": [
    "attr = ['abstract_entities']\n",
    "data = Data(\n",
    "    dataset_1=sbir_df,\n",
    "    id_column_name_1='Unnamed: 0',\n",
    "    #ground_truth=gt,\n",
    "    attributes_1=attr\n",
    ")"
   ]
  },
  {
   "cell_type": "code",
   "execution_count": 11,
   "id": "d2609863-21f6-4cf6-9387-a31d8cdf13cc",
   "metadata": {},
   "outputs": [
    {
     "data": {
      "application/vnd.jupyter.widget-view+json": {
       "model_id": "5ea6302196f5470a8ac18d4e028170cc",
       "version_major": 2,
       "version_minor": 0
      },
      "text/plain": [
       "EJoin (jaccard):   0%|          | 0/871 [00:00<?, ?it/s]"
      ]
     },
     "metadata": {},
     "output_type": "display_data"
    }
   ],
   "source": [
    "join = EJoin(similarity_threshold = 0.5,\n",
    "             metric = 'jaccard',\n",
    "             tokenization = 'qgrams_multiset',\n",
    "             qgrams = 2)\n",
    "\n",
    "g = join.fit(data)"
   ]
  },
  {
   "cell_type": "code",
   "execution_count": 12,
   "id": "db809f22-ad62-4169-b93e-273e4db7027d",
   "metadata": {},
   "outputs": [],
   "source": [
    "ec = ConnectedComponentsClustering()\n",
    "clusters = ec.process(g, data, similarity_threshold=0.5)"
   ]
  },
  {
   "cell_type": "code",
   "execution_count": 13,
   "id": "b5202367-53a1-4627-8011-fb42111bdf46",
   "metadata": {},
   "outputs": [
    {
     "name": "stdout",
     "output_type": "stream",
     "text": [
      "[{0}, {1, 2, 3, 4, 5, 6, 7, 9, 11, 12, 13, 14, 16, 17, 19, 20, 22, 23, 24, 25, 26, 27, 28, 30, 31, 32, 33, 35, 36, 37, 38, 39, 41, 42, 44, 45, 46, 47, 50, 51, 52, 53, 54, 55, 56, 58, 59, 60, 61, 62, 64, 65, 66, 67, 68, 69, 70, 71, 72, 73, 75, 76, 77, 78, 79, 80, 83, 84, 85, 86, 89, 90, 91, 92, 93, 95, 96, 98, 99, 100, 101, 102, 103, 106, 107, 111, 112, 113, 114, 115, 116, 117, 119, 120, 121, 122, 123, 124, 125, 126, 127, 128, 129, 131, 132, 133, 135, 138, 141, 143, 146, 147, 148, 150, 152, 153, 154, 155, 156, 157, 158, 160, 161, 163, 164, 165, 166, 167, 169, 171, 172, 173, 174, 175, 176, 177, 179, 180, 181, 182, 184, 185, 188, 190, 191, 192, 193, 194, 195, 196, 197, 198, 199, 200, 203, 204, 206, 207, 208, 209, 210, 211, 212, 213, 214, 215, 220, 221, 222, 223, 224, 225, 227, 228, 229, 230, 231, 232, 234, 235, 237, 238, 239, 240, 241, 242, 243, 244, 246, 247, 248, 249, 250, 251, 253, 254, 255, 256, 257, 258, 259, 260, 262, 263, 266, 267, 270, 271, 272, 273, 274, 277, 278, 280, 281, 283, 284, 285, 286, 287, 288, 289, 291, 292, 293, 294, 295, 296, 297, 298, 300, 301, 302, 303, 304, 306, 307, 308, 309, 310, 311, 312, 313, 315, 317, 318, 319, 320, 321, 324, 325, 326, 327, 330, 331, 332, 333, 335, 338, 339, 340, 341, 342, 343, 344, 345, 346, 347, 348, 349, 350, 351, 352, 353, 354, 355, 356, 357, 360, 361, 362, 364, 366, 368, 369, 370, 371, 374, 375, 376, 377, 378, 379, 380, 381, 382, 383, 384, 385, 387, 388, 389, 390, 393, 394, 395, 396, 397, 398, 401, 402, 403, 405, 406, 408, 409, 410, 411, 412, 413, 414, 415, 416, 417, 418, 420, 421, 422, 424, 425, 427, 428, 429, 430, 431, 432, 433, 437, 438, 440, 441, 443, 445, 446, 448, 449, 451, 453, 454, 455, 456, 457, 458, 459, 460, 461, 462, 465, 466, 467, 468, 469, 470, 471, 472, 473, 475, 476, 477, 479, 480, 481, 482, 484, 485, 486, 487, 488, 489, 490, 491, 492, 493, 495, 496, 497, 498, 499, 500, 501, 502, 503, 504, 505, 506, 507, 510, 512, 513, 514, 516, 517, 518, 519, 522, 523, 524, 527, 528, 529, 530, 531, 532, 533, 534, 536, 537, 538, 539, 541, 542, 543, 545, 546, 547, 548, 549, 550, 551, 552, 553, 554, 555, 557, 559, 560, 561, 562, 563, 564, 566, 567, 568, 569, 571, 572, 573, 575, 576, 577, 578, 580, 581, 583, 584, 586, 587, 588, 589, 590, 592, 593, 594, 595, 596, 597, 598, 599, 602, 603, 605, 607, 608, 609, 610, 611, 612, 613, 614, 615, 616, 618, 622, 623, 624, 625, 626, 627, 630, 631, 633, 635, 636, 637, 638, 640, 641, 643, 644, 645, 646, 647, 648, 649, 650, 651, 652, 653, 654, 655, 656, 657, 658, 660, 661, 662, 665, 666, 667, 668, 669, 670, 671, 672, 674, 675, 676, 677, 678, 680, 681, 682, 683, 685, 686, 687, 688, 689, 690, 691, 692, 694, 695, 696, 697, 700, 701, 702, 703, 704, 705, 706, 707, 708, 710, 711, 713, 714, 715, 716, 717, 719, 721, 722, 723, 724, 727, 728, 729, 731, 732, 733, 735, 738, 739, 740, 741, 742, 743, 744, 745, 747, 749, 750, 751, 752, 754, 755, 756, 759, 761, 763, 765, 767, 768, 769, 770, 771, 773, 775, 776, 777, 778, 779, 780, 781, 782, 783, 784, 785, 786, 787, 788, 789, 790, 792, 793, 794, 795, 796, 797, 798, 799, 801, 802, 803, 804, 805, 806, 808, 810, 811, 812, 814, 816, 817, 818, 819, 821, 822, 823, 824, 825, 826, 827, 828, 829, 830, 831, 833, 835, 836, 837, 838, 839, 840, 842, 843, 844, 845, 846, 847, 849, 850, 851, 852, 853, 854, 855, 856, 857, 858, 859, 860, 861, 863, 864, 865, 866, 867, 868, 869}, {8}, {10}, {15}, {18}, {21}, {29}, {34}, {40}, {43}, {48}, {49}, {57}, {63}, {74}, {81}, {82}, {87}, {88}, {94}, {97}, {104}, {105}, {108}, {109}, {110}, {118}, {130}, {134}, {136}, {137}, {139}, {140}, {142}, {144}, {145}, {149}, {726, 151}, {159}, {162}, {168}, {170}, {178}, {183}, {186}, {187}, {189}, {201}, {202}, {205}, {216}, {217}, {218}, {219}, {226}, {233}, {236}, {245}, {252}, {261}, {264}, {265}, {268}, {269}, {275}, {276}, {279}, {282}, {290}, {299}, {305}, {314}, {316}, {322}, {323}, {328}, {329}, {334}, {336}, {337}, {358}, {359}, {363}, {365}, {367}, {372}, {373}, {386}, {391}, {392}, {399}, {400}, {404}, {407}, {419}, {423}, {426}, {434}, {435}, {436}, {439}, {442}, {444}, {447}, {450}, {452}, {463}, {464}, {474}, {478}, {483}, {494}, {508}, {509}, {511}, {515}, {520}, {521}, {525}, {526}, {535}, {540}, {544}, {556}, {558}, {565}, {570}, {574}, {579}, {582}, {585}, {591}, {600}, {601}, {604}, {606}, {617}, {619}, {620}, {621}, {628}, {629}, {632}, {634}, {639}, {642}, {659}, {663}, {664}, {673}, {679}, {684}, {693}, {698}, {699}, {709}, {712}, {718}, {720}, {725}, {730}, {734}, {736}, {737}, {746}, {748}, {753}, {757}, {758}, {760}, {762}, {764}, {766}, {772}, {774}, {791}, {800}, {807}, {809}, {813}, {815}, {820}, {832}, {834}, {841}, {848}, {862}, {870}]\n"
     ]
    }
   ],
   "source": [
    "print(clusters)"
   ]
  },
  {
   "cell_type": "code",
   "execution_count": 14,
   "id": "749e96b0-4630-41a0-9cc8-4371684d0f4a",
   "metadata": {},
   "outputs": [],
   "source": [
    "#assign clusters to the data frame\n",
    "for i in range(0,len(clusters)):\n",
    "    sbir_df.at[tuple(clusters[i]),'ClusterID'] = i"
   ]
  },
  {
   "cell_type": "code",
   "execution_count": 25,
   "id": "b8220e7e-2058-493e-9382-f1630bdb297c",
   "metadata": {},
   "outputs": [
    {
     "name": "stdout",
     "output_type": "stream",
     "text": [
      "Num of records in Cluster:  682\n"
     ]
    },
    {
     "data": {
      "text/plain": [
       "1                                                                                                                                                                                                                                                                                                                                                                                                                                                                                                                                          ['Tactical radio system', 'wideband antenna set', 'operation', 'frequency spectrum jtr', 'conformal design', 'design', 'material design', 'bandwidth conformal', 'design', 'broadband antenna', 'design', 'material', 'scaling design', 'size', 'return loss requirement', 'engineering', 'prototype antenna', 'design', 'measurement', 'optimization study', 'aircraft', 'field measurement', 'development', 'ultra wideband', 'design', 'antenna system', 'interface jtr', 'broadband communication equipment']\n",
       "2                                                                                                                                                                                                                                                                                                                                                                                                                                                                                                                                                                                                                        ['datum fusion', 'decision support', 'decision complete set', 'mode', 'sensor', 'mode', 'system', 'integration', 'observation', 'architecture', 'algorithm', 'Dynamic Data', 'dynamic', 'experimentally test', 'datum flow analysis', 'decision making process', 'visual', 'bottleneck problem information flow', 'base analysis', 'queries/request', 'information update', 'information', 'input', 'time interval', 'active mode']\n",
       "3                                                                                                                                                                                                                                                                                                                                                                                                                                                                                                                                                                                                                                             ['goal phase', 'information', 'submarine', 'acoustic sensor', 'intra-sensor', 'submarine', 'acoustic', 'acoustic quieting technology', 'energy generation', 'adversary emit', 'acoustic energy', 'significant', 'investment', 'sensor', 'capability', 'sensor', 'information', 'information current', 'sensor', 'multi-sensor', 'technology', 'sonar datum', 'correlation tool', 'sonar contact localization']\n",
       "4                                                                                                                                                                                                                                                                                                              ['current', 'paradigm management', 'traffic', 'voice communication', 'Air Traffic Control ( atc ) century', 'low-level', 'aircraft', 'voice communication', 'remote', 'atc command', 'aircraft', 'speech recognition', 'atc communication', 'autonomous communication', 'remote', 'level', 'accuracy', 'reliability', 'speech recognition', 'response', 'clearance', 'speech recognition', 'capability', 'potential', 'technology', 'integration', 'retro-fit current', 'technology', 'mission planning conduct', 'ground operation', 'clearance', 'voice command', 'computer system', 'atc computer system', 'aircraft-borne', 'computer system access', 'clearance requirement', 'automatic', 'Speech recognition', 'capability', 'market']\n",
       "5                                                                                                                                                                                                                                                                                                                                                                                                                                                                                                                                                                                                  ['Small Business Innovation Research', 'phase project', 'metal oxide', 'catalytic converter', 'low', 'emission', 'pollute gas', 'hydrocarbon nitrogen oxide', 'phase engine', 'emission', 'catalytic conversion', 'ceria-based', 'dope', 'metal', 'active', 'performance', 'cost', 'impact', 'consumer', 'catalytic converter', 'gasoline-powered', 'automobile', 'catalytic converter', 'efficiency', 'environmental', 'mobile air pollution', 'source']\n",
       "                                                                                                                                                                                                                                                                                                                                                                                                                                                                                                                               ...                                                                                                                                                                                                                                                                                                                                                                                                                                                                                                                          \n",
       "865    ['ABSTRACT', 'knowledge', 'design', 'simulation-based training framework', 'awareness', 'simulation-based training method', 'awareness', 'rpa system', 'resulting&quot;framework airspace', 'training', 'automation', 'multiple function', 'training', 'airspace management', 'de-confliction system', 'manned rpa system', 'effectiveness', 'simulation-based training', 'awareness', 'rpa system', 'airspace management', 'de-confliction', 'performance', 'training', 'awareness', 'rpa system', 'phase project', 'FAST', 'application requirement', 'design', 'FAST', 'scenario', 'performance', 'measurement', 'adaptive scenario generation', 'simulation-based training', 'FAST technology', 'quality', 'training', 'situation awareness', 'communication', 'control manned rpa system', 'time cost', 'simulation-based training', 'cost', 'simulation-based training', 'rpa system', 'adaptive simulation', 'training', 'emergency response training', 'border security training', 'missile defense planning', 'emergency response planning']\n",
       "866                   ['energy generation', 'doe industry', 'stimulation', 'operation', 'photonic-computation-based wellbore', 'integrity', 'SHM system', 'real-time wellbore health monitoring', 'system', 'optic sensing system', 'temperature sensing', 'high-precision strain', 'pressure', 'temperature', 'measurement', 'multifunctional WellSense ™ system', 'multi-parameter', 'multi-point direct measurement', 'fiber-optic', 'real-time', 'fiber optic cable suitably ruggedize', 'ifos ’ on-the-fly', 'light-speed optical computation', 'fiber sensing layer', 'Digital Twin ’ system', 'mechanical', 'chemical model test', 'enhance', 'edge', 'computing', 'Digital Twin ’ framework', 'virtual representation', 'system behavior', 'reservoir flow map', 'temperature', 'pressure', 'energy flow', 'mechanism', 'prognostic architecture', 'probability', 'production', 'phase ifos multidisciplinary team', 'phase', 'field validation', 'prototype', 'ifos ’ photonic system', 'energy efficiency', 'egs production', 'structural health']\n",
       "867                                                                                                                                                                                                                                                                                                                                                                                                                                                                       ['LOGISTICS MANAGEMENT', 'E.G. SUPPLY unit ammunition', 'supply line', 'coupling human', 'SIMULATION', 'USE simulation', 'knowledge', 'SIMULATION TECHNIQUES', 'productivity effectivenes', 'issue', 'planning techniques', 'linkage', 'knowledge', 'SIMULATION techniques answering', 'knowledge', 'use blackboard', 'ARCHITECTURE', 'SIMULATION system', 'SIMULATION', 'construction analysis kbs model', 'design', 'implementation', 'analysis kbs', 'knowledge', 'DOMAIN INFORMATION', 'statistical ANALYSISTECHNIQUES ) skill', 'focus development', 'knowledge', 'analysis']\n",
       "868                                                                                                                                                                                             ['DESCRIPTION', 'applicant', 'fire', 'earthquake', 'tornado', 'fire', 'fire', 'report', 'fire', 'accidental death', 'motor vehicle accident', 'drown death', 'fire', 'damage', 'damage', 'injury', 'loss fire', 'smoke detector', 'smoke detector', 'death injury', 'response fire', 'damage', 'device', 'audio signal', 'smoke detector', 'fire alarm', 'audio signal', 'mechanism', 'individual stage sleep', 'device', 'protection', 'National Fire Protection Association 72', 'National Fire Alarm Code', 'auditory recognition capability signal', 'phase research', 'nonperiodic smoke detector', 'test', 'individual response', 'mechanism', 'effectiveness', 'smoke detector wake hearing', 'information base line', 'individual response', 'visual waking device', 'sleep stage', 'monitoring', 'effectiveness', 'goal phase', 'prototype device']\n",
       "869                                                                                                                                                                                                                                                                                                                                                                                                                                                                                                                                                              ['SET', 'system', 'Omnispectral sensing', 'unmanned intelligence vehicle', 'detect', 'geolocate target vehicle', 'urban environment', 'research team', 'system', 'concept operation', 'cost/benefit trade', 'processing strategy', 'rf eo sensor', 'sensor', 'active radar', 'sensor', 'low light Image', 'mwir/lwir/multispectral video', 'reconnaissance', 'cloud/smoke condition', 'construction', 'target', 'kinematic high', 'confuser density', 'phase research', 'savig laboratory']\n",
       "Name: abstract_entities, Length: 682, dtype: object"
      ]
     },
     "metadata": {},
     "output_type": "display_data"
    }
   ],
   "source": [
    "pd.set_option('display.max_colwidth', None)\n",
    "print(\"Num of records in Cluster: \",len(sbir_df['abstract_entities'][sbir_df['ClusterID'] == 1.0]))\n",
    "display(sbir_df['abstract_entities'][sbir_df['ClusterID'] == 1.0])"
   ]
  },
  {
   "cell_type": "code",
   "execution_count": 27,
   "id": "ca155f7d-ad5b-476d-a061-591d735ee1c0",
   "metadata": {},
   "outputs": [
    {
     "data": {
      "application/vnd.jupyter.widget-view+json": {
       "model_id": "301d7d8d3e8241df84746a9bc0902538",
       "version_major": 2,
       "version_minor": 0
      },
      "text/plain": [
       "EJoin (jaccard):   0%|          | 0/871 [00:00<?, ?it/s]"
      ]
     },
     "metadata": {},
     "output_type": "display_data"
    }
   ],
   "source": [
    "join = EJoin(similarity_threshold = 0.8,\n",
    "             metric = 'jaccard',\n",
    "             tokenization = 'qgrams_multiset',\n",
    "             qgrams = 2)\n",
    "\n",
    "g = join.fit(data)"
   ]
  },
  {
   "cell_type": "code",
   "execution_count": 28,
   "id": "190a321b-4a9e-4b9b-8ea7-63d549482217",
   "metadata": {},
   "outputs": [],
   "source": [
    "ec = ConnectedComponentsClustering()\n",
    "clusters = ec.process(g, data, similarity_threshold=0.8)"
   ]
  },
  {
   "cell_type": "code",
   "execution_count": 29,
   "id": "e1eb5b09-57e0-4792-bd9a-ee164001f19d",
   "metadata": {},
   "outputs": [],
   "source": [
    "for i in range(0,len(clusters)):\n",
    "    sbir_df.at[tuple(clusters[i]),'ClusterID2'] = i"
   ]
  },
  {
   "cell_type": "code",
   "execution_count": 30,
   "id": "36c19926-89bc-4939-8f98-ffd7910b916c",
   "metadata": {},
   "outputs": [
    {
     "name": "stdout",
     "output_type": "stream",
     "text": [
      "[{0}, {1}, {2}, {3}, {4}, {5}, {6}, {7}, {8}, {9}, {10}, {11}, {12}, {13}, {14}, {15}, {16}, {17}, {18}, {19}, {20}, {21}, {22}, {23}, {24}, {25}, {26}, {27}, {28}, {29}, {30}, {31}, {32}, {33}, {34}, {35}, {36}, {37}, {38}, {39}, {40}, {41}, {42}, {43}, {44}, {45}, {46}, {47}, {48}, {49}, {50}, {51}, {52}, {53}, {54}, {55}, {56}, {57}, {58}, {59}, {60}, {61}, {62}, {63}, {64}, {65}, {66}, {67}, {68}, {69}, {70}, {71}, {72}, {73}, {74}, {75}, {76}, {77}, {78}, {79}, {80}, {81}, {82}, {83}, {84}, {85}, {86}, {87}, {88}, {89}, {90}, {91}, {92}, {93}, {94}, {95}, {96}, {97}, {98}, {99}, {100}, {101}, {102}, {103}, {104}, {105}, {106}, {107}, {108}, {109}, {110}, {111}, {112}, {113}, {114}, {115}, {116}, {117}, {118}, {119}, {120}, {121}, {122}, {123}, {124}, {125}, {126}, {127}, {128}, {129}, {130}, {131}, {132}, {133}, {134}, {135}, {136}, {137}, {138}, {139}, {140}, {141}, {142}, {143}, {144}, {145}, {146}, {147}, {148}, {149}, {150}, {726, 151}, {152}, {153}, {154}, {155}, {156}, {157}, {158}, {159}, {160}, {161}, {162}, {163}, {164}, {165}, {166}, {167}, {168}, {169}, {170}, {171}, {172}, {173}, {174}, {175}, {176}, {177}, {178}, {179}, {180}, {181}, {182}, {183}, {184}, {185}, {186}, {187}, {188}, {189}, {190}, {191}, {192}, {193}, {194}, {195}, {196}, {197}, {198}, {199}, {200}, {201}, {202}, {203}, {204}, {205}, {206}, {207}, {208}, {209}, {210}, {211}, {212}, {213}, {214}, {215}, {216}, {217}, {218}, {219}, {220}, {221}, {222}, {223}, {224}, {225}, {226}, {227}, {228}, {229}, {230}, {231}, {232}, {233}, {234}, {235}, {236}, {237}, {238}, {239}, {240}, {241}, {242}, {243}, {244}, {245}, {246}, {247}, {248}, {249}, {250}, {251}, {252}, {253}, {254}, {255}, {256}, {257}, {258}, {259}, {260}, {261}, {262}, {263}, {264}, {265}, {266}, {267}, {268}, {269}, {270}, {271}, {272}, {273}, {274}, {275}, {276}, {277}, {278}, {279}, {280}, {281}, {282}, {283}, {284}, {285}, {286}, {287}, {288}, {289}, {290}, {291}, {292}, {293}, {294}, {295}, {296}, {297}, {298}, {299}, {300}, {301}, {302}, {303}, {304}, {305}, {306}, {307}, {308}, {309}, {310}, {311}, {312}, {313}, {314}, {315}, {316}, {317}, {318}, {319}, {320}, {321}, {322}, {323}, {324}, {325}, {326}, {327}, {328}, {329}, {330}, {331}, {332}, {333}, {334}, {335}, {336}, {337}, {338}, {339}, {340}, {341}, {342}, {343}, {344}, {345}, {346}, {347}, {348}, {349}, {350}, {351}, {352}, {353}, {354}, {355}, {356}, {357}, {358}, {359}, {360}, {361}, {362}, {363}, {364}, {365}, {366}, {367}, {368}, {369}, {370}, {371}, {372}, {373}, {374}, {375}, {376}, {377}, {378}, {379}, {380}, {381}, {382}, {383}, {384}, {385}, {386}, {387}, {388}, {389}, {390}, {391}, {392}, {393}, {394}, {395}, {396}, {397}, {398}, {399}, {400}, {401}, {402}, {403}, {404}, {405}, {406}, {407}, {408}, {409}, {410}, {411}, {412}, {413}, {414}, {415}, {416}, {417}, {418}, {419}, {420}, {421}, {422}, {423}, {424}, {425}, {426}, {427}, {428}, {429}, {430}, {431}, {432}, {433}, {434}, {435}, {436}, {437}, {438}, {439}, {440}, {441}, {442}, {443}, {444}, {445}, {446}, {447}, {448}, {449}, {450}, {451}, {452}, {453}, {454}, {455}, {456}, {457}, {458}, {459}, {460}, {461}, {462}, {463}, {464}, {465}, {466}, {467}, {468}, {469}, {470}, {471}, {472}, {473}, {474}, {475}, {476}, {477}, {478}, {479}, {480}, {481}, {482}, {483}, {484}, {485}, {486}, {487}, {488}, {489}, {490}, {491}, {492}, {493}, {494}, {495}, {496}, {497}, {498}, {499}, {500}, {501}, {502}, {503}, {504}, {505}, {506}, {507}, {508}, {509}, {510}, {511}, {512}, {513}, {514}, {515}, {516}, {517}, {518}, {519}, {520}, {521}, {522}, {523}, {524}, {525}, {526}, {527}, {528}, {529}, {530}, {531}, {532}, {533}, {534}, {535}, {536}, {537}, {538}, {539}, {540}, {541}, {542}, {543}, {544}, {545}, {546}, {547}, {548}, {549}, {550}, {551}, {552}, {553}, {713, 554}, {555}, {556}, {557}, {558}, {559}, {560}, {561}, {562}, {563}, {564}, {565}, {566}, {567}, {568}, {569}, {570}, {571}, {572}, {573}, {574}, {575}, {576}, {577}, {578}, {579}, {580}, {581}, {582}, {583}, {584}, {585}, {586}, {587}, {588}, {589}, {590}, {591}, {592}, {593}, {594}, {595}, {596}, {597}, {598}, {599}, {600}, {601}, {602}, {603}, {604}, {605}, {606}, {607}, {608}, {609}, {610}, {611}, {612}, {613}, {614}, {615}, {616}, {617}, {618}, {619}, {620}, {621}, {622}, {623}, {624}, {625}, {626}, {627}, {628}, {629}, {630}, {631}, {632}, {633}, {634}, {635}, {636}, {637}, {638}, {639}, {640}, {641}, {642}, {643}, {644}, {645}, {646}, {647}, {648}, {649}, {650}, {651}, {652}, {653}, {654}, {655}, {656}, {657}, {658}, {659}, {660}, {661}, {662}, {663}, {664}, {665}, {666}, {667}, {668}, {669}, {670}, {671}, {672}, {673}, {674}, {675}, {676}, {677}, {678}, {679}, {680}, {681}, {682}, {683}, {684}, {685}, {686}, {687}, {688}, {689}, {690}, {691}, {692}, {693}, {694}, {695}, {696}, {697}, {698}, {699}, {700}, {701}, {702}, {703}, {704}, {705}, {706}, {707}, {708}, {709}, {710}, {711}, {712}, {714}, {715}, {716}, {717}, {718}, {719}, {720}, {721}, {722}, {723}, {724}, {725}, {727}, {728}, {729}, {730}, {731}, {732}, {733}, {734}, {735}, {736}, {737}, {738}, {739}, {740}, {741}, {742}, {743}, {744}, {745}, {746}, {747}, {748}, {749}, {750}, {751}, {752}, {753}, {754}, {755}, {756}, {757}, {758}, {759}, {760}, {761}, {762}, {763}, {764}, {765}, {766}, {767}, {768}, {769}, {770}, {771}, {772}, {773}, {774}, {775}, {776}, {777}, {778}, {779}, {780}, {781}, {782}, {783}, {784}, {785}, {786}, {787}, {788}, {789}, {790}, {791}, {792}, {793}, {794}, {795}, {796}, {797}, {798}, {799}, {800}, {801}, {802}, {803}, {804}, {805}, {806}, {807}, {808}, {809}, {810}, {811}, {812}, {813}, {814}, {815}, {816}, {817}, {818}, {819}, {820}, {821}, {822}, {823}, {824}, {825}, {826}, {827}, {828}, {829}, {830}, {831}, {832}, {833}, {834}, {835}, {836}, {837}, {838}, {839}, {840}, {841}, {842}, {843}, {844}, {845}, {846}, {847}, {848}, {849}, {850}, {851}, {852}, {853}, {854}, {855}, {856}, {857}, {858}, {859}, {860}, {861}, {862}, {863}, {864}, {865}, {866}, {867}, {868}, {869}, {870}]\n"
     ]
    }
   ],
   "source": [
    "print(clusters)"
   ]
  },
  {
   "cell_type": "code",
   "execution_count": null,
   "id": "d04bff96-ac89-433b-afc5-1f3079502a64",
   "metadata": {},
   "outputs": [],
   "source": []
  }
 ],
 "metadata": {
  "kernelspec": {
   "display_name": "Python 3 (ipykernel)",
   "language": "python",
   "name": "python3"
  },
  "language_info": {
   "codemirror_mode": {
    "name": "ipython",
    "version": 3
   },
   "file_extension": ".py",
   "mimetype": "text/x-python",
   "name": "python",
   "nbconvert_exporter": "python",
   "pygments_lexer": "ipython3",
   "version": "3.9.12"
  }
 },
 "nbformat": 4,
 "nbformat_minor": 5
}
