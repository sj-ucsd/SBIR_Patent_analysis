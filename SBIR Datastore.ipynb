{
 "cells": [
  {
   "cell_type": "markdown",
   "id": "0936b56e-bad1-4322-b848-8e417f8c8b73",
   "metadata": {
    "tags": []
   },
   "source": [
    "## DSE 203 Final Project GROUP 1 - Data Store Initialization\n",
    "### Sagar, Prakhar, Laben\n",
    "Code to setup the following data sets into data stores along with functions to intereact with the data store\n"
   ]
  },
  {
   "cell_type": "code",
   "execution_count": 1,
   "id": "3f98ffa7-a5d3-4677-9139-9b116c335833",
   "metadata": {},
   "outputs": [],
   "source": [
    "#Installation Steps as required\n",
    "#!pip install psycopg2-binary         #This install did work. It is on the installation page"
   ]
  },
  {
   "cell_type": "code",
   "execution_count": 2,
   "id": "c8fef0b8",
   "metadata": {},
   "outputs": [],
   "source": [
    "#Import packages\n",
    "import pandas as pd        #Used to perform EDA of the structured data\n",
    "import psycopg2            #Used to connect to Postgres\n",
    "import csv                 #Used to read csv file into PostGres"
   ]
  },
  {
   "cell_type": "code",
   "execution_count": 3,
   "id": "edb9c957-7299-444b-8934-3081bf434bbe",
   "metadata": {},
   "outputs": [],
   "source": [
    "#Initialize variables\n",
    "\n",
    "#SBIR Award Dataset Settings\n",
    "#Downloaded from: https://www.sbir.gov/sbirsearch/award/all\n",
    "SBIRDataSet = './input_files/award_data.csv'\n",
    "tableName = 'SBIR'\n",
    "\n",
    "#Postgres Connection Settings\n",
    "#Important use ' and not \" when creating variable values or there will be errors when trying to connect to the database\n",
    "#pghost='localhost',           #The location of the postgres server. This setting is set to assume its on the local machine\n",
    "#pgdatabase='DSE203FPG1',      #The name of the database hosting the data tables. Instructions on how to create this database is provided in a following cell\n",
    "#pguser='postgres',            #The username connecting used to connect to the database\n",
    "#pgpassword='postgres'         #The password used to connect the user to the database"
   ]
  },
  {
   "cell_type": "markdown",
   "id": "3a1f574c",
   "metadata": {},
   "source": [
    "### SBIR Data"
   ]
  },
  {
   "cell_type": "code",
   "execution_count": 4,
   "id": "9a5a6050-71a2-41d4-ab88-0a4b5838bb62",
   "metadata": {},
   "outputs": [],
   "source": [
    "#Connect to your postgres DB\n",
    "\n",
    "#-----------------------------------------------------------\n",
    "#If you don't have a local database, then follow these steps\n",
    "#Run this command in the terminal\n",
    "#sudo -u postgres psqlrt\n",
    "\n",
    "#Then create the database using this command:\n",
    "#CREATE DATABASE DSE203FPG1;\n",
    "#Other useful Terminal commands\n",
    "#/c  dse203fpg1 #connects to the database\n",
    "#dt  #displays list of table\n",
    "#-----------------------------------------------------------\n",
    "def connect_to_db():\n",
    "    conn = psycopg2.connect(\n",
    "        host='localhost',\n",
    "        database='dse203fpg1',\n",
    "        user='postgres',\n",
    "        password='postgres')\n",
    "\n",
    "    # Open a cursor to perform database operations\n",
    "    cur = conn.cursor()\n",
    "\n",
    "    # execute a statement\n",
    "    #print('PostgreSQL database version:')\n",
    "    #cur.execute('SELECT version()')\n",
    "\n",
    "    # display the PostgreSQL database server version\n",
    "    #db_version = cur.fetchone()\n",
    "    #print(db_version)\n",
    "\n",
    "    return cur, conn\n"
   ]
  },
  {
   "cell_type": "code",
   "execution_count": 5,
   "id": "d27607c3-86ef-44a5-8fda-f324ebf960a1",
   "metadata": {},
   "outputs": [],
   "source": [
    "#Create the SQL Table that will hold the CSV file content\n",
    "def create_SBIR_data_table(cur, conn,tableName):\n",
    "    sql = '''CREATE TABLE {}(\"Company\" VARCHAR(255), \"Award Title\" VARCHAR(255), \"Agency\" VARCHAR(255), \"Branch\" VARCHAR(255), \"Phase\" VARCHAR(255), \n",
    "                            \"Program\" VARCHAR(255), \"Agency Tracking Number\" VARCHAR(255), \"Contract\" VARCHAR(255), \"Proposal Award Date\" DATE, \n",
    "                            \"Contract End Date\" DATE, \"Solicitation Number\" TEXT, \"Solicitation Year\" INTEGER, \"Solicitation Close Date\" DATE, \n",
    "                            \"Proposal Receipt Date\" DATE, \"Date of Notification\" DATE, \"Topic Code\" TEXT, \"Award Year\" INTEGER, \"Award Amount\" TEXT, \n",
    "                            \"Duns\" VARCHAR(255), \"HUBZone Owned\" CHAR(1), \"Socially and Economically Disadvantaged\" CHAR(1), \"Woman Owned\" CHAR(1), \n",
    "                            \"Number Employees\" INTEGER, \"Company Website\" TEXT, \"Address1\"  TEXT, \"Address2\" TEXT, \"City\" VARCHAR(120), \n",
    "                            \"State\" CHAR(2), \"Zip\" TEXT, \"Abstract\" TEXT, \"Contact Name\" VARCHAR(255), \"Contact Title\" TEXT, \"Contact Phone\" TEXT, \n",
    "                            \"Contact Email\" VARCHAR(255), \"PI Name\" VARCHAR(255), \"PI Title\" VARCHAR(255), \"PI Phone\" VARCHAR(255), \"PI Email\" VARCHAR(255), \n",
    "                            \"RI Name\" VARCHAR(255), \"RI POC Name\" VARCHAR(255), \"RI POC Phone\" VARCHAR(255));'''.format(tableName)\n",
    "    #sql = '''CREATE TABLE {}(\"Home Base\" TEXT)'''.format('BOB')   #Test Case\n",
    "    cur.execute(sql) \n",
    "    conn.commit()"
   ]
  },
  {
   "cell_type": "code",
   "execution_count": 6,
   "id": "5af6275e-971b-427f-8f6b-fad3f632c161",
   "metadata": {},
   "outputs": [],
   "source": [
    "# Loop through each CSV\n",
    "def insert_SBIR_data_into_table(cur, conn,SBIRDataSet,tableName):\n",
    "    with open(SBIRDataSet, 'r') as f:\n",
    "        reader = csv.reader(f)\n",
    "        next(reader) # Skip the header row.\n",
    "        for row in reader:\n",
    "            row = [val if val != '' else None for val in row]\n",
    "            cur.execute(\n",
    "            \"INSERT INTO {} VALUES (%s, %s, %s, %s, %s, %s, %s, %s, %s, %s, %s, %s, %s, %s, %s, %s, %s, %s, %s, %s, %s, %s, %s, %s, %s, %s, %s, %s, %s, %s, %s, %s,%s, %s, %s, %s, %s, %s, %s, %s, %s)\".format(tableName),\n",
    "            row\n",
    "        )\n",
    "    conn.commit() "
   ]
  },
  {
   "cell_type": "code",
   "execution_count": 7,
   "id": "49a328ac-bc9d-4f93-954e-f529f1ae6d25",
   "metadata": {},
   "outputs": [],
   "source": [
    "#Find all content in a Table\n",
    "def print_SBIR_data_table(cur, conn,tableName, limitSize):\n",
    "    sql3 = '''select * from {} LIMIT {};'''.format(tableName, limitSize)\n",
    "    cur.execute(sql3) \n",
    "    for i in cur.fetchall(): \n",
    "        print(i) \n",
    "\n",
    "    conn.commit() "
   ]
  },
  {
   "cell_type": "code",
   "execution_count": 8,
   "id": "ec50d547-2cb9-413b-b000-4778af69060c",
   "metadata": {},
   "outputs": [],
   "source": [
    "#queries a single table and returns a dataframe\n",
    "#colName = '*' will return all columns of data\n",
    "#colName = 'Abstract' will return the single column Abstract\n",
    "#limitSize = -1 means return all rows\n",
    "#limitSize = 0 or more integer values will return the number of rows specified\n",
    "def get_SBIR_data_table(cur, conn, tableName, colNames='*', limitSize=-1):\n",
    "\n",
    "    #Convert a list of column names into the format needed for SQL\n",
    "    columnStr = ''\n",
    "    if colNames == '*':\n",
    "        columnStr = colNames\n",
    "    elif type(colNames) == list:\n",
    "        for col in colNames:\n",
    "            columnStr = columnStr+'\"'+col+'\",'\n",
    "        #remove the last comma\n",
    "        columnStr = columnStr[:-1]\n",
    "    elif type(colNames) == str:\n",
    "        columnStr = '\"'+colNames+'\"'\n",
    "    #print (columnStr)\n",
    "    \n",
    "    #Create the SQL query\n",
    "    if (limitSize == -1):\n",
    "        sql4 = '''select {} from {};'''.format(columnStr, tableName)\n",
    "    elif (limitSize > 0):\n",
    "        sql4 = '''select {} from {} LIMIT {};'''.format(columnStr, tableName, limitSize)\n",
    "    else:\n",
    "        sql4 = ''\n",
    "    #print(sql4)\n",
    "    \n",
    "    #Run the query\n",
    "    cur.execute(sql4) \n",
    "    #print(\"The number of parts: \", cur.rowcount)\n",
    "\n",
    "    #Get the Column Names from the query (Especially if the * is used)\n",
    "    column_names = [desc[0] for desc in cur.description]\n",
    "    #print(\"COL NAMES: \",column_names)\n",
    "\n",
    "    #Initialize the dataframe with the column names (need to do this before loading the data\n",
    "    sqldf = pd.DataFrame(columns=column_names)\n",
    "    #print (sqldf.info())\n",
    "    \n",
    "    row = cur.fetchone() #fetch's one row at a time\n",
    "    i=0                  #row number of the dataframe\n",
    "\n",
    "    #Iterate throught the sql output and add one row at a time into the pandas dataframe\n",
    "    while row is not None:\n",
    "        print(row)\n",
    "        sqldf.loc[i] = row\n",
    "        i +=1\n",
    "        row = cur.fetchone()\n",
    "\n",
    "    conn.commit() \n",
    "    \n",
    "    return sqldf"
   ]
  },
  {
   "cell_type": "code",
   "execution_count": 9,
   "id": "ff8deba4-8f75-4eef-8a68-8f3523d338bb",
   "metadata": {},
   "outputs": [],
   "source": [
    "#close connection\n",
    "def close_connection_to_db(conn):\n",
    "    conn.close ()"
   ]
  },
  {
   "cell_type": "code",
   "execution_count": 10,
   "id": "d6178210-5546-4513-a60e-3c7007db66fb",
   "metadata": {},
   "outputs": [],
   "source": [
    "#Run through all structured database steps once.\n",
    "#This will go through each step in the process and will only work if starting fresh each time.\n",
    "\n",
    "#If you run this command multiple times, be sure to have a terminal open\n",
    "#Then Log into postgres with the following command:\n",
    "#sudo -u postgres psql\n",
    "#Then connect to the database with the following command:\n",
    "#\\c dse203hw3\n",
    "#NOTE: If you use a different database name then 'dse203hw3', then replace 'dse203hw3' with the database name of your choosing\n",
    "#Now that you are connected to the database in the terminal You can use the following commands\n",
    "#\\dt    This will list the tables in the database\n",
    "#drop table nourish;    This will remove the table.\n",
    "#Once the table has been removed, then you can rerun this series of conection without error.\n",
    "\n",
    "def init_SBIR_data(SBIRDataSet,tableName):\n",
    "    #Connect to the Database\n",
    "    cur, conn = connect_to_db()\n",
    "    \n",
    "    query = '''SELECT EXISTS (SELECT relname FROM pg_class WHERE relname = 'sbir');'''\n",
    "    resp = cur.execute(query)\n",
    "    rows = cur.fetchone()\n",
    "    if not rows[0]: \n",
    "        #Create Database empty table for structured data set\n",
    "        create_SBIR_data_table(cur, conn, tableName)\n",
    "\n",
    "        #Insert structured data into table\n",
    "        insert_SBIR_data_into_table(cur, conn,SBIRDataSet,tableName)\n",
    "\n",
    "    #close the database connection\n",
    "    close_connection_to_db(conn)"
   ]
  },
  {
   "cell_type": "code",
   "execution_count": 11,
   "id": "9ffa4748-15a1-411c-89aa-0ab5410aaebd",
   "metadata": {},
   "outputs": [],
   "source": [
    "#%%time\n",
    "# Initialize the SQL database - required only one time\n",
    "#init_SBIR_data(SBIRDataSet,tableName)"
   ]
  },
  {
   "cell_type": "code",
   "execution_count": 12,
   "id": "bad8b1a0-8728-421a-917f-2e355801187b",
   "metadata": {},
   "outputs": [],
   "source": [
    "#%%time\n",
    "# Read data from SQL Database (postgres)\n",
    "#limitSize = 10\n",
    "#SBIR_data_list = print_SBIR_data_table(cur, conn, tableName, limitSize)"
   ]
  },
  {
   "cell_type": "code",
   "execution_count": 13,
   "id": "b172bc2b-bca6-49ff-a0aa-891addfa3b9f",
   "metadata": {},
   "outputs": [],
   "source": [
    "##Example to of getting all columns and all rows\n",
    "##This will most likely error out, so don't use this example!!!\n",
    "\n",
    "#cur, conn = connect_to_db()\n",
    "\n",
    "#get_SBIR_data_table(cur, conn, tableName)\n",
    "\n",
    "#close_connection_to_db(conn)"
   ]
  },
  {
   "cell_type": "code",
   "execution_count": 14,
   "id": "c70ac338-b80c-4162-88af-f8ae9b60b5e1",
   "metadata": {},
   "outputs": [],
   "source": [
    "##Example to of getting all columns and 10 rows\n",
    "\n",
    "#cur, conn = connect_to_db()\n",
    "\n",
    "#sbirdf = get_SBIR_data_table(cur, conn, tableName, '*', limitSize = 2)\n",
    "\n",
    "#close_connection_to_db(conn)\n",
    "\n",
    "#display(sbirdf)"
   ]
  },
  {
   "cell_type": "code",
   "execution_count": 15,
   "id": "a9562d72-85f3-4fde-a162-3e6602a5d337",
   "metadata": {},
   "outputs": [],
   "source": [
    "##Example to of getting 1 column and 10 rows\n",
    "\n",
    "#cur, conn = connect_to_db()\n",
    "\n",
    "#sbirdf = get_SBIR_data_table(cur, conn, tableName, 'Abstract', limitSize = 10)\n",
    "\n",
    "#close_connection_to_db(conn)\n",
    "\n",
    "#display(sbirdf)"
   ]
  },
  {
   "cell_type": "code",
   "execution_count": 16,
   "id": "2602741f-cf2c-4843-9df3-f8c79f1edf07",
   "metadata": {},
   "outputs": [],
   "source": [
    "##Example to of getting 1 column and 10 rows\n",
    "\n",
    "#cur, conn = connect_to_db()\n",
    "\n",
    "#sbirdf = get_SBIR_data_table(cur, conn, tableName, [\"Abstract\", \"State\", \"Award Amount\", \"Date of Notification\"] , limitSize = 10)\n",
    "\n",
    "#close_connection_to_db(conn)\n",
    "\n",
    "#display(sbirdf)"
   ]
  }
 ],
 "metadata": {
  "kernelspec": {
   "display_name": "Python 3 (ipykernel)",
   "language": "python",
   "name": "python3"
  },
  "language_info": {
   "codemirror_mode": {
    "name": "ipython",
    "version": 3
   },
   "file_extension": ".py",
   "mimetype": "text/x-python",
   "name": "python",
   "nbconvert_exporter": "python",
   "pygments_lexer": "ipython3",
   "version": "3.9.13"
  }
 },
 "nbformat": 4,
 "nbformat_minor": 5
}
