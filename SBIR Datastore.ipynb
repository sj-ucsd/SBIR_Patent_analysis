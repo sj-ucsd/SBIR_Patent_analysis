{
 "cells": [
  {
   "cell_type": "markdown",
   "id": "0936b56e-bad1-4322-b848-8e417f8c8b73",
   "metadata": {
    "tags": []
   },
   "source": [
    "## DSE 203 Final Project GROUP 1 - Data Store Initialization\n",
    "### Sagar, Prakhar, Laben\n",
    "Code to setup the following data sets into data stores along with functions to intereact with the data store\n"
   ]
  },
  {
   "cell_type": "code",
   "execution_count": 1,
   "id": "3f98ffa7-a5d3-4677-9139-9b116c335833",
   "metadata": {},
   "outputs": [],
   "source": [
    "#Installation Steps as required\n",
    "\n",
    "#Installation one of these packages to work with PostgreSQL from python\n",
    "#!pip install psycopg2-binary         #This install did work. It is on the installation page"
   ]
  },
  {
   "cell_type": "code",
   "execution_count": 2,
   "id": "c8fef0b8",
   "metadata": {},
   "outputs": [],
   "source": [
    "#Import packages\n",
    "#import json                #Used to work with the semi-structured json data set\n",
    "#import jsonpath_ng as jp   #Used to parse the json data set\n",
    "#from jsonpath_ng.ext import parse\n",
    "import pandas as pd        #Used to perform EDA of the structured data\n",
    "import psycopg2            #Used to connect to Postgres\n",
    "import csv                 #Used to read csv file into PostGres\n",
    "#import numpy as np\n",
    "#import re"
   ]
  },
  {
   "cell_type": "code",
   "execution_count": 3,
   "id": "edb9c957-7299-444b-8934-3081bf434bbe",
   "metadata": {},
   "outputs": [],
   "source": [
    "#Initialize variables\n",
    "\n",
    "#SBIR Award Dataset Settings\n",
    "#Downloaded from: https://www.sbir.gov/sbirsearch/award/all\n",
    "SBIRDataSet = './data/award_data.csv'\n",
    "tableName = 'SBIR'\n",
    "\n",
    "#Postgres Connection Settings\n",
    "#Important use ' and not \" when creating variable values or there will be errors when trying to connect to the database\n",
    "#pghost='localhost',           #The location of the postgres server. This setting is set to assume its on the local machine\n",
    "#pgdatabase='DSE203FPG1',      #The name of the database hosting the data tables. Instructions on how to create this database is provided in a following cell\n",
    "#pguser='postgres',            #The username connecting used to connect to the database\n",
    "#pgpassword='postgres'         #The password used to connect the user to the database"
   ]
  },
  {
   "cell_type": "markdown",
   "id": "3a1f574c",
   "metadata": {},
   "source": [
    "### SBIR Data"
   ]
  },
  {
   "cell_type": "code",
   "execution_count": 28,
   "id": "43628db7",
   "metadata": {},
   "outputs": [],
   "source": [
    "#EDA: If EDA is desired, load csv file into pandas\n",
    "#df = pd.read_csv(SBIRDataSet)\n",
    "#df.info()"
   ]
  },
  {
   "cell_type": "code",
   "execution_count": 29,
   "id": "859ce5e2-b0db-4408-b2cb-4369300a4f64",
   "metadata": {},
   "outputs": [],
   "source": [
    "#df['Duns'][~df['Duns'].isna()].unique()"
   ]
  },
  {
   "cell_type": "code",
   "execution_count": 6,
   "id": "9a5a6050-71a2-41d4-ab88-0a4b5838bb62",
   "metadata": {},
   "outputs": [],
   "source": [
    "#Connect to your postgres DB\n",
    "\n",
    "#-----------------------------------------------------------\n",
    "#If you don't have a local database, then follow these steps\n",
    "#Run this command in the terminal\n",
    "#sudo -u postgres psqlrt\n",
    "\n",
    "#Then create the database using this command:\n",
    "#CREATE DATABASE DSE203FPG1;\n",
    "#-----------------------------------------------------------\n",
    "def connect_to_db():\n",
    "    conn = psycopg2.connect(\n",
    "        host='localhost',\n",
    "        database='dse203fpg1',\n",
    "        user='postgres',\n",
    "        password='postgres')\n",
    "\n",
    "    # Open a cursor to perform database operations\n",
    "    cur = conn.cursor()\n",
    "\n",
    "    # execute a statement\n",
    "    #print('PostgreSQL database version:')\n",
    "    #cur.execute('SELECT version()')\n",
    "\n",
    "    # display the PostgreSQL database server version\n",
    "    #db_version = cur.fetchone()\n",
    "    #print(db_version)\n",
    "\n",
    "    return cur, conn\n"
   ]
  },
  {
   "cell_type": "code",
   "execution_count": 7,
   "id": "d27607c3-86ef-44a5-8fda-f324ebf960a1",
   "metadata": {},
   "outputs": [],
   "source": [
    "#Create the SQL Table that will hold the CSV file content\n",
    "#Only run this cell once, otherwise it will generate an error each time unless the table is deleted.\n",
    "\n",
    "def create_SBIR_data_table(cur, conn,tableName):\n",
    "    sql = '''CREATE TABLE {}(\"Company\" VARCHAR(255), \"Award Title\" VARCHAR(255), \"Agency\" VARCHAR(255), \"Branch\" VARCHAR(255), \"Phase\" VARCHAR(255), \n",
    "                            \"Program\" VARCHAR(255), \"Agency Tracking Number\" VARCHAR(255), \"Contract\" VARCHAR(255), \"Proposal Award Date\" DATE, \n",
    "                            \"Contract End Date\" DATE, \"Solicitation Number\" TEXT, \"Solicitation Year\" INTEGER, \"Solicitation Close Date\" DATE, \n",
    "                            \"Proposal Receipt Date\" DATE, \"Date of Notification\" DATE, \"Topic Code\" TEXT, \"Award Year\" INTEGER, \"Award Amount\" TEXT, \n",
    "                            \"Duns\" VARCHAR(255), \"HUBZone Owned\" CHAR(1), \"Socially and Economically Disadvantaged\" CHAR(1), \"Woman Owned\" CHAR(1), \n",
    "                            \"Number Employees\" INTEGER, \"Company Website\" TEXT, \"Address1\"  TEXT, \"Address2\" TEXT, \"City\" VARCHAR(120), \n",
    "                            \"State\" CHAR(2), \"Zip\" TEXT, \"Abstract\" TEXT, \"Contact Name\" VARCHAR(255), \"Contact Title\" TEXT, \"Contact Phone\" TEXT, \n",
    "                            \"Contact Email\" VARCHAR(255), \"PI Name\" VARCHAR(255), \"PI Title\" VARCHAR(255), \"PI Phone\" VARCHAR(255), \"PI Email\" VARCHAR(255), \n",
    "                            \"RI Name\" VARCHAR(255), \"RI POC Name\" VARCHAR(255), \"RI POC Phone\" VARCHAR(255));'''.format(tableName)\n",
    "    #sql = '''CREATE TABLE {}(\"Home Base\" TEXT)'''.format('BOB')   #Test Case\n",
    "    cur.execute(sql) \n",
    "    conn.commit()"
   ]
  },
  {
   "cell_type": "code",
   "execution_count": 8,
   "id": "e9bc823d-4fe9-4fc7-a262-fecacece7a24",
   "metadata": {},
   "outputs": [],
   "source": [
    "#Test scripts:\n",
    "\n",
    "#Connect to the Database\n",
    "#cur, conn = connect_to_db()\n",
    "\n",
    "#Create Database empty table for structured data set\n",
    "#create_SBIR_data_table(cur, conn, tableName)\n",
    "\n",
    "#close the database connection\n",
    "#conn.close ()"
   ]
  },
  {
   "cell_type": "code",
   "execution_count": 9,
   "id": "5af6275e-971b-427f-8f6b-fad3f632c161",
   "metadata": {},
   "outputs": [],
   "source": [
    "# Loop through each CSV\n",
    "#Only run this cell once. After it succesfully runs, then comment out this cell, otherwise it will generate duplicate rows each time its run.\n",
    "def insert_SBIR_data_into_table(cur, conn,SBIRDataSet,tableName):\n",
    "    with open(SBIRDataSet, 'r') as f:\n",
    "        reader = csv.reader(f)\n",
    "        next(reader) # Skip the header row.\n",
    "        for row in reader:\n",
    "            row = [val if val != '' else None for val in row]\n",
    "            cur.execute(\n",
    "            \"INSERT INTO {} VALUES (%s, %s, %s, %s, %s, %s, %s, %s, %s, %s, %s, %s, %s, %s, %s, %s, %s, %s, %s, %s, %s, %s, %s, %s, %s, %s, %s, %s, %s, %s, %s, %s,%s, %s, %s, %s, %s, %s, %s, %s, %s)\".format(tableName),\n",
    "            row\n",
    "        )\n",
    "    conn.commit() "
   ]
  },
  {
   "cell_type": "code",
   "execution_count": 10,
   "id": "2e2f4cb6-9056-490d-91fe-2ef832825b9c",
   "metadata": {},
   "outputs": [],
   "source": [
    "#Connect to the Database\n",
    "#cur, conn = connect_to_db()\n",
    "\n",
    "#insert_SBIR_data_into_table(cur, conn,SBIRDataSet,tableName)\n",
    "\n",
    "#close the database connection\n",
    "#conn.close ()"
   ]
  },
  {
   "cell_type": "code",
   "execution_count": 20,
   "id": "49a328ac-bc9d-4f93-954e-f529f1ae6d25",
   "metadata": {},
   "outputs": [],
   "source": [
    "#Find all content in a Table\n",
    "def print_SBIR_data_table(cur, conn,tableName, limitSize):\n",
    "    sql3 = '''select * from {} LIMIT {};'''.format(tableName, limitSize)\n",
    "    cur.execute(sql3) \n",
    "    for i in cur.fetchall(): \n",
    "        print(i) \n",
    "\n",
    "    conn.commit() "
   ]
  },
  {
   "cell_type": "code",
   "execution_count": 21,
   "id": "12a42cc0-ffd1-4e76-8a57-6fbfc407f6cc",
   "metadata": {},
   "outputs": [],
   "source": [
    "#Find all content in the desird columns of a Table\n",
    "# The following code assumes the SQL query returns two columns\n",
    "# The code below turns that into a dictionary (hash table) with column 0 as key and \n",
    "# column 1 as value for that key.\n",
    "# Key may repeat multiple times hence this code also merges all values for same key\n",
    "# and generates a list\n",
    "#def get_data_from_table(tableName,sqlListColumn, sqlJoinColumn):\n",
    "#    cur, conn = connect_to_db()\n",
    "#    sql3 = 'select '+sqlJoinColumn+', '+sqlListColumn+' from ' +  tableName + ';'\n",
    "#\n",
    "#    cur.execute(sql3) \n",
    "#    result = cur.fetchall()\n",
    "\n",
    "#    #print(result)\n",
    "#    conn.commit()\n",
    "#    close_connection_to_db(conn)\n",
    "    \n",
    "#    mydict = dict()\n",
    "#    struct_data_list = np.array(result)\n",
    "#    for item in struct_data_list:\n",
    "#        #mydict[item[0]] = []\n",
    "#        if item[0] in mydict:\n",
    "#            mydict[item[0]] = mydict[item[0]] + ',' + item[1]  \n",
    "#        else:\n",
    "#            mydict[item[0]] = item[1]\n",
    "\n",
    "#    for item in mydict.keys():\n",
    "#        mydict[item] = list(set(mydict[item].split(',')))\n",
    "    \n",
    "    \n",
    "#    return mydict"
   ]
  },
  {
   "cell_type": "code",
   "execution_count": 22,
   "id": "ff8deba4-8f75-4eef-8a68-8f3523d338bb",
   "metadata": {},
   "outputs": [],
   "source": [
    "#close connection\n",
    "def close_connection_to_db(conn):\n",
    "    conn.close ()"
   ]
  },
  {
   "cell_type": "code",
   "execution_count": 14,
   "id": "d6178210-5546-4513-a60e-3c7007db66fb",
   "metadata": {},
   "outputs": [],
   "source": [
    "#Run through all structured database steps once.\n",
    "#This will go through each step in the process and will only work if starting fresh each time.\n",
    "\n",
    "#If you run this command multiple times, be sure to have a terminal open\n",
    "#Then Log into postgres with the following command:\n",
    "#sudo -u postgres psql\n",
    "#Then connect to the database with the following command:\n",
    "#\\c dse203hw3\n",
    "#NOTE: If you use a different database name then 'dse203hw3', then replace 'dse203hw3' with the database name of your choosing\n",
    "#Now that you are connected to the database in the terminal You can use the following commands\n",
    "#\\dt    This will list the tables in the database\n",
    "#drop table nourish;    This will remove the table.\n",
    "#Once the table has been removed, then you can rerun this series of conection without error.\n",
    "\n",
    "def init_SBIR_data(SBIRDataSet,tableName):\n",
    "    #Connect to the Database\n",
    "    cur, conn = connect_to_db()\n",
    "    \n",
    "    #Create Database empty table for structured data set\n",
    "    create_SBIR_data_table(cur, conn, tableName)\n",
    "    \n",
    "    #Insert structured data into table\n",
    "    insert_SBIR_data_into_table(cur, conn,SBIRDataSet,tableName)\n",
    "    \n",
    "    #close the database connection\n",
    "    close_connection_to_db(conn)"
   ]
  },
  {
   "cell_type": "code",
   "execution_count": 15,
   "id": "9ffa4748-15a1-411c-89aa-0ab5410aaebd",
   "metadata": {},
   "outputs": [
    {
     "name": "stdout",
     "output_type": "stream",
     "text": [
      "CPU times: user 6.53 s, sys: 1.11 s, total: 7.64 s\n",
      "Wall time: 20.5 s\n"
     ]
    }
   ],
   "source": [
    "%%time\n",
    "# Initialize the SQL database - required only one time\n",
    "# Don't run this cell multiple times - if db exists, you will get an error\n",
    "init_SBIR_data(SBIRDataSet,tableName)"
   ]
  },
  {
   "cell_type": "code",
   "execution_count": 23,
   "id": "e0f7828b-ac60-401a-812d-bdf7010cea67",
   "metadata": {},
   "outputs": [],
   "source": [
    "cur, conn = connect_to_db()"
   ]
  },
  {
   "cell_type": "code",
   "execution_count": 26,
   "id": "bad8b1a0-8728-421a-917f-2e355801187b",
   "metadata": {},
   "outputs": [
    {
     "name": "stdout",
     "output_type": "stream",
     "text": [
      "('2PI INC', 'SBIR Phase I:High-performance, ultra-compact 3D sensor enabled by metasurface flat optics', 'National Science Foundation', None, 'Phase I', 'SBIR', '2204825', '2204825', datetime.date(2022, 12, 1), datetime.date(2023, 11, 30), 'NSF 21-562', 2021, datetime.date(2022, 1, 6), datetime.date(2021, 11, 8), datetime.date(2022, 11, 29), 'PH', 2023, '256,000', None, 'N', 'N', 'N', None, None, '292 Nevada St.', None, 'Newton', 'MA', '02460', \"The broader impact of this Small Business Innovation Research (SBIR) Phase I project lies in the development of a lightweight, ultra-compact 3D sensor offering enhanced performance compared to the current state-of-the-art. Existing sensors on consumer electronic devices, such as those on augmented/virtual reality headsets, are limited in their perception accuracy and detection range resulting in a poor user experience, which has limited their implementation. The technology developed in this project seeks to address these issues to create a truly seamless and immersive interaction experience for users. The technology may also improve the adoption of augmented/virtual reality technologies in fields such as education, telecommuting, healthcare, industrial design, virtual meetings, entertainment, and many others. The technology has the potential to create new jobs in these fields, enhance human-to-machine interactions, and improve connections within and between communities. This effort also supports domestic photonics manufacturing and assembly industries._x000D_ _x000D_ This SBIR Phase I project will seeks to develop a novel 3D sensor design that promises performance enhancement over state-of-the-art devices. Building on a proprietary flat optics technology, the project may lead to a 3D sensor module featuring panoramic vision, significant spatial resolution improvements, enhanced signal-to-noise ratio, and a compact, lightweight architecture amenable to low-cost manufacturing and assembly. The project has two main goals: 1) demonstration of a 3D sensor prototype and experimental validation of its performance and 2) development of scalable manufacturing routes for fabrication of flat optics components leveraging standard microfabrication technologies._x000D_ _x000D_ This award reflects NSF's statutory mission and has been deemed worthy of support through evaluation using the Foundation's intellectual merit and broader impacts review criteria.\", 'Mikhail Shalaginov', None, '(765) 588-7186', 'shalaginov@2pioptics.com', 'Mikhail Shalaginov', None, '(765) 588-7186', 'shalaginov@2pioptics.com', None, None, None)\n",
      "('9 CORNER SOLUTIONS LLC', 'Runtime Lightweight Hardware-Assisted Machine Learning-based Cyber Attack Detection', 'Department of Homeland Security', None, 'Phase I', 'SBIR', '23.1 DHS231-001-0036-I', '70RSAT23C00000020', datetime.date(2023, 5, 9), datetime.date(2023, 10, 8), '23.1', 2023, datetime.date(2023, 1, 17), datetime.date(2023, 1, 17), datetime.date(2023, 3, 13), 'DHS231-001', 2023, '149,972', \"'077568115'\", 'N', 'N', 'N', 2, None, '13645 Dulles Technology Drive', None, 'Herndon', 'VA', '20171-4678', 'The grand vision of the Internet-of-Things (IoT) boasts a fully connected, global network of devices or systems connecting every imaginable thing. Amelioration of miniature embedded computing devices into the consumer and industrial markets with enabled connectivity to the Internet towards smart and intelligent features leads to an upsurge in the size of networks through which they are linked and communicate. Unfortunately, with the massive amount of potential benefits offered by IoT devices comes an equal amount of potential vulnerabilities and cyber-threats including such as Malware, ransomware, and distributed denial-of-service (DDoS) attacks. Detection and defense of cyber-threats in IoT devices are traditionally performed by anti-virus (AV) software. However, AV-based threat detection has significant setbacks including large latency, processing overheads, inability to effectively detect zero-day attacks, and requirement of frequent updates. In this project, we propose the design of hardware-assisted runtime cyber-threat detection. We employ hardware-generated microarchitectural event traces captured through hardware performance counter (HPC) register information to extract the application characteristics to detect cyber-threats. To minimize overheads and facilitate runtime feasibility, an automated learning-based optimal feature extraction is designed. These features are fed to a lightweight machine learning (ML) classifier to detect the feasibility of the presence of cyber-threat. This is complemented with a specialized ML classifier in the second stage for enhanced performance. The second stage ML classifier also employs a time-series-based anomaly detection for zero-day and unseen threat detection. The portability of the proposed solution across different architectures and vendors enables commercialization seamlessly.', 'Sai Manoj Pudukotai Dinakarrao', 'Mr', '(470) 495-8473', 'admin@9csol.com', 'Setareh Rafatirad', 'Ms.', '(470) 495-8473', 'admin@9csol.com', None, None, None)\n",
      "('ADAMAS NANOTECHNOLOGIES INC', 'Optical NMR using Diamond Quantum Sensing for Imaging Metabolic Processes in Live Cells', 'Department of Energy', None, 'Phase II', 'SBIR', '271112', 'DE-SC0022441', datetime.date(2023, 4, 3), datetime.date(2025, 4, 2), None, 2023, datetime.date(2022, 12, 6), datetime.date(2022, 12, 6), datetime.date(2023, 2, 10), 'C53-28b', 2023, '1,650,000', \"'064596089'\", 'N', 'N', 'N', 8, 'https://www.adamasnano.com', 'PO BOX90696', None, 'Raleigh', 'NC', '27675-0696', 'C53-28b-271112Quantum enabled approaches pose new concepts for bioimaging and sensing of biological processes in living biological systems, non-destructively in real time. Processes of interest for bioenergy include measuring enzyme function within cells, tracking metabolic pathways in vivo, monitoring the transport of materials into and out of cells or across cellular membranes and, measuring signaling process between cells and within plant-microbe and microbe-microbe interactions. High-utility organic products (biofuels, biochemicals, biomaterials, etc.) are most effectively produced by way of industrial fermentation enabled by microorganisms such as bacteria, yeast, and fungi. End-product synthesis begins with genetically engineered microbial strains with redirected metabolic paths which either increase the yield of natural metabolites or produce new molecules. Because bioprocess scale-up costs are extremely high, reliable scale-up remains an enormous technical and economic barrier for commercialization of bioprocesses. To provide insight into the metabolic process with the goal of increasing yield, single-cell NMR sensors based on nanodiamond (ND) particles with unique quantum properties are being developed. 13C nuclear spins in nanodiamond will be employed as NMR sensors of the surrounding analyte nuclei. Hyperpolarization of 13C nuclei boost their NMR signal and increase the capability to measure the NMR chemical shift of potential analytes present in nearby hyperpolarized 13C nuclei. Products that will result from this research include a single-cell NMR detector, consisting of a 13C hyperpolarization module and RF detection module, along with the diamond particles that are used by the device. This will enable real-time analysis at a temporal scale of bioprocess dynamics in bioreactors.', 'Mary Eberle', None, '(919) 881-0500', 'meberle@adamasnano.com', 'Olga Shenderova', None, '(919) 881-0500', 'oshenderova@adamasnano.com', None, None, None)\n",
      "('ADDIGURU, LLC', 'Artificial intelligence and machine learning algorithms to detect defects in additive manufacturing by fusing multiple sensor data', 'Department of Defense', 'Navy', 'Phase I', 'SBIR', 'N222-117-0351', 'N68335-23-C-0061', datetime.date(2022, 11, 7), datetime.date(2023, 5, 9), '22.2', 2022, datetime.date(2022, 6, 15), datetime.date(2022, 6, 15), datetime.date(2022, 9, 12), 'N222-117', 2023, '139,926', \"'117216019'\", 'N', 'Y', 'N', 3, 'https://www.addiguru.com', '4016 Lake Villa Dr', None, 'Metairie', 'LA', '70002-1111', 'While additive manufacturing (AM) has enabled the fabrication of complex geometries, process repeatability, and part quality has been an inhibitor to widespread industry adoption. Parts fabricated using metal AM can have their mechanical properties compromised due to the presence of defects. Presently, quality assurance is achieved by X-ray Computed Tomography (CT), which is costly and time-consuming. In-situ monitoring in AM can help in the democratization of AM by offering real-time detection of anomalies. This research aims to develop artificial intelligence and machine learning (AI/ML) algorithms that use the data generated by the machine sensors in conjunction with inexpensive optical and acoustic sensors to detect defects in Laser Powder Bed Fusion (LPBF) in real-time. \\xa0 The popular EOS-M290 LPBF machine has 20+ in-built sensors such as O2 concentration, chamber temperature, layer time, recoater speed, etc. This machine data in conjunction with optical and acoustic data will be used to develop AI/ML models for real-time issue detection. A high-resolution optical camera will be mounted on the EOS M290 LPBF machine to collect layer-by-layer images. These images will be analyzed by an artificial intelligence (AI) model trained to detect layer anomalies such as spatter, streaking, hopping, part swelling, etc. An acoustic sensor will be deployed to capture airborne sound waves and analyzed to identify features denoting the evolution and presence of defects. AI/ML algorithms will combine or fuse the data from the different sensors to provide higher accuracy of detection. This project will use the underutilized machine data to achieve high special and temporal information of defects. This project will further build on the current capability of Addiguru’s optical camera-based layerwise real-time monitoring technology which detects issues using computer vision and AI. \\xa0 Data will be generated by printing samples that will be deliberately designed to include various defects. This data will be analyzed and used for training AI/ML models. The training of the AI/ML models requires labeling of data with the ground truth which will be obtained by performing CT scans. CT scans will determine porosity in the parts. Metallographic analysis will be carried out to uncover issues and train the models. \\xa0 Combining in-situ machine sensor data along with optical and acoustics signals will provide a significant enhancement in the detection of anomalies. The data fusion will be carried out by developing advanced AI/ML algorithms by Addiguru’s AI/ML and software engineering experts. It is proposed that high spatial and temporal resolution obtained by fusing multiple sensor data will enable precise location of defects and thereby, significantly reduce post-build inspection costs. Successful completion of the project will demonstrate the feasibility to develop AI/ML algorithms for multiple sensory data for real-time issue detection in the LPBF process.', 'Shuchi Khurana', None, '(504) 858-6357', 'sk@addiguru.com', 'Shuchi Khurana', None, '(504) 858-6357', 'sk@addiguru.com', None, None, None)\n",
      "('ADVANCED CERAMICS MANUFACTURING, LLC', 'Structural Components with Corrosion Resistant Surface Layers for Advanced Nuclear Reactor Systems', 'Department of Energy', None, 'Phase I', 'SBIR', '270882', 'DE-SC0023657', datetime.date(2023, 2, 21), datetime.date(2023, 12, 20), None, 2023, datetime.date(2022, 10, 17), datetime.date(2022, 10, 26), datetime.date(2022, 12, 19), 'C55-12a', 2023, '250,000', \"'066066874'\", 'N', 'Y', 'N', 15, 'https://www.acmtucson.com', '7800A S Nogales Hwy', None, 'Tucson', 'AZ', '85756', 'Advanced high temperature nuclear reactor systems that utilize liquid coolants such as molten fluorides require structural components that are also corrosion resistant to the coolant. The current structural components approved for use in ASME Code Sec III Div 5 have insufficient corrosion resistance for long lifetimes. This problem will be addressed by the incorporation of thick, corrosion resistant surface layers using a unique hot pressing technique in which pressure can be applied with one or more metallic components in the molten state. This is enabling for producing highly adherent layers with no to minimal residual porosity. In Phase I, screening studies will be performed including corrosion testing in molten fluoride salts to identify preferred surface layer compositions that will be incorporated on stainless steel and nickel superalloys and subjected to longer term corrosion testing. Assessment of the samples will involve weight measurements, microstructural analyses with elemental mapping, and mechanical property testing including after thermal cycling. In addition to the nuclear applications, the coated materials developed in this program could be commercialized for concentrated solar cell systems, supercritical carbon dioxide systems, and high temperature, oxidation resistant components for aerospace, defense, and industrial applications.', 'Zachary Wing', None, '(520) 547-0861', 'zwing@acmtucson.com', 'Zachary Wing', None, '(520) 547-0861', 'zwing@acmtucson.com', None, None, None)\n",
      "('ROTOYE LLC', 'SBIR Phase II:Mobile manipulation platform for rebar tying', 'National Science Foundation', None, 'Phase II', 'SBIR', '2052329', '2052329', datetime.date(2021, 9, 15), datetime.date(2023, 2, 28), 'NSF 20-545', 2020, datetime.date(2020, 9, 3), datetime.date(2020, 9, 3), datetime.date(2021, 9, 8), 'EW', 2021, '1,000,000', \"'080609398'\", 'N', 'N', 'N', None, None, '866 Bonnie Glen Dr SE', None, 'Marietta', 'GA', '30067', '\"The broader impact/commercial potential of this Small Business Innovation Research (SBIR) Phase II project is the development of a robotic solution to automate a dangerous and repetitive rebar tying task in construction. Rebar tying is performed by “rodbusters”, 88% of whom reported that they suffered some form of musculoskeleton disorder during their career. Removing the repetitive bending over and tying actions can have significant impacts on the quality life of the workers who commonly suffer from carpal tunnel complications and back injuries. The market for rebar tying services solely for bridge decks in the US is valued at over $370 million across the next ten years. The general construction market is estimated to spend at least $1.3 billion annually for rebar tying. A quality transportation infrastructure has direct impacts on national defense readiness, economic competitiveness, disaster response, exchange of goods, and standards of living. However, at present, the US has a growing backlog of bridges deemed deficient. A successful Phase II project may play a key role in addressing the infrastructure maintenance backlog and allowing a key foundation of the national economic engine to function properly._x000D_ _x000D_ This Small Business Innovation Research (SBIR) Phase II project seeks to demonstrate multiple robots to perform automated rebar tying. Many construction projects have thousands of rebar intersections that need to be tied; A system to detect these intersections is proposed. Various algorithms for detecting rebar will be improved and integrated to build a semi-automated rebar map building software. The research project will build an aircraft configuration and develop various computer vision and controls algorithms to demonstrate that a drone can fly over placed rebar, identify the intersections to tie, land on top of them and tie the rebar together. A small swarm of the customized drone prototypes will be built for demonstration. Speed in executing the job is critical for most construction projects implying that each intersection has to be tied in a matter of seconds for viable adoption of the proposed technology. The success of this project may result in the first commercially-viable swarm of mobile manipulation robots for unstructured environments._x000D_ _x000D_ This award reflects NSF\\'s statutory mission and has been deemed worthy of support through evaluation using the Foundation\\'s intellectual merit and broader impacts review criteria.\"', 'Eohan George', None, '(540) 233-6426', 'eohan@rotoye.com', 'Eohan George', None, '(540) 233-6426', 'eohan@rotoye.com', None, None, None)\n",
      "('ADVANCED COOLING TECHNOLOGIES INC', 'Semiconductor Device Simulation Software with Monte Carlo Based Thermal Transport Modeling', 'Department of Energy', None, 'Phase I', 'SBIR', '270761', 'DE-SC0023619', datetime.date(2023, 2, 21), datetime.date(2023, 11, 20), None, 2023, datetime.date(2022, 10, 17), datetime.date(2022, 10, 18), datetime.date(2022, 12, 19), 'C55-01b', 2023, '199,988', \"'126288336'\", 'N', 'N', 'N', 216, 'http://www.1-ACT.com', '1046 New Holland Ave.', None, 'Lancaster', 'PA', '17601-5606', 'Current semiconductor device simulation software adopts Fourier’s law to perform the thermal transport modeling. However, Fourier’s law will become invalid at micro/nano-scale, which can cause a large discrepancy in the thermal and electrical performance between the simulation results and the actual application. To improve the current state-of-the-art, a new semiconductor device simulation software that adopts the advanced phonon frequency-dependent Monte Carlo simulation technique to replace the conventional Fourier’s law for the thermal transport modeling is proposed. Monte Carlo simulations track the phonon movement and scattering so that the thermal properties of the nanomaterial can be extracted stochastically. The simulation accuracy will be improved because the proposed Monte-Carlo-based software can incorporate detailed phonon transport physics. The Monte Carlo simulation will be coupled with Charon and Trilinos software packages, which are funded by the Department of Energy and its Office of Advanced Scientific Computing and Research, form a complete semiconductor device simulation software. In Phase I, the coupling between the frequency-dependent phonon Monte Carlo code, Charon, and Trilinos will be performed. Simple one- and two-dimensional test cases will be performed to calibrate the software. In addition, a basic user interface and a material database will be created to improve the user-friendliness of Trilinos and Charon. If Phase II of the project is funded, a three-dimensional device simulation software with an enhanced graphic user interface and the material database will be developed. Such device simulation software will offer high fidelity simulation results in which will benefit both the semiconductor industries and academia.', 'William Anderson', None, '(717) 205-0602', 'bill.anderson@1-act.com', 'Yue Xiao', None, '(717) 205-0697', 'yue.xiao@1-act.com', None, None, None)\n",
      "('ADVANCED COOLING TECHNOLOGIES INC', 'Rapid and Tunable Cooling Technology for Vacuum Furnaces', 'Department of Energy', None, 'Phase II', 'SBIR', '271181', 'DE-SC0020508', datetime.date(2023, 5, 3), datetime.date(2025, 5, 2), None, 2023, datetime.date(2022, 12, 6), datetime.date(2022, 12, 6), datetime.date(2023, 2, 10), 'C49-18a', 2023, '1,149,999', \"'126288336'\", 'N', 'N', 'N', 220, 'http://www.1-ACT.com', '1046 New Holland Ave.', None, 'Lancaster', 'PA', '17601-5606', 'C49-18a-271181The need for high-temperature furnaces for neutron scattering experiments has been increasing considerably. One of the major limiting factors of these furnaces is the cooling rate. Currently, the vacuum furnace relies on radiation to dissipate heat and takes at least 2 hours to cool the furnace low enough to safely open for a sample change. This results in significant limitations of using expensive neutron beam time. To tackle this challenge, ACT proposes an innovative active cooling system to significantly reduce neutron scattering furnaces’ downtime. The system includes a closed helium (He) circulation loop, industrial-grade process control, furnace flow distribution nozzles, and a built-in refrigeration unit to achieve fast and controllable cooling. Due to the much higher thermal conductivity of the He gas compared to other inert gases (e.g., nitrogen, argon), heat can be removed from the system more effectively. By introducing the He flow inside the radiation shields via a flow distributor nozzle, the cooling rate can also be controlled by adjusting the flow rate and overall system pressure. The thermal characteristics and low neutron scattering and adsorption coefficients of He provide the potential for in- situ cooling for advanced material experiments. This will allow experimenters to perform controlled transient thermal tests that could not have been done before. The proposed active cooling system has very low He usage (closed-loop circulation) and requires a minimal human operation. During Phases I and II, a fully operational and mobile prototype cooling system was constructed and tested in the field with an operational HOT-006 neutron furnace at Oak Ridge National Laboratory (ORNL). The He cooling system managed to cool the heating element from 500&#176;C to 100&#176;C in just 8 minutes, a 17 times improvement compared to 2.24 hours for the original radiation-only cooling approach. The thermal stresses on the coil were evaluated, and a proof-of-concept constant cooling rate approach was demonstrated. The successful test at ORNL brings the technology to TRL (Technology Readiness Level) to 7. In Phase IIA, ACT will continue working with ORNL to refine the cooling system, extend its capabilities, and further push for the commercialization of the technology. It will be achieved by extended long-term usage tests at ORNL during mock and live neutron scattering experiments. Furthermore, the capabilities of the cooling system will be extended to include rapid sample quenching and a closed-loop controlled cooling rate. The cooling system will also be validated for operation with a cheaper, lower-performance circulation gas medium (nitrogen, argon) with our special nozzle design. ACT will also explore new industrial applications, such as specialized metal manufacturing (via high-pressure gas quench) and high-quality brazing (via controlled cooling rate inside the process furnace) that can be benefited from the proposed inert gas circulation cooling technology. In addition to the high-temperature neutron furnace cooling efforts, ACT will also investigate a novel cryogenic cooling method to aid ORNL with the long cooldown time of dry He cryostats. ACT aims to reduce a 2-hour cooldown time (300K to 80K) to less than 10 minutes with the innovative sample holder with embedded two-phase nitrogen flow. A range of unique solutions will be utilized to improve the heat exchange limited by the Leidenfrost effect. The impact of reduced cooldown time on cryogenic experiments turnaround should be similar to the effect of a cooling system on neutron furnaces.', 'William Anderson', None, '(717) 205-0602', 'bill.anderson@1-act.com', 'Patryk Radyjowski', None, '(717) 205-0603', 'patryk.radyjowski@1-act.com', None, None, None)\n",
      "('AEROSOL DYNAMICS INC', 'Adaptive Measurement of Nuclei Particle Size and Concentration', 'Department of Energy', None, 'Phase II', 'SBIR', '271115', 'DE-SC0022440', datetime.date(2023, 4, 3), datetime.date(2025, 4, 2), None, 2023, datetime.date(2022, 12, 6), datetime.date(2022, 12, 6), datetime.date(2023, 2, 10), 'C53-26a', 2023, '1,624,343', \"'845314962'\", 'N', 'N', 'N', 6, 'http://www.aerosol.us', '935 Grayson Street', None, 'Berkeley', 'CA', '94710-2640', 'C53-26a-271115The extent, persistence and microphysical properties of clouds influence Earth’s climate and hydrologic cycles. A critical factor affecting cloud characteristics is the concentration of airborne particles around which cloud droplets form. A significant contributor to these particles is atmospheric nucleation, which injects large numbers of small particles into the atmosphere. Once formed, these particles grow quickly. It is estimated that these nucleation processes and the subsequent particle growth are significant contributors to the number of cloud condensation nuclei, and subsequent cloud formation. Characterizing particle nucleation events, and the dynamics of the evolution of the particle size distribution, is important to improving our understanding of global climate. Yet current observations are limited by size, cost, and the relatively slow pace of the measurement. This is due, in part, to the low charging efficiency in the sub-10nm regime, which leads to long measurement times to obtain sufficient counting statistics. Needed is a compact, rapid-response instrument that can accurately track the evolution in size and concentration of newly formed particles. This project will develop a new measurement system to provide the tools needed to better characterize the physical dynamics associated with these new particle formation events. This system consists of two coupled instruments, one which is quick to sense an atmospheric nucleation event, and one that has the precision to characterize it. The rapidly responding instrument is a Nano-Particle Counter which continuously reports particle concentrations in two nanoparticle size ranges, approximately 2nm-10nm, and 10nm and larger. The precise instrument is an “adaptable” differential mobility analyzer that measures aerosol size distributions based on electrical mobility. This adaptable differential mobility analyzer has several modes of operation, with the capability, in one instrument, to measure freshly nucleated, nanometer sized particles as well as the larger pre-existing aerosol with which these newly formed particles interact. Its “adaptability” is the capacity to readily switch among these size ranges. These two components are coupled through common control, whereby an abundance of 2-10 nm particles that is characteristic of an atmospheric nucleation event triggers the mobility sizing system to direct its measurements to this important nucleation mode. Having demonstrated the efficacy of each of these two approaches, the effort of this project focuses on extending these capabilities, with refinement based on modeling and experimental verification. The instruments will be coupled with common control to provide a single, adaptive measurement system. Adaptive protocols, as well as the instrument components, will be further refined under field testing in conjunction with another air quality measurement program. In addition to the automated adaptive system for studying atmospheric nucleation events, this SBIR project will produce two new instruments, a flexible differential mobility analyzer and a dual size range nanoparticle counter, both of which will see broad application within, and outside of, atmospheric aerosol research.', 'Nathan Kreisberg', None, '(510) 649-9360', 'nathan@aerosol.us', 'Stavros Amanatidis', None, '(510) 649-9360', 'stavros@aerosol.us', None, None, None)\n",
      "('AEROSOL DYNAMICS INC', 'Instantaneous Aerosol Mobility Sizing', 'Department of Energy', None, 'Phase I', 'SBIR', '270822', 'DE-SC0023627', datetime.date(2023, 2, 21), datetime.date(2024, 2, 20), None, 2023, datetime.date(2022, 10, 17), datetime.date(2022, 10, 21), datetime.date(2022, 12, 19), 'C55-16a', 2023, '220,709', \"'845314962'\", 'N', 'N', 'N', 6, 'http://www.aerosol.us', '935 Grayson Street', None, 'Berkeley', 'CA', '94710-2640', 'With its Urban Integrated Field Laboratories research effort, DOE seeks affordable methods to characterize the urban atmosphere with high time and high spatial resolution. Aerosol size distributions are specifically named by DOE as a parameter that cannot be affordably monitored with currently available methods. The size and concentration of sub-micrometer and ultrafine aerosols are especially critical to evaluating the dynamics of aerosol processes, to identifying sources and origins of new particles and their role in cloud formation, as well evaluating human exposures important to health. Needed are means to map these concentrations with good time and spatial resolution.Vehicle-based platforms, such as instrumented Google street-view cars or mobile monitors, provide air quality data over a large urban environment. However, such ground-based mobile platforms require rapid time response, of the order of one second, as the sampled aerosol is constantly changing. For the critical ultrafine aerosol size range, which cannot be directly measured optically but instead is probed by electrical mobility, the current commercial methods do not have the necessary time resolution. Our approach separates airborne particles spatially in accordance with their electrical mobility, and then counts these particles as a function of their position (and hence size) through condensational growth and optical imaging. The complete size spectrum 10-500 nm size is captured with 10Hz resolution, making feasible accurate measurements on moving platforms.AMI technology uses an innovative approach to facilitate high time resolution measurements within a compact instrument size, representing a significant advance over existing commercially available technologies. Our Phase I project will experimentally evaluate three key components of this approach. First, we experimentally verify the capability of accurately capturing particle positions across the full width of the mobility separator. Second, we will determine the capacity for simultaneous measurement of positive and negative particle mobilities, as this approach has recently been shown to eliminate the need for bipolar ion source. Third, we will evaluate a new concept for the wide-size size range electrode, which has the potential to greatly reduce the required size and cost of the separator. These key steps will allow us in Phase II to design for cost-effective fabrication methods. Through establishing the efficacy of this innovative approach, we aim to provide a compact and affordable instrument for rapid, 1Hz, aerosol size distribution measurement over the critical size range of fine and ultrafine aerosols.Commercial applications span a wide range of industrial and laboratory research uses for which rapid measurements of aerosol size distributions are needed, such as near sources or on mobile platforms. As speed is always desired, our instrument could potentially replace many scanning mobility particle sizing systems, which have become standard aerosol equipment in laboratories and industry.', 'Nathan Kresiberg', None, '(510) 649-9360', 'nathan@aerosol.us', 'Steven Spielman', None, '(510) 649-9360', 'steve@aerosol.us', None, None, None)\n",
      "CPU times: user 3.13 ms, sys: 191 µs, total: 3.33 ms\n",
      "Wall time: 2.51 ms\n"
     ]
    }
   ],
   "source": [
    "%%time\n",
    "# Read data from SQL Database (postgres)\n",
    "#SBIR_data_list = get_data_from_table(tableName)\n",
    "limitSize = 10\n",
    "SBIR_data_list = print_SBIR_data_table(cur, conn, tableName, limitSize)"
   ]
  },
  {
   "cell_type": "code",
   "execution_count": 27,
   "id": "2602741f-cf2c-4843-9df3-f8c79f1edf07",
   "metadata": {},
   "outputs": [],
   "source": [
    "close_connection_to_db(conn)"
   ]
  },
  {
   "cell_type": "code",
   "execution_count": 19,
   "id": "3a4ba770-8075-478f-bf43-a80b20c3adf1",
   "metadata": {},
   "outputs": [],
   "source": [
    "#SBIR_data_list"
   ]
  }
 ],
 "metadata": {
  "kernelspec": {
   "display_name": "Python 3 (ipykernel)",
   "language": "python",
   "name": "python3"
  },
  "language_info": {
   "codemirror_mode": {
    "name": "ipython",
    "version": 3
   },
   "file_extension": ".py",
   "mimetype": "text/x-python",
   "name": "python",
   "nbconvert_exporter": "python",
   "pygments_lexer": "ipython3",
   "version": "3.9.13"
  }
 },
 "nbformat": 4,
 "nbformat_minor": 5
}
