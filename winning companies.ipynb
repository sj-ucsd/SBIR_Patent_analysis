{
 "cells": [
  {
   "cell_type": "markdown",
   "id": "1db8a564-924b-49c1-ad40-f282dad894b1",
   "metadata": {},
   "source": [
    "# Sample EDA of patent and SBIR dataframes"
   ]
  },
  {
   "cell_type": "code",
   "execution_count": 1,
   "id": "a9101b63-5fb7-49b0-bb8c-c0ea068f434a",
   "metadata": {},
   "outputs": [],
   "source": [
    "import pandas as pd\n",
    "import requests\n",
    "import io"
   ]
  },
  {
   "cell_type": "markdown",
   "id": "238922ce-c64b-4363-8254-6b5a2797ff22",
   "metadata": {},
   "source": [
    "## EDA Example 1:Find the list of SBIR companies and see if any companies on that list also received a patent"
   ]
  },
  {
   "cell_type": "markdown",
   "id": "e8c8fd7f-e633-4a7f-9450-29cf11592b71",
   "metadata": {},
   "source": [
    "### Get the list of companies from the SBIR data"
   ]
  },
  {
   "cell_type": "code",
   "execution_count": 2,
   "id": "9fd213aa-5f3e-4cfe-b461-b6791673d7aa",
   "metadata": {},
   "outputs": [],
   "source": [
    "# path to your SBIR Excel file\n",
    "url=\"https://data.www.sbir.gov/awarddatapublic/award_data.csv\"\n",
    "s=requests.get(url).content\n",
    "sbirdf=pd.read_csv(io.StringIO(s.decode('utf-8')), low_memory=False)\n",
    "\n",
    "#sbirdf.head(2)"
   ]
  },
  {
   "cell_type": "code",
   "execution_count": 3,
   "id": "fbd9bfe2-693d-4282-a8c6-2326849443a7",
   "metadata": {},
   "outputs": [
    {
     "name": "stdout",
     "output_type": "stream",
     "text": [
      "201856\n"
     ]
    }
   ],
   "source": [
    "print(len(sbirdf))\n",
    "#display(sbirdf.head())\n",
    "#sbirdf.info()"
   ]
  },
  {
   "cell_type": "code",
   "execution_count": 4,
   "id": "f0c2211b-d78c-477d-b6f9-523d39b0fe05",
   "metadata": {},
   "outputs": [
    {
     "name": "stdout",
     "output_type": "stream",
     "text": [
      "<class 'pandas.core.series.Series'>\n",
      "RangeIndex: 201856 entries, 0 to 201855\n",
      "Series name: Company\n",
      "Non-Null Count   Dtype \n",
      "--------------   ----- \n",
      "201851 non-null  object\n",
      "dtypes: object(1)\n",
      "memory usage: 1.5+ MB\n"
     ]
    },
    {
     "data": {
      "text/plain": [
       "None"
      ]
     },
     "metadata": {},
     "output_type": "display_data"
    },
    {
     "data": {
      "text/plain": [
       "0                                 2PI INC\n",
       "1                  9 CORNER SOLUTIONS LLC\n",
       "2             ADAMAS NANOTECHNOLOGIES INC\n",
       "3                           ADDIGURU, LLC\n",
       "4    ADVANCED CERAMICS MANUFACTURING, LLC\n",
       "Name: Company, dtype: object"
      ]
     },
     "metadata": {},
     "output_type": "display_data"
    }
   ],
   "source": [
    "companyds = sbirdf['Company'].copy()\n",
    "#companyds.name = \"Company\"\n",
    "\n",
    "display(companyds.info())\n",
    "display(companyds.head())"
   ]
  },
  {
   "cell_type": "code",
   "execution_count": 5,
   "id": "a88e0097-e4cb-489c-872d-a9def612e4d1",
   "metadata": {},
   "outputs": [
    {
     "data": {
      "text/plain": [
       "201856"
      ]
     },
     "execution_count": 5,
     "metadata": {},
     "output_type": "execute_result"
    }
   ],
   "source": [
    "len(companyds)"
   ]
  },
  {
   "cell_type": "code",
   "execution_count": 6,
   "id": "402d79ef-4765-4816-9fc1-38271a5bac79",
   "metadata": {},
   "outputs": [],
   "source": [
    "companyds.drop_duplicates(inplace=True)"
   ]
  },
  {
   "cell_type": "code",
   "execution_count": 7,
   "id": "8be15060-61c5-48f4-837e-661dd7627cf8",
   "metadata": {},
   "outputs": [
    {
     "data": {
      "text/plain": [
       "31520"
      ]
     },
     "execution_count": 7,
     "metadata": {},
     "output_type": "execute_result"
    }
   ],
   "source": [
    "len(companyds)"
   ]
  },
  {
   "cell_type": "code",
   "execution_count": 8,
   "id": "a2e14cdc-95a9-4f02-b00a-3701257e22a6",
   "metadata": {},
   "outputs": [],
   "source": [
    "### Get the list of companies from the Patent data"
   ]
  },
  {
   "cell_type": "code",
   "execution_count": 9,
   "id": "b6b5a8d9-0acd-4fa8-ba29-561ecde0c61a",
   "metadata": {},
   "outputs": [
    {
     "data": {
      "text/html": [
       "<div>\n",
       "<style scoped>\n",
       "    .dataframe tbody tr th:only-of-type {\n",
       "        vertical-align: middle;\n",
       "    }\n",
       "\n",
       "    .dataframe tbody tr th {\n",
       "        vertical-align: top;\n",
       "    }\n",
       "\n",
       "    .dataframe thead th {\n",
       "        text-align: right;\n",
       "    }\n",
       "</style>\n",
       "<table border=\"1\" class=\"dataframe\">\n",
       "  <thead>\n",
       "    <tr style=\"text-align: right;\">\n",
       "      <th></th>\n",
       "      <th>Unnamed: 0</th>\n",
       "      <th>country</th>\n",
       "      <th>doc-number</th>\n",
       "      <th>date</th>\n",
       "      <th>application-reference</th>\n",
       "      <th>title</th>\n",
       "      <th>assignee</th>\n",
       "      <th>inventors</th>\n",
       "      <th>abstract_entities</th>\n",
       "      <th>claim_entities</th>\n",
       "    </tr>\n",
       "  </thead>\n",
       "  <tbody>\n",
       "    <tr>\n",
       "      <th>0</th>\n",
       "      <td>0</td>\n",
       "      <td>US</td>\n",
       "      <td>20230225235</td>\n",
       "      <td>20230720</td>\n",
       "      <td>{'country': 'US', 'doc-number': 17754513, 'dat...</td>\n",
       "      <td>AGRICULTURAL TRENCH DEPTH SYSTEMS, METHODS, AN...</td>\n",
       "      <td>{'orgname': 'Precision Planting LLC', 'city': ...</td>\n",
       "      <td>[{'last-name': 'Sloneker', 'first-name': 'Dill...</td>\n",
       "      <td>['depth trench', 'depth trench open row unit',...</td>\n",
       "      <td>['surface row unit', 'body gauge wheel arm', '...</td>\n",
       "    </tr>\n",
       "    <tr>\n",
       "      <th>1</th>\n",
       "      <td>1</td>\n",
       "      <td>US</td>\n",
       "      <td>20230225236</td>\n",
       "      <td>20230720</td>\n",
       "      <td>{'country': 'US', 'doc-number': 18007883, 'dat...</td>\n",
       "      <td>Agricultural Attachment for Cultivating Row Crops</td>\n",
       "      <td>{'orgname': 'Amazonen-Werke H. Dreyer SE &amp; Co....</td>\n",
       "      <td>[{'last-name': 'RESCH', 'first-name': 'Rainer'...</td>\n",
       "      <td>['vehicle', 'row-detection device', 'design', ...</td>\n",
       "      <td>['vehicle base', 'steering command', 'cultivat...</td>\n",
       "    </tr>\n",
       "  </tbody>\n",
       "</table>\n",
       "</div>"
      ],
      "text/plain": [
       "   Unnamed: 0 country   doc-number      date  \\\n",
       "0           0      US  20230225235  20230720   \n",
       "1           1      US  20230225236  20230720   \n",
       "\n",
       "                               application-reference  \\\n",
       "0  {'country': 'US', 'doc-number': 17754513, 'dat...   \n",
       "1  {'country': 'US', 'doc-number': 18007883, 'dat...   \n",
       "\n",
       "                                               title  \\\n",
       "0  AGRICULTURAL TRENCH DEPTH SYSTEMS, METHODS, AN...   \n",
       "1  Agricultural Attachment for Cultivating Row Crops   \n",
       "\n",
       "                                            assignee  \\\n",
       "0  {'orgname': 'Precision Planting LLC', 'city': ...   \n",
       "1  {'orgname': 'Amazonen-Werke H. Dreyer SE & Co....   \n",
       "\n",
       "                                           inventors  \\\n",
       "0  [{'last-name': 'Sloneker', 'first-name': 'Dill...   \n",
       "1  [{'last-name': 'RESCH', 'first-name': 'Rainer'...   \n",
       "\n",
       "                                   abstract_entities  \\\n",
       "0  ['depth trench', 'depth trench open row unit',...   \n",
       "1  ['vehicle', 'row-detection device', 'design', ...   \n",
       "\n",
       "                                      claim_entities  \n",
       "0  ['surface row unit', 'body gauge wheel arm', '...  \n",
       "1  ['vehicle base', 'steering command', 'cultivat...  "
      ]
     },
     "execution_count": 9,
     "metadata": {},
     "output_type": "execute_result"
    }
   ],
   "source": [
    "filename_patents = './preprocessed_files/patents_entities.csv'\n",
    "\n",
    "# Read the Excel file into a pandas DataFrame\n",
    "df_patents = pd.read_csv(filename_patents)\n",
    "\n",
    "df_patents.head(2)"
   ]
  },
  {
   "cell_type": "code",
   "execution_count": 10,
   "id": "31c5c7c8-6af4-4775-a17f-e34170b80ac9",
   "metadata": {},
   "outputs": [
    {
     "data": {
      "text/plain": [
       "7234"
      ]
     },
     "execution_count": 10,
     "metadata": {},
     "output_type": "execute_result"
    }
   ],
   "source": [
    "len(df_patents)"
   ]
  },
  {
   "cell_type": "code",
   "execution_count": 16,
   "id": "cacd3997-1ffa-4f1f-9c41-5f350d1394fe",
   "metadata": {},
   "outputs": [],
   "source": [
    "patentds = df_patents['assignee'].copy()"
   ]
  },
  {
   "cell_type": "code",
   "execution_count": 11,
   "id": "c9ef7f7b-338a-413c-ac2a-ce603c77e957",
   "metadata": {},
   "outputs": [],
   "source": [
    "#print(patentds[166])\n",
    "#patentds.dropna()\n",
    "#patentds.drop_duplicates(inplace=True)\n",
    "#len(patentds) # this prints out 4292 Don't go this route as it prevents the for loop later on from working"
   ]
  },
  {
   "cell_type": "code",
   "execution_count": 17,
   "id": "052ba9bc-ac58-400d-8681-6f211f7b295a",
   "metadata": {},
   "outputs": [
    {
     "name": "stdout",
     "output_type": "stream",
     "text": [
      "Precision Planting LLC\n"
     ]
    }
   ],
   "source": [
    "print(patentds[0].split(':')[1].split(',')[0].strip().replace('\\'',''))"
   ]
  },
  {
   "cell_type": "code",
   "execution_count": 18,
   "id": "591726cd-3ff6-4513-9ed3-ce05f0fd1974",
   "metadata": {},
   "outputs": [],
   "source": [
    "pcds = []\n",
    "for x in range(len(patentds)):\n",
    "    #print(x)\n",
    "    if patentds[x] != '{}':\n",
    "        #patentds[x].split(':')[1].split(',')[0].strip().replace('\\'','')\n",
    "        pcds.append(patentds[x].split(':')[1].split(',')[0].strip().replace('\\'',''))"
   ]
  },
  {
   "cell_type": "code",
   "execution_count": 19,
   "id": "cc54f22c-c504-46b5-a553-a4b0253d0663",
   "metadata": {},
   "outputs": [
    {
     "name": "stdout",
     "output_type": "stream",
     "text": [
      "Precision Planting LLC\n"
     ]
    },
    {
     "data": {
      "text/plain": [
       "7233"
      ]
     },
     "execution_count": 19,
     "metadata": {},
     "output_type": "execute_result"
    }
   ],
   "source": [
    "print(pcds[0])\n",
    "len(pcds)"
   ]
  },
  {
   "cell_type": "code",
   "execution_count": 23,
   "id": "6d95aa6b-fe73-4c11-a6a8-2a7f39b0602f",
   "metadata": {},
   "outputs": [
    {
     "data": {
      "text/plain": [
       "'Precision Planting LLC'"
      ]
     },
     "execution_count": 23,
     "metadata": {},
     "output_type": "execute_result"
    }
   ],
   "source": [
    "patentds2 = pd.Series(pcds, name=\"Company\")\n",
    "patentds2[0]"
   ]
  },
  {
   "cell_type": "code",
   "execution_count": 27,
   "id": "995328c7-1cb3-4513-bd50-8c229fb374a7",
   "metadata": {},
   "outputs": [
    {
     "data": {
      "text/plain": [
       "4060"
      ]
     },
     "execution_count": 27,
     "metadata": {},
     "output_type": "execute_result"
    }
   ],
   "source": [
    "patentds2.drop_duplicates(inplace=True)\n",
    "len(patentds2)"
   ]
  },
  {
   "cell_type": "code",
   "execution_count": 28,
   "id": "3036e095-f9df-43ee-9333-22dd9db33695",
   "metadata": {},
   "outputs": [],
   "source": [
    "winning_companies = pd.merge(companyds,patentds2, how = 'inner')"
   ]
  },
  {
   "cell_type": "code",
   "execution_count": 29,
   "id": "66894dd4-4f4c-49f5-bfb7-743b64925b8f",
   "metadata": {},
   "outputs": [
    {
     "data": {
      "text/plain": [
       "6"
      ]
     },
     "execution_count": 29,
     "metadata": {},
     "output_type": "execute_result"
    }
   ],
   "source": [
    "len(winning_companies)"
   ]
  },
  {
   "cell_type": "code",
   "execution_count": 31,
   "id": "547d998e-2be8-4e93-86e4-75eb660f980e",
   "metadata": {},
   "outputs": [
    {
     "name": "stdout",
     "output_type": "stream",
     "text": [
      "These companies have both SIBRS and Patents\n"
     ]
    },
    {
     "data": {
      "text/html": [
       "<div>\n",
       "<style scoped>\n",
       "    .dataframe tbody tr th:only-of-type {\n",
       "        vertical-align: middle;\n",
       "    }\n",
       "\n",
       "    .dataframe tbody tr th {\n",
       "        vertical-align: top;\n",
       "    }\n",
       "\n",
       "    .dataframe thead th {\n",
       "        text-align: right;\n",
       "    }\n",
       "</style>\n",
       "<table border=\"1\" class=\"dataframe\">\n",
       "  <thead>\n",
       "    <tr style=\"text-align: right;\">\n",
       "      <th></th>\n",
       "      <th>Company</th>\n",
       "    </tr>\n",
       "  </thead>\n",
       "  <tbody>\n",
       "    <tr>\n",
       "      <th>0</th>\n",
       "      <td>Beirobotics LLC</td>\n",
       "    </tr>\n",
       "    <tr>\n",
       "      <th>1</th>\n",
       "      <td>Ultra Safe Nuclear Corporation</td>\n",
       "    </tr>\n",
       "    <tr>\n",
       "      <th>2</th>\n",
       "      <td>Andluca Technologies Inc.</td>\n",
       "    </tr>\n",
       "    <tr>\n",
       "      <th>3</th>\n",
       "      <td>FURCIFER INC.</td>\n",
       "    </tr>\n",
       "    <tr>\n",
       "      <th>4</th>\n",
       "      <td>Kurt J. Lesker Company</td>\n",
       "    </tr>\n",
       "    <tr>\n",
       "      <th>5</th>\n",
       "      <td>Nanosys</td>\n",
       "    </tr>\n",
       "  </tbody>\n",
       "</table>\n",
       "</div>"
      ],
      "text/plain": [
       "                          Company\n",
       "0                 Beirobotics LLC\n",
       "1  Ultra Safe Nuclear Corporation\n",
       "2       Andluca Technologies Inc.\n",
       "3                   FURCIFER INC.\n",
       "4          Kurt J. Lesker Company\n",
       "5                         Nanosys"
      ]
     },
     "metadata": {},
     "output_type": "display_data"
    }
   ],
   "source": [
    "print(\"These companies have both SIBRS and Patents\")\n",
    "display(winning_companies.head(6))"
   ]
  },
  {
   "cell_type": "code",
   "execution_count": 39,
   "id": "859fdd26-0012-4e8d-a184-8f7cb6963273",
   "metadata": {},
   "outputs": [],
   "source": [
    "wclist = winning_companies['Company'].values"
   ]
  },
  {
   "cell_type": "code",
   "execution_count": 42,
   "id": "6e847d7d-370e-4439-abca-2d9dfae623cb",
   "metadata": {},
   "outputs": [
    {
     "data": {
      "text/html": [
       "<div>\n",
       "<style scoped>\n",
       "    .dataframe tbody tr th:only-of-type {\n",
       "        vertical-align: middle;\n",
       "    }\n",
       "\n",
       "    .dataframe tbody tr th {\n",
       "        vertical-align: top;\n",
       "    }\n",
       "\n",
       "    .dataframe thead th {\n",
       "        text-align: right;\n",
       "    }\n",
       "</style>\n",
       "<table border=\"1\" class=\"dataframe\">\n",
       "  <thead>\n",
       "    <tr style=\"text-align: right;\">\n",
       "      <th></th>\n",
       "      <th>Company</th>\n",
       "      <th>Award Year</th>\n",
       "    </tr>\n",
       "  </thead>\n",
       "  <tbody>\n",
       "    <tr>\n",
       "      <th>1482</th>\n",
       "      <td>Beirobotics LLC</td>\n",
       "      <td>2022</td>\n",
       "    </tr>\n",
       "    <tr>\n",
       "      <th>6726</th>\n",
       "      <td>Ultra Safe Nuclear Corporation</td>\n",
       "      <td>2022</td>\n",
       "    </tr>\n",
       "    <tr>\n",
       "      <th>7726</th>\n",
       "      <td>Andluca Technologies Inc.</td>\n",
       "      <td>2021</td>\n",
       "    </tr>\n",
       "    <tr>\n",
       "      <th>7727</th>\n",
       "      <td>Andluca Technologies Inc.</td>\n",
       "      <td>2021</td>\n",
       "    </tr>\n",
       "    <tr>\n",
       "      <th>9317</th>\n",
       "      <td>FURCIFER INC.</td>\n",
       "      <td>2021</td>\n",
       "    </tr>\n",
       "    <tr>\n",
       "      <th>21889</th>\n",
       "      <td>Andluca Technologies Inc.</td>\n",
       "      <td>2019</td>\n",
       "    </tr>\n",
       "    <tr>\n",
       "      <th>27910</th>\n",
       "      <td>Ultra Safe Nuclear Corporation</td>\n",
       "      <td>2019</td>\n",
       "    </tr>\n",
       "    <tr>\n",
       "      <th>33678</th>\n",
       "      <td>Ultra Safe Nuclear Corporation</td>\n",
       "      <td>2018</td>\n",
       "    </tr>\n",
       "    <tr>\n",
       "      <th>39675</th>\n",
       "      <td>Ultra Safe Nuclear Corporation</td>\n",
       "      <td>2017</td>\n",
       "    </tr>\n",
       "    <tr>\n",
       "      <th>45077</th>\n",
       "      <td>Ultra Safe Nuclear Corporation</td>\n",
       "      <td>2016</td>\n",
       "    </tr>\n",
       "    <tr>\n",
       "      <th>45078</th>\n",
       "      <td>Ultra Safe Nuclear Corporation</td>\n",
       "      <td>2016</td>\n",
       "    </tr>\n",
       "    <tr>\n",
       "      <th>50314</th>\n",
       "      <td>Ultra Safe Nuclear Corporation</td>\n",
       "      <td>2015</td>\n",
       "    </tr>\n",
       "    <tr>\n",
       "      <th>83000</th>\n",
       "      <td>Kurt J. Lesker Company</td>\n",
       "      <td>2009</td>\n",
       "    </tr>\n",
       "    <tr>\n",
       "      <th>89585</th>\n",
       "      <td>Kurt J. Lesker Company</td>\n",
       "      <td>2008</td>\n",
       "    </tr>\n",
       "    <tr>\n",
       "      <th>103419</th>\n",
       "      <td>Nanosys</td>\n",
       "      <td>2006</td>\n",
       "    </tr>\n",
       "    <tr>\n",
       "      <th>103420</th>\n",
       "      <td>Nanosys</td>\n",
       "      <td>2006</td>\n",
       "    </tr>\n",
       "    <tr>\n",
       "      <th>110526</th>\n",
       "      <td>Nanosys</td>\n",
       "      <td>2005</td>\n",
       "    </tr>\n",
       "    <tr>\n",
       "      <th>110527</th>\n",
       "      <td>Nanosys</td>\n",
       "      <td>2005</td>\n",
       "    </tr>\n",
       "    <tr>\n",
       "      <th>110528</th>\n",
       "      <td>Nanosys</td>\n",
       "      <td>2005</td>\n",
       "    </tr>\n",
       "    <tr>\n",
       "      <th>110529</th>\n",
       "      <td>Nanosys</td>\n",
       "      <td>2005</td>\n",
       "    </tr>\n",
       "    <tr>\n",
       "      <th>116946</th>\n",
       "      <td>Kurt J. Lesker Company</td>\n",
       "      <td>2004</td>\n",
       "    </tr>\n",
       "    <tr>\n",
       "      <th>117982</th>\n",
       "      <td>Nanosys</td>\n",
       "      <td>2004</td>\n",
       "    </tr>\n",
       "    <tr>\n",
       "      <th>117983</th>\n",
       "      <td>Nanosys</td>\n",
       "      <td>2004</td>\n",
       "    </tr>\n",
       "    <tr>\n",
       "      <th>117984</th>\n",
       "      <td>Nanosys</td>\n",
       "      <td>2004</td>\n",
       "    </tr>\n",
       "    <tr>\n",
       "      <th>117985</th>\n",
       "      <td>Nanosys</td>\n",
       "      <td>2004</td>\n",
       "    </tr>\n",
       "    <tr>\n",
       "      <th>117986</th>\n",
       "      <td>Nanosys</td>\n",
       "      <td>2004</td>\n",
       "    </tr>\n",
       "    <tr>\n",
       "      <th>117987</th>\n",
       "      <td>Nanosys</td>\n",
       "      <td>2004</td>\n",
       "    </tr>\n",
       "    <tr>\n",
       "      <th>117988</th>\n",
       "      <td>Nanosys</td>\n",
       "      <td>2004</td>\n",
       "    </tr>\n",
       "    <tr>\n",
       "      <th>125543</th>\n",
       "      <td>Nanosys</td>\n",
       "      <td>2003</td>\n",
       "    </tr>\n",
       "    <tr>\n",
       "      <th>125544</th>\n",
       "      <td>Nanosys</td>\n",
       "      <td>2003</td>\n",
       "    </tr>\n",
       "    <tr>\n",
       "      <th>132731</th>\n",
       "      <td>Nanosys</td>\n",
       "      <td>2002</td>\n",
       "    </tr>\n",
       "    <tr>\n",
       "      <th>171725</th>\n",
       "      <td>Kurt J. Lesker Company</td>\n",
       "      <td>1994</td>\n",
       "    </tr>\n",
       "    <tr>\n",
       "      <th>175708</th>\n",
       "      <td>Kurt J. Lesker Company</td>\n",
       "      <td>1993</td>\n",
       "    </tr>\n",
       "  </tbody>\n",
       "</table>\n",
       "</div>"
      ],
      "text/plain": [
       "                               Company  Award Year\n",
       "1482                   Beirobotics LLC        2022\n",
       "6726    Ultra Safe Nuclear Corporation        2022\n",
       "7726         Andluca Technologies Inc.        2021\n",
       "7727         Andluca Technologies Inc.        2021\n",
       "9317                     FURCIFER INC.        2021\n",
       "21889        Andluca Technologies Inc.        2019\n",
       "27910   Ultra Safe Nuclear Corporation        2019\n",
       "33678   Ultra Safe Nuclear Corporation        2018\n",
       "39675   Ultra Safe Nuclear Corporation        2017\n",
       "45077   Ultra Safe Nuclear Corporation        2016\n",
       "45078   Ultra Safe Nuclear Corporation        2016\n",
       "50314   Ultra Safe Nuclear Corporation        2015\n",
       "83000           Kurt J. Lesker Company        2009\n",
       "89585           Kurt J. Lesker Company        2008\n",
       "103419                         Nanosys        2006\n",
       "103420                         Nanosys        2006\n",
       "110526                         Nanosys        2005\n",
       "110527                         Nanosys        2005\n",
       "110528                         Nanosys        2005\n",
       "110529                         Nanosys        2005\n",
       "116946          Kurt J. Lesker Company        2004\n",
       "117982                         Nanosys        2004\n",
       "117983                         Nanosys        2004\n",
       "117984                         Nanosys        2004\n",
       "117985                         Nanosys        2004\n",
       "117986                         Nanosys        2004\n",
       "117987                         Nanosys        2004\n",
       "117988                         Nanosys        2004\n",
       "125543                         Nanosys        2003\n",
       "125544                         Nanosys        2003\n",
       "132731                         Nanosys        2002\n",
       "171725          Kurt J. Lesker Company        1994\n",
       "175708          Kurt J. Lesker Company        1993"
      ]
     },
     "execution_count": 42,
     "metadata": {},
     "output_type": "execute_result"
    }
   ],
   "source": [
    "sbirdf[sbirdf['Company'].isin(wclist)][['Company', 'Award Year']]"
   ]
  },
  {
   "cell_type": "code",
   "execution_count": null,
   "id": "70a0d597-6463-4f07-99e8-454eb10b9d73",
   "metadata": {},
   "outputs": [],
   "source": []
  },
  {
   "cell_type": "code",
   "execution_count": null,
   "id": "de18f567-4d70-4c3a-a030-96dc2ab247c2",
   "metadata": {},
   "outputs": [],
   "source": []
  }
 ],
 "metadata": {
  "kernelspec": {
   "display_name": "Python 3 (ipykernel)",
   "language": "python",
   "name": "python3"
  },
  "language_info": {
   "codemirror_mode": {
    "name": "ipython",
    "version": 3
   },
   "file_extension": ".py",
   "mimetype": "text/x-python",
   "name": "python",
   "nbconvert_exporter": "python",
   "pygments_lexer": "ipython3",
   "version": "3.9.13"
  }
 },
 "nbformat": 4,
 "nbformat_minor": 5
}
