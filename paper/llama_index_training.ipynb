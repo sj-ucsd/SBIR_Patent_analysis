{
 "cells": [
  {
   "cell_type": "code",
   "execution_count": 1,
   "id": "1cd188cf",
   "metadata": {},
   "outputs": [],
   "source": [
    "#!pip install nest-asyncio\n",
    "#!pip install span_marker\n",
    "#!pip install pypdf\n",
    "import pandas as pd\n",
    "import os\n",
    "import openai\n",
    "import random\n",
    "from pathlib import Path\n",
    "from llama_index import ServiceContext, VectorStoreIndex\n",
    "from llama_index.llms import OpenAI\n",
    "from llama_index.extractors.metadata_extractors import EntityExtractor\n",
    "from llama_index.node_parser import SentenceSplitter\n",
    "from llama_index.ingestion import IngestionPipeline\n",
    "from llama_index import download_loader\n",
    "import asyncio\n",
    "import nest_asyncio"
   ]
  },
  {
   "cell_type": "code",
   "execution_count": 2,
   "id": "598c5875",
   "metadata": {},
   "outputs": [
    {
     "name": "stderr",
     "output_type": "stream",
     "text": [
      "/var/folders/fj/31jlj_jj6qq7jtnhvsydh1vr0000gn/T/ipykernel_85178/1286098522.py:1: DtypeWarning: Columns (10,12,13,15,38,39,40) have mixed types. Specify dtype option on import or set low_memory=False.\n",
      "  sbir_df = pd.read_csv('./Downloads/award_data.csv')\n"
     ]
    }
   ],
   "source": [
    "# You can also directly access from web \n",
    "sbir_df = pd.read_csv('./Downloads/award_data.csv')"
   ]
  },
  {
   "cell_type": "code",
   "execution_count": 3,
   "id": "ba6abe9b",
   "metadata": {},
   "outputs": [],
   "source": [
    "# cleanup and convert to DateTime\n",
    "sbir_df = sbir_df[~sbir_df['Proposal Award Date'].isna()]\n",
    "sbir_df['Proposal Award Date'] = pd.to_datetime(sbir_df['Proposal Award Date'])"
   ]
  },
  {
   "cell_type": "code",
   "execution_count": 4,
   "id": "65109fcd",
   "metadata": {},
   "outputs": [],
   "source": [
    "# limit to records from 2018 to current and to Department of Defence and Department of Energy\n",
    "sbir_df = sbir_df[sbir_df['Proposal Award Date'] > pd.to_datetime('2018-01-01')]\n",
    "sbir_df = sbir_df[sbir_df['Agency'].isin(['Department of Defense','Department of Energy'])]"
   ]
  },
  {
   "cell_type": "code",
   "execution_count": 5,
   "id": "cd09115a",
   "metadata": {},
   "outputs": [
    {
     "data": {
      "text/html": [
       "<div>\n",
       "<style scoped>\n",
       "    .dataframe tbody tr th:only-of-type {\n",
       "        vertical-align: middle;\n",
       "    }\n",
       "\n",
       "    .dataframe tbody tr th {\n",
       "        vertical-align: top;\n",
       "    }\n",
       "\n",
       "    .dataframe thead th {\n",
       "        text-align: right;\n",
       "    }\n",
       "</style>\n",
       "<table border=\"1\" class=\"dataframe\">\n",
       "  <thead>\n",
       "    <tr style=\"text-align: right;\">\n",
       "      <th></th>\n",
       "      <th>Company</th>\n",
       "      <th>Award Title</th>\n",
       "      <th>Agency</th>\n",
       "      <th>Branch</th>\n",
       "      <th>Phase</th>\n",
       "      <th>Program</th>\n",
       "      <th>Agency Tracking Number</th>\n",
       "      <th>Contract</th>\n",
       "      <th>Proposal Award Date</th>\n",
       "      <th>Contract End Date</th>\n",
       "      <th>...</th>\n",
       "      <th>Contact Title</th>\n",
       "      <th>Contact Phone</th>\n",
       "      <th>Contact Email</th>\n",
       "      <th>PI Name</th>\n",
       "      <th>PI Title</th>\n",
       "      <th>PI Phone</th>\n",
       "      <th>PI Email</th>\n",
       "      <th>RI Name</th>\n",
       "      <th>RI POC Name</th>\n",
       "      <th>RI POC Phone</th>\n",
       "    </tr>\n",
       "  </thead>\n",
       "  <tbody>\n",
       "    <tr>\n",
       "      <th>2</th>\n",
       "      <td>ADAMAS NANOTECHNOLOGIES INC</td>\n",
       "      <td>Optical NMR using Diamond Quantum Sensing for ...</td>\n",
       "      <td>Department of Energy</td>\n",
       "      <td>NaN</td>\n",
       "      <td>Phase II</td>\n",
       "      <td>SBIR</td>\n",
       "      <td>271112</td>\n",
       "      <td>DE-SC0022441</td>\n",
       "      <td>2023-04-03</td>\n",
       "      <td>04/02/2025</td>\n",
       "      <td>...</td>\n",
       "      <td>NaN</td>\n",
       "      <td>(919) 881-0500</td>\n",
       "      <td>meberle@adamasnano.com</td>\n",
       "      <td>Olga Shenderova</td>\n",
       "      <td>NaN</td>\n",
       "      <td>(919) 881-0500</td>\n",
       "      <td>oshenderova@adamasnano.com</td>\n",
       "      <td>NaN</td>\n",
       "      <td>NaN</td>\n",
       "      <td>NaN</td>\n",
       "    </tr>\n",
       "    <tr>\n",
       "      <th>3</th>\n",
       "      <td>ADDIGURU, LLC</td>\n",
       "      <td>Artificial intelligence and machine learning a...</td>\n",
       "      <td>Department of Defense</td>\n",
       "      <td>Navy</td>\n",
       "      <td>Phase I</td>\n",
       "      <td>SBIR</td>\n",
       "      <td>N222-117-0351</td>\n",
       "      <td>N68335-23-C-0061</td>\n",
       "      <td>2022-11-07</td>\n",
       "      <td>05/09/2023</td>\n",
       "      <td>...</td>\n",
       "      <td>NaN</td>\n",
       "      <td>(504) 858-6357</td>\n",
       "      <td>sk@addiguru.com</td>\n",
       "      <td>Shuchi Khurana</td>\n",
       "      <td>NaN</td>\n",
       "      <td>(504) 858-6357</td>\n",
       "      <td>sk@addiguru.com</td>\n",
       "      <td>NaN</td>\n",
       "      <td>NaN</td>\n",
       "      <td>NaN</td>\n",
       "    </tr>\n",
       "    <tr>\n",
       "      <th>4</th>\n",
       "      <td>ADVANCED CERAMICS MANUFACTURING, LLC</td>\n",
       "      <td>Structural Components with Corrosion Resistant...</td>\n",
       "      <td>Department of Energy</td>\n",
       "      <td>NaN</td>\n",
       "      <td>Phase I</td>\n",
       "      <td>SBIR</td>\n",
       "      <td>270882</td>\n",
       "      <td>DE-SC0023657</td>\n",
       "      <td>2023-02-21</td>\n",
       "      <td>12/20/2023</td>\n",
       "      <td>...</td>\n",
       "      <td>NaN</td>\n",
       "      <td>(520) 547-0861</td>\n",
       "      <td>zwing@acmtucson.com</td>\n",
       "      <td>Zachary Wing</td>\n",
       "      <td>NaN</td>\n",
       "      <td>(520) 547-0861</td>\n",
       "      <td>zwing@acmtucson.com</td>\n",
       "      <td>NaN</td>\n",
       "      <td>NaN</td>\n",
       "      <td>NaN</td>\n",
       "    </tr>\n",
       "    <tr>\n",
       "      <th>5</th>\n",
       "      <td>ADVANCED COOLING TECHNOLOGIES INC</td>\n",
       "      <td>Semiconductor Device Simulation Software with ...</td>\n",
       "      <td>Department of Energy</td>\n",
       "      <td>NaN</td>\n",
       "      <td>Phase I</td>\n",
       "      <td>SBIR</td>\n",
       "      <td>270761</td>\n",
       "      <td>DE-SC0023619</td>\n",
       "      <td>2023-02-21</td>\n",
       "      <td>11/20/2023</td>\n",
       "      <td>...</td>\n",
       "      <td>NaN</td>\n",
       "      <td>(717) 205-0602</td>\n",
       "      <td>bill.anderson@1-act.com</td>\n",
       "      <td>Yue Xiao</td>\n",
       "      <td>NaN</td>\n",
       "      <td>(717) 205-0697</td>\n",
       "      <td>yue.xiao@1-act.com</td>\n",
       "      <td>NaN</td>\n",
       "      <td>NaN</td>\n",
       "      <td>NaN</td>\n",
       "    </tr>\n",
       "    <tr>\n",
       "      <th>6</th>\n",
       "      <td>ADVANCED COOLING TECHNOLOGIES INC</td>\n",
       "      <td>Rapid and Tunable Cooling Technology for Vacuu...</td>\n",
       "      <td>Department of Energy</td>\n",
       "      <td>NaN</td>\n",
       "      <td>Phase II</td>\n",
       "      <td>SBIR</td>\n",
       "      <td>271181</td>\n",
       "      <td>DE-SC0020508</td>\n",
       "      <td>2023-05-03</td>\n",
       "      <td>05/02/2025</td>\n",
       "      <td>...</td>\n",
       "      <td>NaN</td>\n",
       "      <td>(717) 205-0602</td>\n",
       "      <td>bill.anderson@1-act.com</td>\n",
       "      <td>Patryk Radyjowski</td>\n",
       "      <td>NaN</td>\n",
       "      <td>(717) 205-0603</td>\n",
       "      <td>patryk.radyjowski@1-act.com</td>\n",
       "      <td>NaN</td>\n",
       "      <td>NaN</td>\n",
       "      <td>NaN</td>\n",
       "    </tr>\n",
       "    <tr>\n",
       "      <th>...</th>\n",
       "      <td>...</td>\n",
       "      <td>...</td>\n",
       "      <td>...</td>\n",
       "      <td>...</td>\n",
       "      <td>...</td>\n",
       "      <td>...</td>\n",
       "      <td>...</td>\n",
       "      <td>...</td>\n",
       "      <td>...</td>\n",
       "      <td>...</td>\n",
       "      <td>...</td>\n",
       "      <td>...</td>\n",
       "      <td>...</td>\n",
       "      <td>...</td>\n",
       "      <td>...</td>\n",
       "      <td>...</td>\n",
       "      <td>...</td>\n",
       "      <td>...</td>\n",
       "      <td>...</td>\n",
       "      <td>...</td>\n",
       "      <td>...</td>\n",
       "    </tr>\n",
       "    <tr>\n",
       "      <th>39511</th>\n",
       "      <td>TWELVE BENEFIT CORPORATION</td>\n",
       "      <td>Renewable electricity-powered carbon dioxide c...</td>\n",
       "      <td>Department of Energy</td>\n",
       "      <td>ARPA-E</td>\n",
       "      <td>Phase II</td>\n",
       "      <td>SBIR</td>\n",
       "      <td>1563-1504</td>\n",
       "      <td>DE-AR0000819</td>\n",
       "      <td>2018-12-16</td>\n",
       "      <td>NaN</td>\n",
       "      <td>...</td>\n",
       "      <td>Chief Technology Officer</td>\n",
       "      <td>(650) 291-5614</td>\n",
       "      <td>kendra@opus-12.com</td>\n",
       "      <td>Kendra Kuhl</td>\n",
       "      <td>Chief Technology Officer</td>\n",
       "      <td>(650) 291-5614</td>\n",
       "      <td>kendra@opus-12.com</td>\n",
       "      <td>NaN</td>\n",
       "      <td>NaN</td>\n",
       "      <td>NaN</td>\n",
       "    </tr>\n",
       "    <tr>\n",
       "      <th>42244</th>\n",
       "      <td>IR Dynamics</td>\n",
       "      <td>Dynamic IR Window Film to Improve Window Energ...</td>\n",
       "      <td>Department of Energy</td>\n",
       "      <td>ARPA-E</td>\n",
       "      <td>Phase II</td>\n",
       "      <td>SBIR</td>\n",
       "      <td>1429-1517</td>\n",
       "      <td>DE-AR0000745</td>\n",
       "      <td>2018-04-10</td>\n",
       "      <td>NaN</td>\n",
       "      <td>...</td>\n",
       "      <td>NaN</td>\n",
       "      <td>(505) 850-8906</td>\n",
       "      <td>pgclem@sandia.gov</td>\n",
       "      <td>Paul Clem</td>\n",
       "      <td>NaN</td>\n",
       "      <td>(505) 850-8906</td>\n",
       "      <td>pgclem@sandia.gov</td>\n",
       "      <td>NaN</td>\n",
       "      <td>NaN</td>\n",
       "      <td>NaN</td>\n",
       "    </tr>\n",
       "    <tr>\n",
       "      <th>44911</th>\n",
       "      <td>TRITON SYSTEMS, INC.</td>\n",
       "      <td>New Technology for Single Pane Retrofit</td>\n",
       "      <td>Department of Energy</td>\n",
       "      <td>ARPA-E</td>\n",
       "      <td>Phase II</td>\n",
       "      <td>SBIR</td>\n",
       "      <td>1429-1507</td>\n",
       "      <td>DE-AR0000746</td>\n",
       "      <td>2019-02-06</td>\n",
       "      <td>NaN</td>\n",
       "      <td>...</td>\n",
       "      <td>NaN</td>\n",
       "      <td>(978) 856-4141</td>\n",
       "      <td>agavrin@tritonsystems.com</td>\n",
       "      <td>Arthur Gavrin</td>\n",
       "      <td>NaN</td>\n",
       "      <td>(978) 856-4141</td>\n",
       "      <td>agavrin@tritonsystems.com</td>\n",
       "      <td>NaN</td>\n",
       "      <td>NaN</td>\n",
       "      <td>NaN</td>\n",
       "    </tr>\n",
       "    <tr>\n",
       "      <th>44929</th>\n",
       "      <td>TRITON SYSTEMS, INC.</td>\n",
       "      <td>New Technology for Single Pane Retrofit</td>\n",
       "      <td>Department of Energy</td>\n",
       "      <td>ARPA-E</td>\n",
       "      <td>Phase II</td>\n",
       "      <td>SBIR</td>\n",
       "      <td>1429-1507</td>\n",
       "      <td>DE-AR0000746</td>\n",
       "      <td>2018-02-06</td>\n",
       "      <td>NaN</td>\n",
       "      <td>...</td>\n",
       "      <td>NaN</td>\n",
       "      <td>(978) 856-4141</td>\n",
       "      <td>agavrin@tritonsystems.com</td>\n",
       "      <td>Arthur Gavrin</td>\n",
       "      <td>NaN</td>\n",
       "      <td>(978) 856-4141</td>\n",
       "      <td>agavrin@tritonsystems.com</td>\n",
       "      <td>NaN</td>\n",
       "      <td>NaN</td>\n",
       "      <td>NaN</td>\n",
       "    </tr>\n",
       "    <tr>\n",
       "      <th>45865</th>\n",
       "      <td>Air Squared, Inc.</td>\n",
       "      <td>A High Efficiency SACI 1 kW Generator System w...</td>\n",
       "      <td>Department of Energy</td>\n",
       "      <td>ARPA-E</td>\n",
       "      <td>Phase II</td>\n",
       "      <td>SBIR</td>\n",
       "      <td>1380-1515</td>\n",
       "      <td>DE-AR0000648</td>\n",
       "      <td>2018-05-01</td>\n",
       "      <td>NaN</td>\n",
       "      <td>...</td>\n",
       "      <td>NaN</td>\n",
       "      <td>(513) 238-9778</td>\n",
       "      <td>bryce@airsquared.com</td>\n",
       "      <td>Bryce Shaffer</td>\n",
       "      <td>NaN</td>\n",
       "      <td>(513) 238-9778</td>\n",
       "      <td>bryce@airsquared.com</td>\n",
       "      <td>NaN</td>\n",
       "      <td>NaN</td>\n",
       "      <td>NaN</td>\n",
       "    </tr>\n",
       "  </tbody>\n",
       "</table>\n",
       "<p>19506 rows × 41 columns</p>\n",
       "</div>"
      ],
      "text/plain": [
       "                                    Company  \\\n",
       "2               ADAMAS NANOTECHNOLOGIES INC   \n",
       "3                             ADDIGURU, LLC   \n",
       "4      ADVANCED CERAMICS MANUFACTURING, LLC   \n",
       "5         ADVANCED COOLING TECHNOLOGIES INC   \n",
       "6         ADVANCED COOLING TECHNOLOGIES INC   \n",
       "...                                     ...   \n",
       "39511            TWELVE BENEFIT CORPORATION   \n",
       "42244                           IR Dynamics   \n",
       "44911                  TRITON SYSTEMS, INC.   \n",
       "44929                  TRITON SYSTEMS, INC.   \n",
       "45865                     Air Squared, Inc.   \n",
       "\n",
       "                                             Award Title  \\\n",
       "2      Optical NMR using Diamond Quantum Sensing for ...   \n",
       "3      Artificial intelligence and machine learning a...   \n",
       "4      Structural Components with Corrosion Resistant...   \n",
       "5      Semiconductor Device Simulation Software with ...   \n",
       "6      Rapid and Tunable Cooling Technology for Vacuu...   \n",
       "...                                                  ...   \n",
       "39511  Renewable electricity-powered carbon dioxide c...   \n",
       "42244  Dynamic IR Window Film to Improve Window Energ...   \n",
       "44911            New Technology for Single Pane Retrofit   \n",
       "44929            New Technology for Single Pane Retrofit   \n",
       "45865  A High Efficiency SACI 1 kW Generator System w...   \n",
       "\n",
       "                      Agency  Branch     Phase Program Agency Tracking Number  \\\n",
       "2       Department of Energy     NaN  Phase II    SBIR                 271112   \n",
       "3      Department of Defense    Navy   Phase I    SBIR          N222-117-0351   \n",
       "4       Department of Energy     NaN   Phase I    SBIR                 270882   \n",
       "5       Department of Energy     NaN   Phase I    SBIR                 270761   \n",
       "6       Department of Energy     NaN  Phase II    SBIR                 271181   \n",
       "...                      ...     ...       ...     ...                    ...   \n",
       "39511   Department of Energy  ARPA-E  Phase II    SBIR              1563-1504   \n",
       "42244   Department of Energy  ARPA-E  Phase II    SBIR              1429-1517   \n",
       "44911   Department of Energy  ARPA-E  Phase II    SBIR              1429-1507   \n",
       "44929   Department of Energy  ARPA-E  Phase II    SBIR              1429-1507   \n",
       "45865   Department of Energy  ARPA-E  Phase II    SBIR              1380-1515   \n",
       "\n",
       "               Contract Proposal Award Date Contract End Date  ...  \\\n",
       "2          DE-SC0022441          2023-04-03        04/02/2025  ...   \n",
       "3      N68335-23-C-0061          2022-11-07        05/09/2023  ...   \n",
       "4          DE-SC0023657          2023-02-21        12/20/2023  ...   \n",
       "5          DE-SC0023619          2023-02-21        11/20/2023  ...   \n",
       "6          DE-SC0020508          2023-05-03        05/02/2025  ...   \n",
       "...                 ...                 ...               ...  ...   \n",
       "39511      DE-AR0000819          2018-12-16               NaN  ...   \n",
       "42244      DE-AR0000745          2018-04-10               NaN  ...   \n",
       "44911      DE-AR0000746          2019-02-06               NaN  ...   \n",
       "44929      DE-AR0000746          2018-02-06               NaN  ...   \n",
       "45865      DE-AR0000648          2018-05-01               NaN  ...   \n",
       "\n",
       "                  Contact Title   Contact Phone              Contact Email  \\\n",
       "2                           NaN  (919) 881-0500     meberle@adamasnano.com   \n",
       "3                           NaN  (504) 858-6357            sk@addiguru.com   \n",
       "4                           NaN  (520) 547-0861        zwing@acmtucson.com   \n",
       "5                           NaN  (717) 205-0602    bill.anderson@1-act.com   \n",
       "6                           NaN  (717) 205-0602    bill.anderson@1-act.com   \n",
       "...                         ...             ...                        ...   \n",
       "39511  Chief Technology Officer  (650) 291-5614         kendra@opus-12.com   \n",
       "42244                       NaN  (505) 850-8906          pgclem@sandia.gov   \n",
       "44911                       NaN  (978) 856-4141  agavrin@tritonsystems.com   \n",
       "44929                       NaN  (978) 856-4141  agavrin@tritonsystems.com   \n",
       "45865                       NaN  (513) 238-9778       bryce@airsquared.com   \n",
       "\n",
       "                 PI Name                  PI Title        PI Phone  \\\n",
       "2        Olga Shenderova                       NaN  (919) 881-0500   \n",
       "3         Shuchi Khurana                       NaN  (504) 858-6357   \n",
       "4           Zachary Wing                       NaN  (520) 547-0861   \n",
       "5               Yue Xiao                       NaN  (717) 205-0697   \n",
       "6      Patryk Radyjowski                       NaN  (717) 205-0603   \n",
       "...                  ...                       ...             ...   \n",
       "39511        Kendra Kuhl  Chief Technology Officer  (650) 291-5614   \n",
       "42244          Paul Clem                       NaN  (505) 850-8906   \n",
       "44911      Arthur Gavrin                       NaN  (978) 856-4141   \n",
       "44929      Arthur Gavrin                       NaN  (978) 856-4141   \n",
       "45865      Bryce Shaffer                       NaN  (513) 238-9778   \n",
       "\n",
       "                          PI Email RI Name RI POC Name RI POC Phone  \n",
       "2       oshenderova@adamasnano.com     NaN         NaN          NaN  \n",
       "3                  sk@addiguru.com     NaN         NaN          NaN  \n",
       "4              zwing@acmtucson.com     NaN         NaN          NaN  \n",
       "5               yue.xiao@1-act.com     NaN         NaN          NaN  \n",
       "6      patryk.radyjowski@1-act.com     NaN         NaN          NaN  \n",
       "...                            ...     ...         ...          ...  \n",
       "39511           kendra@opus-12.com     NaN         NaN          NaN  \n",
       "42244            pgclem@sandia.gov     NaN         NaN          NaN  \n",
       "44911    agavrin@tritonsystems.com     NaN         NaN          NaN  \n",
       "44929    agavrin@tritonsystems.com     NaN         NaN          NaN  \n",
       "45865         bryce@airsquared.com     NaN         NaN          NaN  \n",
       "\n",
       "[19506 rows x 41 columns]"
      ]
     },
     "execution_count": 5,
     "metadata": {},
     "output_type": "execute_result"
    }
   ],
   "source": [
    "sbir_df"
   ]
  },
  {
   "cell_type": "code",
   "execution_count": 7,
   "id": "6e9e3e32",
   "metadata": {},
   "outputs": [],
   "source": [
    "# store records - going forward, we only need to load this\n",
    "sbir_df.to_csv('./Downloads/SBIR_reduced.csv')"
   ]
  },
  {
   "cell_type": "markdown",
   "id": "15a7c9c7",
   "metadata": {},
   "source": [
    "## Create Llamaindex vector index"
   ]
  },
  {
   "cell_type": "code",
   "execution_count": 11,
   "id": "07a150a2",
   "metadata": {},
   "outputs": [],
   "source": [
    "nest_asyncio.apply()"
   ]
  },
  {
   "cell_type": "code",
   "execution_count": 12,
   "id": "30cc3108",
   "metadata": {},
   "outputs": [],
   "source": [
    "# Setup OpenAI key\n",
    "os.environ[\"OPENAI_API_KEY\"] = \"<YOUR OPEN API KEY>\"\n",
    "openai.api_key = os.getenv(\"OPENAI_API_KEY\")"
   ]
  },
  {
   "cell_type": "code",
   "execution_count": 8,
   "id": "e0daed3c",
   "metadata": {},
   "outputs": [],
   "source": [
    "# load CSV file\n",
    "SimpleCSVReader = download_loader(\"SimpleCSVReader\")\n",
    "loader = SimpleCSVReader(encoding=\"utf-8\")\n",
    "documents = loader.load_data(file=Path('./Downloads/SBIR_reduced.csv'))"
   ]
  },
  {
   "cell_type": "code",
   "execution_count": 9,
   "id": "1961143f",
   "metadata": {},
   "outputs": [],
   "source": [
    "# Setup entity extraction pipeline\n",
    "entity_extractor = EntityExtractor(\n",
    "    prediction_threshold=0.5,\n",
    "    label_entities=False,  # include the entity label in the metadata (can be erroneous)\n",
    "    device=\"cpu\",  # set to \"cuda\" if you have a GPU\n",
    ")\n",
    "node_parser = SentenceSplitter()\n",
    "transformations = [node_parser, entity_extractor]"
   ]
  },
  {
   "cell_type": "code",
   "execution_count": 13,
   "id": "412a5a70",
   "metadata": {},
   "outputs": [
    {
     "data": {
      "application/vnd.jupyter.widget-view+json": {
       "model_id": "870b33e7bc7f445ba93473ff5c47ccd2",
       "version_major": 2,
       "version_minor": 0
      },
      "text/plain": [
       "Extracting entities:   0%|          | 0/11473 [00:00<?, ?it/s]"
      ]
     },
     "metadata": {},
     "output_type": "display_data"
    }
   ],
   "source": [
    "# run the entity extraction pipeline on documents (loaded from CSV file)\n",
    "pipeline = IngestionPipeline(transformations=transformations)\n",
    "nodes = pipeline.run(documents=documents)"
   ]
  },
  {
   "cell_type": "code",
   "execution_count": 14,
   "id": "85e96fe6",
   "metadata": {},
   "outputs": [
    {
     "name": "stderr",
     "output_type": "stream",
     "text": [
      "huggingface/tokenizers: The current process just got forked, after parallelism has already been used. Disabling parallelism to avoid deadlocks...\n",
      "To disable this warning, you can either:\n",
      "\t- Avoid using `tokenizers` before the fork if possible\n",
      "\t- Explicitly set the environment variable TOKENIZERS_PARALLELISM=(true | false)\n"
     ]
    }
   ],
   "source": [
    "# create word vector \n",
    "service_context = ServiceContext.from_defaults(\n",
    "    llm=OpenAI(model=\"gpt-3.5-turbo\", temperature=0.2)\n",
    ")\n",
    "\n",
    "index = VectorStoreIndex(nodes, service_context=service_context)"
   ]
  },
  {
   "cell_type": "code",
   "execution_count": 15,
   "id": "9c899eed",
   "metadata": {},
   "outputs": [],
   "source": [
    "# Store the trained context - we don't need to train again,can directly load\n",
    "index.storage_context.persist(persist_dir=\"./Downloads/\")"
   ]
  },
  {
   "cell_type": "code",
   "execution_count": 16,
   "id": "13f11cbf",
   "metadata": {},
   "outputs": [
    {
     "name": "stderr",
     "output_type": "stream",
     "text": [
      "huggingface/tokenizers: The current process just got forked, after parallelism has already been used. Disabling parallelism to avoid deadlocks...\n",
      "To disable this warning, you can either:\n",
      "\t- Avoid using `tokenizers` before the fork if possible\n",
      "\t- Explicitly set the environment variable TOKENIZERS_PARALLELISM=(true | false)\n"
     ]
    },
    {
     "name": "stdout",
     "output_type": "stream",
     "text": [
      "The top 5 frequent technical terms mentioned in the given context are:\n",
      "1. 5G\n",
      "2. Electroplating\n",
      "3. Wireless Power Transfer (WPT)\n",
      "4. Deep Learning\n",
      "5. Race Detection\n"
     ]
    }
   ],
   "source": [
    "# example queries\n",
    "query_engine = index.as_query_engine()\n",
    "response = query_engine.query(\"what are top 5 frequent technical terms\")\n",
    "print(response)"
   ]
  },
  {
   "cell_type": "code",
   "execution_count": 17,
   "id": "2d97fd99",
   "metadata": {},
   "outputs": [
    {
     "name": "stdout",
     "output_type": "stream",
     "text": [
      "DT Professional Services LLC was awarded the most amount of money, which was $112,493.\n"
     ]
    }
   ],
   "source": [
    "# example queries\n",
    "query_engine = index.as_query_engine()\n",
    "response = query_engine.query(\"\"\"which company was awarded most $ and how much. This information can be obtained by \n",
    "looking into award amount and Company fields\"\"\")\n",
    "print(response)"
   ]
  },
  {
   "cell_type": "code",
   "execution_count": 18,
   "id": "b6744b7f",
   "metadata": {},
   "outputs": [
    {
     "name": "stdout",
     "output_type": "stream",
     "text": [
      "Based on the given context information, there is no mention of 2PI INC receiving any awards.\n"
     ]
    }
   ],
   "source": [
    "# example queries\n",
    "query_engine = index.as_query_engine()\n",
    "response = query_engine.query(\"\"\"how many awards dis 2PI INC receive?\"\"\")\n",
    "print(response)"
   ]
  },
  {
   "cell_type": "code",
   "execution_count": 22,
   "id": "f80ff9fe",
   "metadata": {},
   "outputs": [
    {
     "name": "stdout",
     "output_type": "stream",
     "text": [
      "The top 5 companies that were awarded the most money and their respective award amounts are as follows:\n",
      "\n",
      "1. Stealth Software Technologies, Inc. - $224,988\n",
      "   Technical entities associated: Securing Antiquated Languages via program Synthesis and human Assistance (SALSA), Department of Defense, Defense Advanced Research Projects Agency\n",
      "\n",
      "2. Steam Instruments, Inc. - $199,482\n",
      "   Technical entities associated: Multimodal Stigmatic Imaging Mass Spectrometry with Flat-Top Laser Probe, Department of Energy\n",
      "\n",
      "3. DT Professional Services LLC - $112,493\n",
      "   Technical entities associated: Focus Area 2 - DT Professional's Response to Digital Logistics, Department of Defense, Navy\n",
      "\n",
      "Please note that the remaining two companies and their award amounts were not provided in the given context.\n"
     ]
    }
   ],
   "source": [
    "# example queries\n",
    "query_engine = index.as_query_engine()\n",
    "response = query_engine.query(\"\"\"List top 5 companies that were awarded most $ and how much. This information can be obtained by \n",
    "looking into award amount and Company fields. Also list technical entities associated with each. \"\"\")\n",
    "print(response)"
   ]
  },
  {
   "cell_type": "code",
   "execution_count": 19,
   "id": "ea55f5de",
   "metadata": {},
   "outputs": [],
   "source": [
    "entities = []\n",
    "for i in range(len(nodes)):\n",
    "    #print(node.metadata['entities'])\n",
    "    if 'entities' not in nodes[i].metadata.keys():\n",
    "        continue\n",
    "    for ent in nodes[i].metadata['entities']:\n",
    "        if ent not in entities:\n",
    "            entities.append(ent)"
   ]
  },
  {
   "cell_type": "code",
   "execution_count": 24,
   "id": "4ae5e62b",
   "metadata": {},
   "outputs": [],
   "source": [
    "with open('Downloads/sbir_entities_llama.txt', 'w') as file:\n",
    "    # Write each element of the list as a separate line\n",
    "    for item in entities:\n",
    "        file.write(f\"{item}\\n\")"
   ]
  },
  {
   "cell_type": "code",
   "execution_count": 30,
   "id": "f30ffd9c",
   "metadata": {},
   "outputs": [
    {
     "name": "stdout",
     "output_type": "stream",
     "text": [
      "Spectrum Photonics Inc, Specular Theory Inc\n"
     ]
    }
   ],
   "source": [
    "# example queries\n",
    "query_engine = index.as_query_engine()\n",
    "response = query_engine.query(\"\"\"List all companies that work that mention Spectometry in their work. Ignore case \"\"\")\n",
    "print(response)"
   ]
  },
  {
   "cell_type": "code",
   "execution_count": 42,
   "id": "68b2270e",
   "metadata": {},
   "outputs": [
    {
     "name": "stdout",
     "output_type": "stream",
     "text": [
      "TRITON SYSTEMS appears three times in the records. Here is one full record:\n",
      "27670, TRITON SYSTEMS, INC., Extended Wear Deep-Fitting Noise Dosimeter, Department of Defense, Defense Health Program, Phase I, SBIR, H182-002-0021, W81XWH19C0005, 2018-11-05, 06/04/2019, 18.2, 2018.0, 06/20/2018, 06/20/2018, 08/20/2018, DHA182-002, 2019, 149,929, '796010411', N, N, N, 54.0, http://www.tritonsys.com, 200 TURNPIKE ROAD, , CHELMSFORD, MA, 01824, Triton Systems proposes to develop a deep fitting in-the-ear, extended-wear acoustically transparent dosimeter to accurately measure levels and amount of noise exposure near the ear drum., Collette E Jolliffe, , (978) 250-4200, cjolliffe@tritonsystems.com, Brian Fowler, Principal Investigator, (978) 856-4183, bfowler@tritonsystems.com, , ,\n"
     ]
    }
   ],
   "source": [
    "# example queries\n",
    "query_engine = index.as_query_engine()\n",
    "response = query_engine.query(\"\"\"How many times 'TRITON SYSTEMS' appears in the records. List one full record\"\"\")\n",
    "print(response)"
   ]
  },
  {
   "cell_type": "code",
   "execution_count": 43,
   "id": "a39fc9d1",
   "metadata": {},
   "outputs": [
    {
     "name": "stdout",
     "output_type": "stream",
     "text": [
      "The website for TRITON SYSTEMS is http://www.tritonsys.com. The address for TRITON SYSTEMS is 200 TURNPIKE ROAD, CHELMSFORD, MA, 01824.\n"
     ]
    }
   ],
   "source": [
    "# example queries\n",
    "query_engine = index.as_query_engine()\n",
    "response = query_engine.query(\"\"\"return website and address for 'TRITON SYSTEMS'\"\"\")\n",
    "print(response)"
   ]
  },
  {
   "cell_type": "code",
   "execution_count": 48,
   "id": "c274fc8a",
   "metadata": {},
   "outputs": [
    {
     "name": "stdout",
     "output_type": "stream",
     "text": [
      "TRITON SYSTEMS, INC. has the following records:\n",
      "- Record 27670: Extended Wear Deep-Fitting Noise Dosimeter, Department of Defense, Defense Health Program, Phase I, SBIR\n",
      "- Record 27671: Expeditionary Metal Additive Manufacturing, Department of Defense, Army, Phase I, SBIR\n",
      "- Record 27672: Ultra Mobile, Low-shear Casualty Transport Pad for PFC, Department of Defense, Defense Health Program, Phase I, SBIR\n",
      "- Record 27668: Identification of Open Globe Injuries on the Battlefield, Department of Defense, Defense Health Program, Phase I, SBIR\n",
      "- Record 27669: Improved Data Tracking System for Crew-Served Weapon Systems, Department of Defense, Navy, Phase I, SBIR\n"
     ]
    }
   ],
   "source": [
    "# example queries\n",
    "query_engine = index.as_query_engine()\n",
    "response = query_engine.query(\"\"\"list all records of TRITON SYSTEMS, INC. \"\"\")\n",
    "print(response)"
   ]
  },
  {
   "cell_type": "code",
   "execution_count": 32,
   "id": "d6a211a7",
   "metadata": {},
   "outputs": [
    {
     "data": {
      "text/plain": [
       "Company                                                          ADAMAS NANOTECHNOLOGIES INC\n",
       "Award Title                                Optical NMR using Diamond Quantum Sensing for ...\n",
       "Agency                                                                  Department of Energy\n",
       "Branch                                                                                   NaN\n",
       "Phase                                                                               Phase II\n",
       "Program                                                                                 SBIR\n",
       "Agency Tracking Number                                                                271112\n",
       "Contract                                                                        DE-SC0022441\n",
       "Proposal Award Date                                                      2023-04-03 00:00:00\n",
       "Contract End Date                                                                 04/02/2025\n",
       "Solicitation Number                                                                      NaN\n",
       "Solicitation Year                                                                     2023.0\n",
       "Solicitation Close Date                                                           12/06/2022\n",
       "Proposal Receipt Date                                                             12/06/2022\n",
       "Date of Notification                                                              02/10/2023\n",
       "Topic Code                                                                           C53-28b\n",
       "Award Year                                                                              2023\n",
       "Award Amount                                                                       1,650,000\n",
       "Duns                                                                             '064596089'\n",
       "HUBZone Owned                                                                              N\n",
       "Socially and Economically Disadvantaged                                                    N\n",
       "Women Owned                                                                                N\n",
       "Number Employees                                                                         8.0\n",
       "Company Website                                                   https://www.adamasnano.com\n",
       "Address1                                                                         PO BOX90696\n",
       "Address2                                                                                 NaN\n",
       "City                                                                                 Raleigh\n",
       "State                                                                                     NC\n",
       "Zip                                                                               27675-0696\n",
       "Abstract                                   C53-28b-271112Quantum enabled approaches pose ...\n",
       "Contact Name                                                                     Mary Eberle\n",
       "Contact Title                                                                            NaN\n",
       "Contact Phone                                                                 (919) 881-0500\n",
       "Contact Email                                                         meberle@adamasnano.com\n",
       "PI Name                                                                      Olga Shenderova\n",
       "PI Title                                                                                 NaN\n",
       "PI Phone                                                                      (919) 881-0500\n",
       "PI Email                                                          oshenderova@adamasnano.com\n",
       "RI Name                                                                                  NaN\n",
       "RI POC Name                                                                              NaN\n",
       "RI POC Phone                                                                             NaN\n",
       "Name: 2, dtype: object"
      ]
     },
     "execution_count": 32,
     "metadata": {},
     "output_type": "execute_result"
    }
   ],
   "source": [
    "sbir_df.iloc[0]"
   ]
  },
  {
   "cell_type": "code",
   "execution_count": 39,
   "id": "29f438e5",
   "metadata": {},
   "outputs": [
    {
     "data": {
      "text/plain": [
       "Company\n",
       "TRITON SYSTEMS, INC.             266\n",
       "Physical Sciences Inc.           234\n",
       "Intelligent Automation, Inc.     210\n",
       "INTELLISENSE SYSTEMS INC         189\n",
       "CHARLES RIVER ANALYTICS, INC.    171\n",
       "                                ... \n",
       "SWR TECHNOLOGY INC                 1\n",
       "SYNCHROGRID LTD LLC                1\n",
       "SYNTROPY SYSTEMS, LLC              1\n",
       "SYSTEM STRATEGY INC                1\n",
       "IR Dynamics                        1\n",
       "Name: count, Length: 4809, dtype: int64"
      ]
     },
     "execution_count": 39,
     "metadata": {},
     "output_type": "execute_result"
    }
   ],
   "source": [
    "sbir_df['Company'].value_counts()"
   ]
  },
  {
   "cell_type": "code",
   "execution_count": 54,
   "id": "8e904298",
   "metadata": {},
   "outputs": [
    {
     "name": "stdout",
     "output_type": "stream",
     "text": [
      "Neural nets, deep neural net, deep learning theory, deep learning implementation, deep learning techniques, deep analysis, deep learning integration\n"
     ]
    }
   ],
   "source": [
    "# example queries\n",
    "query_engine = index.as_query_engine()\n",
    "response = query_engine.query(\"\"\"give technical terms associated with 'deep learning' \"\"\")\n",
    "print(response)"
   ]
  },
  {
   "cell_type": "code",
   "execution_count": 65,
   "id": "7979a440",
   "metadata": {},
   "outputs": [
    {
     "data": {
      "text/plain": [
       "[TextNode(id_='e8fa0e73-77dc-4331-9a5d-c5538d084090', embedding=None, metadata={'entities': ['Department of Energy']}, excluded_embed_metadata_keys=[], excluded_llm_metadata_keys=[], relationships={<NodeRelationship.SOURCE: '1'>: RelatedNodeInfo(node_id='a9719264-1365-43e2-82a7-91b901943d15', node_type=<ObjectType.DOCUMENT: '4'>, metadata={}, hash='106262bb3154c79083556d3121b1e91012b9365aceed62792be006724bfcf109'), <NodeRelationship.NEXT: '3'>: RelatedNodeInfo(node_id='811b09f1-9822-4e3e-bf35-5a30acc6f52a', node_type=<ObjectType.TEXT: '1'>, metadata={}, hash='9a720767c80a40beefbc1362fb28298bc6eaf3876566995bdb770f8dad083fee')}, hash='b75ea03ef3ef4a2dd538dbf44279442eccde33715862427f51532b18f5d3faf0', text=\", Company, Award Title, Agency, Branch, Phase, Program, Agency Tracking Number, Contract, Proposal Award Date, Contract End Date, Solicitation Number, Solicitation Year, Solicitation Close Date, Proposal Receipt Date, Date of Notification, Topic Code, Award Year, Award Amount, Duns, HUBZone Owned, Socially and Economically Disadvantaged, Women Owned, Number Employees, Company Website, Address1, Address2, City, State, Zip, Abstract, Contact Name, Contact Title, Contact Phone, Contact Email, PI Name, PI Title, PI Phone, PI Email, RI Name, RI POC Name, RI POC Phone\\n2, ADAMAS NANOTECHNOLOGIES INC, Optical NMR using Diamond Quantum Sensing for Imaging Metabolic Processes in Live Cells, Department of Energy, , Phase II, SBIR, 271112, DE-SC0022441, 2023-04-03, 04/02/2025, , 2023.0, 12/06/2022, 12/06/2022, 02/10/2023, C53-28b, 2023, 1,650,000, '064596089', N, N, N, 8.0, https://www.adamasnano.com, PO BOX90696, , Raleigh, NC, 27675-0696, C53-28b-271112Quantum enabled approaches pose new concepts for bioimaging and sensing of biological processes in living biological systems, non-destructively in real time. Processes of interest for bioenergy include measuring enzyme function within cells, tracking metabolic pathways in vivo, monitoring the transport of materials into and out of cells or across cellular membranes and, measuring signaling process between cells and within plant-microbe and microbe-microbe interactions. High-utility organic products (biofuels, biochemicals, biomaterials, etc.) are most effectively produced by way of industrial fermentation enabled by microorganisms such as bacteria, yeast, and fungi. End-product synthesis begins with genetically engineered microbial strains with redirected metabolic paths which either increase the yield of natural metabolites or produce new molecules. Because bioprocess scale-up costs are extremely high, reliable scale-up remains an enormous technical and economic barrier for commercialization of bioprocesses. To provide insight into the metabolic process with the goal of increasing yield, single-cell NMR sensors based on nanodiamond (ND) particles with unique quantum properties are being developed. 13C nuclear spins in nanodiamond will be employed as NMR sensors of the surrounding analyte nuclei. Hyperpolarization of 13C nuclei boost their NMR signal and increase the capability to measure the NMR chemical shift of potential analytes present in nearby hyperpolarized 13C nuclei. Products that will result from this research include a single-cell NMR detector, consisting of a 13C hyperpolarization module and RF detection module, along with the diamond particles that are used by the device. This will enable real-time analysis at a temporal scale of bioprocess dynamics in bioreactors., Mary Eberle, , (919) 881-0500, meberle@adamasnano.com, Olga Shenderova, , (919) 881-0500, oshenderova@adamasnano.com, , , \\n3, ADDIGURU, LLC, Artificial intelligence and machine learning algorithms to detect defects in additive manufacturing by fusing multiple sensor data, Department of Defense, Navy, Phase I, SBIR, N222-117-0351, N68335-23-C-0061, 2022-11-07, 05/09/2023, 22.2, 2022.0, 06/15/2022, 06/15/2022, 09/12/2022, N222-117, 2023, 139,926, '117216019', N, Y, N, 3.0, https://www.addiguru.com, 4016 Lake Villa Dr, , Metairie, LA, 70002-1111, While additive manufacturing (AM) has enabled the fabrication of complex geometries, process repeatability, and part quality has been an inhibitor to widespread industry adoption. Parts fabricated using metal AM can have their mechanical properties compromised due to the presence of defects. Presently, quality assurance is achieved by X-ray Computed Tomography (CT), which is costly and time-consuming. In-situ monitoring in AM can help in the democratization of AM by offering real-time detection of anomalies. This research aims to develop artificial intelligence and machine learning (AI/ML) algorithms that use the data generated by the machine sensors in conjunction with inexpensive optical and acoustic sensors to detect defects in Laser Powder Bed Fusion (LPBF) in real-time.\", start_char_idx=0, end_char_idx=4103, text_template='[Excerpt from document]\\n{metadata_str}\\nExcerpt:\\n-----\\n{content}\\n-----\\n', metadata_template='{key}: {value}', metadata_seperator='\\n'),\n",
       " TextNode(id_='811b09f1-9822-4e3e-bf35-5a30acc6f52a', embedding=None, metadata={'entities': ['Laser Powder Bed Fusion', 'X-ray Computed Tomography']}, excluded_embed_metadata_keys=[], excluded_llm_metadata_keys=[], relationships={<NodeRelationship.SOURCE: '1'>: RelatedNodeInfo(node_id='a9719264-1365-43e2-82a7-91b901943d15', node_type=<ObjectType.DOCUMENT: '4'>, metadata={}, hash='106262bb3154c79083556d3121b1e91012b9365aceed62792be006724bfcf109'), <NodeRelationship.PREVIOUS: '2'>: RelatedNodeInfo(node_id='e8fa0e73-77dc-4331-9a5d-c5538d084090', node_type=<ObjectType.TEXT: '1'>, metadata={}, hash='b75ea03ef3ef4a2dd538dbf44279442eccde33715862427f51532b18f5d3faf0'), <NodeRelationship.NEXT: '3'>: RelatedNodeInfo(node_id='12ace8a5-28c0-4a47-9648-3234f6eb8841', node_type=<ObjectType.TEXT: '1'>, metadata={}, hash='563bf8b4667ae7a38ad082efab3435819375717544ee967eb551baf0bfe561df')}, hash='9a720767c80a40beefbc1362fb28298bc6eaf3876566995bdb770f8dad083fee', text=\"Parts fabricated using metal AM can have their mechanical properties compromised due to the presence of defects. Presently, quality assurance is achieved by X-ray Computed Tomography (CT), which is costly and time-consuming. In-situ monitoring in AM can help in the democratization of AM by offering real-time detection of anomalies. This research aims to develop artificial intelligence and machine learning (AI/ML) algorithms that use the data generated by the machine sensors in conjunction with inexpensive optical and acoustic sensors to detect defects in Laser Powder Bed Fusion (LPBF) in real-time. \\xa0 The popular EOS-M290 LPBF machine has 20+ in-built sensors such as O2 concentration, chamber temperature, layer time, recoater speed, etc. This machine data in conjunction with optical and acoustic data will be used to develop AI/ML models for real-time issue detection. A high-resolution optical camera will be mounted on the EOS M290 LPBF machine to collect layer-by-layer images. These images will be analyzed by an artificial intelligence (AI) model trained to detect layer anomalies such as spatter, streaking, hopping, part swelling, etc. An acoustic sensor will be deployed to capture airborne sound waves and analyzed to identify features denoting the evolution and presence of defects. AI/ML algorithms will combine or fuse the data from the different sensors to provide higher accuracy of detection. This project will use the underutilized machine data to achieve high special and temporal information of defects. This project will further build on the current capability of Addiguru’s optical camera-based layerwise real-time monitoring technology which detects issues using computer vision and AI. \\xa0 Data will be generated by printing samples that will be deliberately designed to include various defects. This data will be analyzed and used for training AI/ML models. The training of the AI/ML models requires labeling of data with the ground truth which will be obtained by performing CT scans. CT scans will determine porosity in the parts. Metallographic analysis will be carried out to uncover issues and train the models. \\xa0 Combining in-situ machine sensor data along with optical and acoustics signals will provide a significant enhancement in the detection of anomalies. The data fusion will be carried out by developing advanced AI/ML algorithms by Addiguru’s AI/ML and software engineering experts. It is proposed that high spatial and temporal resolution obtained by fusing multiple sensor data will enable precise location of defects and thereby, significantly reduce post-build inspection costs. Successful completion of the project will demonstrate the feasibility to develop AI/ML algorithms for multiple sensory data for real-time issue detection in the LPBF process., Shuchi Khurana, , (504) 858-6357, sk@addiguru.com, Shuchi Khurana, , (504) 858-6357, sk@addiguru.com, , , \\n4, ADVANCED CERAMICS MANUFACTURING, LLC, Structural Components with Corrosion Resistant Surface Layers for Advanced Nuclear Reactor Systems, Department of Energy, , Phase I, SBIR, 270882, DE-SC0023657, 2023-02-21, 12/20/2023, , 2023.0, 10/17/2022, 10/26/2022, 12/19/2022, C55-12a, 2023, 250,000, '066066874', N, Y, N, 15.0, https://www.acmtucson.com, 7800A S Nogales Hwy, , Tucson, AZ, 85756, Advanced high temperature nuclear reactor systems that utilize liquid coolants such as molten fluorides require structural components that are also corrosion resistant to the coolant. The current structural components approved for use in ASME Code Sec III Div 5 have insufficient corrosion resistance for long lifetimes. This problem will be addressed by the incorporation of thick, corrosion resistant surface layers using a unique hot pressing technique in which pressure can be applied with one or more metallic components in the molten state. This is enabling for producing highly adherent layers with no to minimal residual porosity. In Phase I, screening studies will be performed including corrosion testing in molten fluoride salts to identify preferred surface layer compositions that will be incorporated on stainless steel and nickel superalloys and subjected to longer term corrosion testing. Assessment of the samples will involve weight measurements, microstructural analyses with elemental mapping, and mechanical property testing including after thermal cycling.\", start_char_idx=3498, end_char_idx=7881, text_template='[Excerpt from document]\\n{metadata_str}\\nExcerpt:\\n-----\\n{content}\\n-----\\n', metadata_template='{key}: {value}', metadata_seperator='\\n'),\n",
       " TextNode(id_='12ace8a5-28c0-4a47-9648-3234f6eb8841', embedding=None, metadata={'entities': ['Zachary Wing']}, excluded_embed_metadata_keys=[], excluded_llm_metadata_keys=[], relationships={<NodeRelationship.SOURCE: '1'>: RelatedNodeInfo(node_id='a9719264-1365-43e2-82a7-91b901943d15', node_type=<ObjectType.DOCUMENT: '4'>, metadata={}, hash='106262bb3154c79083556d3121b1e91012b9365aceed62792be006724bfcf109'), <NodeRelationship.PREVIOUS: '2'>: RelatedNodeInfo(node_id='811b09f1-9822-4e3e-bf35-5a30acc6f52a', node_type=<ObjectType.TEXT: '1'>, metadata={}, hash='9a720767c80a40beefbc1362fb28298bc6eaf3876566995bdb770f8dad083fee'), <NodeRelationship.NEXT: '3'>: RelatedNodeInfo(node_id='6bc1f4a7-bd85-4c16-9f8d-5b2974ffe0e7', node_type=<ObjectType.TEXT: '1'>, metadata={}, hash='facb238caed88f2689117f87f1446ac067280bb927a967b33fb3f2431bab6088')}, hash='563bf8b4667ae7a38ad082efab3435819375717544ee967eb551baf0bfe561df', text=\"The current structural components approved for use in ASME Code Sec III Div 5 have insufficient corrosion resistance for long lifetimes. This problem will be addressed by the incorporation of thick, corrosion resistant surface layers using a unique hot pressing technique in which pressure can be applied with one or more metallic components in the molten state. This is enabling for producing highly adherent layers with no to minimal residual porosity. In Phase I, screening studies will be performed including corrosion testing in molten fluoride salts to identify preferred surface layer compositions that will be incorporated on stainless steel and nickel superalloys and subjected to longer term corrosion testing. Assessment of the samples will involve weight measurements, microstructural analyses with elemental mapping, and mechanical property testing including after thermal cycling. In addition to the nuclear applications, the coated materials developed in this program could be commercialized for concentrated solar cell systems, supercritical carbon dioxide systems, and high temperature, oxidation resistant components for aerospace, defense, and industrial applications., Zachary Wing, , (520) 547-0861, zwing@acmtucson.com, Zachary Wing, , (520) 547-0861, zwing@acmtucson.com, , , \\n5, ADVANCED COOLING TECHNOLOGIES INC, Semiconductor Device Simulation Software with Monte Carlo Based Thermal Transport Modeling, Department of Energy, , Phase I, SBIR, 270761, DE-SC0023619, 2023-02-21, 11/20/2023, , 2023.0, 10/17/2022, 10/18/2022, 12/19/2022, C55-01b, 2023, 199,988, '126288336', N, N, N, 216.0, http://www.1-ACT.com, 1046 New Holland Ave., , Lancaster, PA, 17601-5606, Current semiconductor device simulation software adopts Fourier’s law to perform the thermal transport modeling. However, Fourier’s law will become invalid at micro/nano-scale, which can cause a large discrepancy in the thermal and electrical performance between the simulation results and the actual application. To improve the current state-of-the-art, a new semiconductor device simulation software that adopts the advanced phonon frequency-dependent Monte Carlo simulation technique to replace the conventional Fourier’s law for the thermal transport modeling is proposed. Monte Carlo simulations track the phonon movement and scattering so that the thermal properties of the nanomaterial can be extracted stochastically. The simulation accuracy will be improved because the proposed Monte-Carlo-based software can incorporate detailed phonon transport physics. The Monte Carlo simulation will be coupled with Charon and Trilinos software packages, which are funded by the Department of Energy and its Office of Advanced Scientific Computing and Research, form a complete semiconductor device simulation software. In Phase I, the coupling between the frequency-dependent phonon Monte Carlo code, Charon, and Trilinos will be performed. Simple one- and two-dimensional test cases will be performed to calibrate the software. In addition, a basic user interface and a material database will be created to improve the user-friendliness of Trilinos and Charon. If Phase II of the project is funded, a three-dimensional device simulation software with an enhanced graphic user interface and the material database will be developed. Such device simulation software will offer high fidelity simulation results in which will benefit both the semiconductor industries and academia., William Anderson, , (717) 205-0602, bill.anderson@1-act.com, Yue Xiao, , (717) 205-0697, yue.xiao@1-act.com, , , \\n6, ADVANCED COOLING TECHNOLOGIES INC, Rapid and Tunable Cooling Technology for Vacuum Furnaces, Department of Energy, , Phase II, SBIR, 271181, DE-SC0020508, 2023-05-03, 05/02/2025, , 2023.0, 12/06/2022, 12/06/2022, 02/10/2023, C49-18a, 2023, 1,149,999, '126288336', N, N, N, 220.0, http://www.1-ACT.com, 1046 New Holland Ave., , Lancaster, PA, 17601-5606, C49-18a-271181The need for high-temperature furnaces for neutron scattering experiments has been increasing considerably. One of the major limiting factors of these furnaces is the cooling rate. Currently, the vacuum furnace relies on radiation to dissipate heat and takes at least 2 hours to cool the furnace low enough to safely open for a sample change. This results in significant limitations of using expensive neutron beam time.\", start_char_idx=6987, end_char_idx=11358, text_template='[Excerpt from document]\\n{metadata_str}\\nExcerpt:\\n-----\\n{content}\\n-----\\n', metadata_template='{key}: {value}', metadata_seperator='\\n'),\n",
       " TextNode(id_='6bc1f4a7-bd85-4c16-9f8d-5b2974ffe0e7', embedding=None, metadata={'entities': ['ACT']}, excluded_embed_metadata_keys=[], excluded_llm_metadata_keys=[], relationships={<NodeRelationship.SOURCE: '1'>: RelatedNodeInfo(node_id='a9719264-1365-43e2-82a7-91b901943d15', node_type=<ObjectType.DOCUMENT: '4'>, metadata={}, hash='106262bb3154c79083556d3121b1e91012b9365aceed62792be006724bfcf109'), <NodeRelationship.PREVIOUS: '2'>: RelatedNodeInfo(node_id='12ace8a5-28c0-4a47-9648-3234f6eb8841', node_type=<ObjectType.TEXT: '1'>, metadata={}, hash='563bf8b4667ae7a38ad082efab3435819375717544ee967eb551baf0bfe561df'), <NodeRelationship.NEXT: '3'>: RelatedNodeInfo(node_id='83374455-c0b4-4c2f-b4bf-4d990ca220a8', node_type=<ObjectType.TEXT: '1'>, metadata={}, hash='1c15d298a0a3fb37d687e5abe63279acb18cfdf06f8eae3aa3032a5092dc1eb4')}, hash='facb238caed88f2689117f87f1446ac067280bb927a967b33fb3f2431bab6088', text=\"One of the major limiting factors of these furnaces is the cooling rate. Currently, the vacuum furnace relies on radiation to dissipate heat and takes at least 2 hours to cool the furnace low enough to safely open for a sample change. This results in significant limitations of using expensive neutron beam time. To tackle this challenge, ACT proposes an innovative active cooling system to significantly reduce neutron scattering furnaces’ downtime. The system includes a closed helium (He) circulation loop, industrial-grade process control, furnace flow distribution nozzles, and a built-in refrigeration unit to achieve fast and controllable cooling. Due to the much higher thermal conductivity of the He gas compared to other inert gases (e.g., nitrogen, argon), heat can be removed from the system more effectively. By introducing the He flow inside the radiation shields via a flow distributor nozzle, the cooling rate can also be controlled by adjusting the flow rate and overall system pressure. The thermal characteristics and low neutron scattering and adsorption coefficients of He provide the potential for in- situ cooling for advanced material experiments. This will allow experimenters to perform controlled transient thermal tests that could not have been done before. The proposed active cooling system has very low He usage (closed-loop circulation) and requires a minimal human operation. During Phases I and II, a fully operational and mobile prototype cooling system was constructed and tested in the field with an operational HOT-006 neutron furnace at Oak Ridge National Laboratory (ORNL). The He cooling system managed to cool the heating element from 500&#176;C to 100&#176;C in just 8 minutes, a 17 times improvement compared to 2.24 hours for the original radiation-only cooling approach. The thermal stresses on the coil were evaluated, and a proof-of-concept constant cooling rate approach was demonstrated. The successful test at ORNL brings the technology to TRL (Technology Readiness Level) to 7. In Phase IIA, ACT will continue working with ORNL to refine the cooling system, extend its capabilities, and further push for the commercialization of the technology. It will be achieved by extended long-term usage tests at ORNL during mock and live neutron scattering experiments. Furthermore, the capabilities of the cooling system will be extended to include rapid sample quenching and a closed-loop controlled cooling rate. The cooling system will also be validated for operation with a cheaper, lower-performance circulation gas medium (nitrogen, argon) with our special nozzle design. ACT will also explore new industrial applications, such as specialized metal manufacturing (via high-pressure gas quench) and high-quality brazing (via controlled cooling rate inside the process furnace) that can be benefited from the proposed inert gas circulation cooling technology. In addition to the high-temperature neutron furnace cooling efforts, ACT will also investigate a novel cryogenic cooling method to aid ORNL with the long cooldown time of dry He cryostats. ACT aims to reduce a 2-hour cooldown time (300K to 80K) to less than 10 minutes with the innovative sample holder with embedded two-phase nitrogen flow. A range of unique solutions will be utilized to improve the heat exchange limited by the Leidenfrost effect. The impact of reduced cooldown time on cryogenic experiments turnaround should be similar to the effect of a cooling system on neutron furnaces., William Anderson, , (717) 205-0602, bill.anderson@1-act.com, Patryk Radyjowski, , (717) 205-0603, patryk.radyjowski@1-act.com, , , \\n7, AEROSOL DYNAMICS INC, Adaptive Measurement of Nuclei Particle Size and Concentration, Department of Energy, , Phase II, SBIR, 271115, DE-SC0022440, 2023-04-03, 04/02/2025, , 2023.0, 12/06/2022, 12/06/2022, 02/10/2023, C53-26a, 2023, 1,624,343, '845314962', N, N, N, 6.0, http://www.aerosol.us, 935 Grayson Street, , Berkeley, CA, 94710-2640, C53-26a-271115The extent, persistence and microphysical properties of clouds influence Earth’s climate and hydrologic cycles. A critical factor affecting cloud characteristics is the concentration of airborne particles around which cloud droplets form. A significant contributor to these particles is atmospheric nucleation, which injects large numbers of small particles into the atmosphere. Once formed, these particles grow quickly. It is estimated that these nucleation processes and the subsequent particle growth are significant contributors to the number of cloud condensation nuclei, and subsequent cloud formation.\", start_char_idx=11046, end_char_idx=15650, text_template='[Excerpt from document]\\n{metadata_str}\\nExcerpt:\\n-----\\n{content}\\n-----\\n', metadata_template='{key}: {value}', metadata_seperator='\\n'),\n",
       " TextNode(id_='83374455-c0b4-4c2f-b4bf-4d990ca220a8', embedding=None, metadata={'entities': ['cloud condensation']}, excluded_embed_metadata_keys=[], excluded_llm_metadata_keys=[], relationships={<NodeRelationship.SOURCE: '1'>: RelatedNodeInfo(node_id='a9719264-1365-43e2-82a7-91b901943d15', node_type=<ObjectType.DOCUMENT: '4'>, metadata={}, hash='106262bb3154c79083556d3121b1e91012b9365aceed62792be006724bfcf109'), <NodeRelationship.PREVIOUS: '2'>: RelatedNodeInfo(node_id='6bc1f4a7-bd85-4c16-9f8d-5b2974ffe0e7', node_type=<ObjectType.TEXT: '1'>, metadata={}, hash='facb238caed88f2689117f87f1446ac067280bb927a967b33fb3f2431bab6088'), <NodeRelationship.NEXT: '3'>: RelatedNodeInfo(node_id='556d09b5-5384-419e-b333-b1db74cce942', node_type=<ObjectType.TEXT: '1'>, metadata={}, hash='031a115ef7349d238a2c3caba0571a5405c489915f303fd5e196fde73e04087a')}, hash='1c15d298a0a3fb37d687e5abe63279acb18cfdf06f8eae3aa3032a5092dc1eb4', text=\"A critical factor affecting cloud characteristics is the concentration of airborne particles around which cloud droplets form. A significant contributor to these particles is atmospheric nucleation, which injects large numbers of small particles into the atmosphere. Once formed, these particles grow quickly. It is estimated that these nucleation processes and the subsequent particle growth are significant contributors to the number of cloud condensation nuclei, and subsequent cloud formation. Characterizing particle nucleation events, and the dynamics of the evolution of the particle size distribution, is important to improving our understanding of global climate. Yet current observations are limited by size, cost, and the relatively slow pace of the measurement. This is due, in part, to the low charging efficiency in the sub-10nm regime, which leads to long measurement times to obtain sufficient counting statistics. Needed is a compact, rapid-response instrument that can accurately track the evolution in size and concentration of newly formed particles. This project will develop a new measurement system to provide the tools needed to better characterize the physical dynamics associated with these new particle formation events. This system consists of two coupled instruments, one which is quick to sense an atmospheric nucleation event, and one that has the precision to characterize it. The rapidly responding instrument is a Nano-Particle Counter which continuously reports particle concentrations in two nanoparticle size ranges, approximately 2nm-10nm, and 10nm and larger. The precise instrument is an “adaptable” differential mobility analyzer that measures aerosol size distributions based on electrical mobility. This adaptable differential mobility analyzer has several modes of operation, with the capability, in one instrument, to measure freshly nucleated, nanometer sized particles as well as the larger pre-existing aerosol with which these newly formed particles interact. Its “adaptability” is the capacity to readily switch among these size ranges. These two components are coupled through common control, whereby an abundance of 2-10 nm particles that is characteristic of an atmospheric nucleation event triggers the mobility sizing system to direct its measurements to this important nucleation mode. Having demonstrated the efficacy of each of these two approaches, the effort of this project focuses on extending these capabilities, with refinement based on modeling and experimental verification. The instruments will be coupled with common control to provide a single, adaptive measurement system. Adaptive protocols, as well as the instrument components, will be further refined under field testing in conjunction with another air quality measurement program. In addition to the automated adaptive system for studying atmospheric nucleation events, this SBIR project will produce two new instruments, a flexible differential mobility analyzer and a dual size range nanoparticle counter, both of which will see broad application within, and outside of, atmospheric aerosol research., Nathan Kreisberg, , (510) 649-9360, nathan@aerosol.us, Stavros Amanatidis, , (510) 649-9360, stavros@aerosol.us, , , \\n8, AEROSOL DYNAMICS INC, Instantaneous Aerosol Mobility Sizing, Department of Energy, , Phase I, SBIR, 270822, DE-SC0023627, 2023-02-21, 02/20/2024, , 2023.0, 10/17/2022, 10/21/2022, 12/19/2022, C55-16a, 2023, 220,709, '845314962', N, N, N, 6.0, http://www.aerosol.us, 935 Grayson Street, , Berkeley, CA, 94710-2640, With its Urban Integrated Field Laboratories research effort, DOE seeks affordable methods to characterize the urban atmosphere with high time and high spatial resolution. Aerosol size distributions are specifically named by DOE as a parameter that cannot be affordably monitored with currently available methods. The size and concentration of sub-micrometer and ultrafine aerosols are especially critical to evaluating the dynamics of aerosol processes, to identifying sources and origins of new particles and their role in cloud formation, as well evaluating human exposures important to health. Needed are means to map these concentrations with good time and spatial resolution.Vehicle-based platforms, such as instrumented Google street-view cars or mobile monitors, provide air quality data over a large urban environment. However, such ground-based mobile platforms require rapid time response, of the order of one second, as the sampled aerosol is constantly changing. For the critical ultrafine aerosol size range, which cannot be directly measured optically but instead is probed by electrical mobility, the current commercial methods do not have the necessary time resolution. Our approach separates airborne particles spatially in accordance with their electrical mobility, and then counts these particles as a function of their position (and hence size) through condensational growth and optical imaging.\", start_char_idx=15153, end_char_idx=20133, text_template='[Excerpt from document]\\n{metadata_str}\\nExcerpt:\\n-----\\n{content}\\n-----\\n', metadata_template='{key}: {value}', metadata_seperator='\\n'),\n",
       " TextNode(id_='556d09b5-5384-419e-b333-b1db74cce942', embedding=None, metadata={'entities': ['Google']}, excluded_embed_metadata_keys=[], excluded_llm_metadata_keys=[], relationships={<NodeRelationship.SOURCE: '1'>: RelatedNodeInfo(node_id='a9719264-1365-43e2-82a7-91b901943d15', node_type=<ObjectType.DOCUMENT: '4'>, metadata={}, hash='106262bb3154c79083556d3121b1e91012b9365aceed62792be006724bfcf109'), <NodeRelationship.PREVIOUS: '2'>: RelatedNodeInfo(node_id='83374455-c0b4-4c2f-b4bf-4d990ca220a8', node_type=<ObjectType.TEXT: '1'>, metadata={}, hash='1c15d298a0a3fb37d687e5abe63279acb18cfdf06f8eae3aa3032a5092dc1eb4'), <NodeRelationship.NEXT: '3'>: RelatedNodeInfo(node_id='c4a00d67-162f-4836-a858-2dee82df2ee4', node_type=<ObjectType.TEXT: '1'>, metadata={}, hash='250f8e4b04705fe5c47b7ba68c96f78914f9c0bab7d8b1cbf7953272b57a45ce')}, hash='031a115ef7349d238a2c3caba0571a5405c489915f303fd5e196fde73e04087a', text=\"The size and concentration of sub-micrometer and ultrafine aerosols are especially critical to evaluating the dynamics of aerosol processes, to identifying sources and origins of new particles and their role in cloud formation, as well evaluating human exposures important to health. Needed are means to map these concentrations with good time and spatial resolution.Vehicle-based platforms, such as instrumented Google street-view cars or mobile monitors, provide air quality data over a large urban environment. However, such ground-based mobile platforms require rapid time response, of the order of one second, as the sampled aerosol is constantly changing. For the critical ultrafine aerosol size range, which cannot be directly measured optically but instead is probed by electrical mobility, the current commercial methods do not have the necessary time resolution. Our approach separates airborne particles spatially in accordance with their electrical mobility, and then counts these particles as a function of their position (and hence size) through condensational growth and optical imaging. The complete size spectrum 10-500 nm size is captured with 10Hz resolution, making feasible accurate measurements on moving platforms.AMI technology uses an innovative approach to facilitate high time resolution measurements within a compact instrument size, representing a significant advance over existing commercially available technologies. Our Phase I project will experimentally evaluate three key components of this approach. First, we experimentally verify the capability of accurately capturing particle positions across the full width of the mobility separator. Second, we will determine the capacity for simultaneous measurement of positive and negative particle mobilities, as this approach has recently been shown to eliminate the need for bipolar ion source. Third, we will evaluate a new concept for the wide-size size range electrode, which has the potential to greatly reduce the required size and cost of the separator. These key steps will allow us in Phase II to design for cost-effective fabrication methods. Through establishing the efficacy of this innovative approach, we aim to provide a compact and affordable instrument for rapid, 1Hz, aerosol size distribution measurement over the critical size range of fine and ultrafine aerosols.Commercial applications span a wide range of industrial and laboratory research uses for which rapid measurements of aerosol size distributions are needed, such as near sources or on mobile platforms. As speed is always desired, our instrument could potentially replace many scanning mobility particle sizing systems, which have become standard aerosol equipment in laboratories and industry., Nathan Kresiberg, , (510) 649-9360, nathan@aerosol.us, Steven Spielman, , (510) 649-9360, steve@aerosol.us, , , \\n11, ALPHACORE INC, Ultra-Rad-Hard Full-HD Image Sensor and Camera for Rare Isotope Beam Facilities, Department of Energy, , Phase I, SBIR, 270847, DE-SC0023654, 2023-02-21, 02/20/2024, , 2023.0, 10/17/2022, 10/24/2022, 12/20/2022, C55-23e, 2023, 199,917, '078602532', N, N, N, 24.0, http://www.alphacoreinc.com, 304 S Rockford Drive, , Tempe, AZ, 85281-3052, The Department of Energy requires a compact digital imaging system (or systems) for beam and target system diagnostic applications. Capable of HD resolution, motion deblurring, object/event detection/identification, object tracking, and data compression, the proposed system is meant to resolve current camera lifespan inadequacies while also boosting energy level resistance. This problem is being addressed by utilizing Alphacore’s “Camera-on-Chip&quot; technology where the camera functionality is moved from the FPGA camera control board to the image sensor chip itself. The chip-based camera includes functionality to transfer the image data via a rad-hard cable up to 150ft to an area in the facility that does not include high radiation environment. Now, a radiation-hard camera control board is not needed. During Phase I, Alphacore will characterize and evaluate the first version of the image sensors and perform radiation testing. Based on the results, we will design the final full resolution version of the proposed radiation hardened image sensor. The need for camera on chip technologies for compact digital imaging systems has already diversified into numerous sectors within the energy and commercial industry. While the immediate energy needs of this program are sought for beam and target system diagnostic applications, defense sector applications include Missile attitude detection systems, next-gen ISR missions, security and situational awareness, and numerous space agency mission needs such as identify space-objects in real-time and space-object detection and space-situational awareness (CspOC).\", start_char_idx=19031, end_char_idx=23883, text_template='[Excerpt from document]\\n{metadata_str}\\nExcerpt:\\n-----\\n{content}\\n-----\\n', metadata_template='{key}: {value}', metadata_seperator='\\n'),\n",
       " TextNode(id_='c4a00d67-162f-4836-a858-2dee82df2ee4', embedding=None, metadata={'entities': ['Alphacore', 'SatCom']}, excluded_embed_metadata_keys=[], excluded_llm_metadata_keys=[], relationships={<NodeRelationship.SOURCE: '1'>: RelatedNodeInfo(node_id='a9719264-1365-43e2-82a7-91b901943d15', node_type=<ObjectType.DOCUMENT: '4'>, metadata={}, hash='106262bb3154c79083556d3121b1e91012b9365aceed62792be006724bfcf109'), <NodeRelationship.PREVIOUS: '2'>: RelatedNodeInfo(node_id='556d09b5-5384-419e-b333-b1db74cce942', node_type=<ObjectType.TEXT: '1'>, metadata={}, hash='031a115ef7349d238a2c3caba0571a5405c489915f303fd5e196fde73e04087a'), <NodeRelationship.NEXT: '3'>: RelatedNodeInfo(node_id='3ffe308a-6685-43f2-82f5-3e26536d948c', node_type=<ObjectType.TEXT: '1'>, metadata={}, hash='731f17586ae11e4b3a0d864a70fe9e7588f9d6c16e92e97a42d5abdf888328b7')}, hash='250f8e4b04705fe5c47b7ba68c96f78914f9c0bab7d8b1cbf7953272b57a45ce', text=\"The chip-based camera includes functionality to transfer the image data via a rad-hard cable up to 150ft to an area in the facility that does not include high radiation environment. Now, a radiation-hard camera control board is not needed. During Phase I, Alphacore will characterize and evaluate the first version of the image sensors and perform radiation testing. Based on the results, we will design the final full resolution version of the proposed radiation hardened image sensor. The need for camera on chip technologies for compact digital imaging systems has already diversified into numerous sectors within the energy and commercial industry. While the immediate energy needs of this program are sought for beam and target system diagnostic applications, defense sector applications include Missile attitude detection systems, next-gen ISR missions, security and situational awareness, and numerous space agency mission needs such as identify space-objects in real-time and space-object detection and space-situational awareness (CspOC). On the private industry side, the diverse environment in which CoC technologies will be integral in next generation technologies include, but not limited to security and surveillance, medical imaging and aerospace, nuclear experimentation, space exploration and LEO operations, SatCom and communications, and the automotive industry including the growing autonomous transportation and safety system segments therein., Esko Mikkola, , (520) 647-4445, esko.mikkola@alphacoreinc.com, Konstantinos Moutafis, , (480) 494-5618, kostas.moutafis@alphacoreinc.com, , , \\n13, AMETHYST RESEARCH INC, Extended SWIR Single Photon Avalanche Photo Detector Technology for Bioimaging, Department of Energy, , Phase I, SBIR, 270593, DE-SC0023628, 2023-02-21, 11/20/2023, , 2023.0, 10/17/2022, 10/17/2022, 12/19/2022, C55-19b, 2023, 248,524, '159048698', Y, N, N, 9.0, http://www.amethystresearch.com, 123 Case Cir., , Ardmore, OK, 73401-0643, There are two principal technical limitations and challenges associated with bioimaging. First, depth imaging is limited by light scattering and diffraction in biological tissue. Second, classical high flux multiphoton optical imaging causes photo-damage to cellular viability and perturbations to molecular biological processes. This renders the sample unusable for repeated in situ imaging and prohibits measurements of dynamic biological processes within the same biological system over different time intervals. Technologies utilizing single photon detection, with the promise of very low photon fluxes, single photon sensing, time gated photon sensing and ghost imaging using entangled photon pairs capabilities, promise to directly address the above challenges and limitations. While there is considerable activity towards the development of quantum photon sources (e.g., solid state lasers and systems for generation of entangled photons), there is significantly less research and development devoted to quantum photon detectors, i.e., single photon avalanche photodetectors (SPADs). Further, efforts on SPADs have been solely limited to those operating in the visible and telecommunications bands, and not in the biologically important 2080-2340 nm band which is a local minimum in the optical absorption of H2O. SPADS operating at 2080-2340 nm are required for development of the next generation of quantum bioimaging system technology. In this DoE SBIR program, Amethyst Research will develop a technology that will be able to deliver a new class of photo detectors directly addressing the current ‘technology gap’ of SPADs operating in the 2080-2340 nm window. These detectors will be designed to be suitable for integration into avalanche photodiode arrays (for direct imaging) or linear arrays for laser photon scanning imaging systems, or as single detectors for sensing.\", start_char_idx=22836, end_char_idx=26694, text_template='[Excerpt from document]\\n{metadata_str}\\nExcerpt:\\n-----\\n{content}\\n-----\\n', metadata_template='{key}: {value}', metadata_seperator='\\n'),\n",
       " TextNode(id_='3ffe308a-6685-43f2-82f5-3e26536d948c', embedding=None, metadata={'entities': ['Single Photon Detector Technology', 'Amethyst Research']}, excluded_embed_metadata_keys=[], excluded_llm_metadata_keys=[], relationships={<NodeRelationship.SOURCE: '1'>: RelatedNodeInfo(node_id='a9719264-1365-43e2-82a7-91b901943d15', node_type=<ObjectType.DOCUMENT: '4'>, metadata={}, hash='106262bb3154c79083556d3121b1e91012b9365aceed62792be006724bfcf109'), <NodeRelationship.PREVIOUS: '2'>: RelatedNodeInfo(node_id='c4a00d67-162f-4836-a858-2dee82df2ee4', node_type=<ObjectType.TEXT: '1'>, metadata={}, hash='250f8e4b04705fe5c47b7ba68c96f78914f9c0bab7d8b1cbf7953272b57a45ce'), <NodeRelationship.NEXT: '3'>: RelatedNodeInfo(node_id='a71fbae7-3bcf-4aae-9253-a71d21d7774a', node_type=<ObjectType.TEXT: '1'>, metadata={}, hash='9546c8ae3e6cbe758351693f10d95e06643b17f3ce98c38386cae11da2e55008')}, hash='731f17586ae11e4b3a0d864a70fe9e7588f9d6c16e92e97a42d5abdf888328b7', text='Further, efforts on SPADs have been solely limited to those operating in the visible and telecommunications bands, and not in the biologically important 2080-2340 nm band which is a local minimum in the optical absorption of H2O. SPADS operating at 2080-2340 nm are required for development of the next generation of quantum bioimaging system technology. In this DoE SBIR program, Amethyst Research will develop a technology that will be able to deliver a new class of photo detectors directly addressing the current ‘technology gap’ of SPADs operating in the 2080-2340 nm window. These detectors will be designed to be suitable for integration into avalanche photodiode arrays (for direct imaging) or linear arrays for laser photon scanning imaging systems, or as single detectors for sensing. The overall Phase I Objectives will be to design and demonstrate the operation of a Single Photon Detector Technology operating in the 2080 – 2340 nm band for the quantum biosensing and bioimaging community: • Design and modeling of novel 2080-2340 nm GaSb-based SPAD device architectures • Epitaxial growth of GaSb -based SPAD devices • DC electro-optical characterization of GaSb -based SPAD devices • Demonstration of superior performance of GaSb materials for SPAD devices These detectors will provide a critically needed technology for integration into systems for bioimaging, chemical sensing, quantum sensing and imaging when delivered as avalanche photodiode arrays (for direct imaging) or linear arrays for laser photon scanning imaging systems, or as single detectors for sensing., Shelly Shepard, , (580) 952-9195, admin@amethystresearch.com, Terry Golding, , (580) 559-1064, golding@amethystresearch.net, , , \\n24, Altex Technologies Corporation, DOE Phase I DE-SC0022445, FOA DE-FOA-0002859, DOE Topic 21f, \"Enhanced Biochar for Soil Reclamation Co-Produced by a Drop-In Biofuels Process\", Department of Energy, , Phase II, SBIR, 271174, DE-SC0022445, 2023-04-03, 04/02/2025, , 2023.0, 12/06/2022, 12/06/2022, 02/10/2023, C53-21f, 2023, 1,149,916, \\'183365410\\', Y, N, N, 14.0, http://www.altextech.com, 135 Nicholson Lane, , San Jose, CA, 95134-1359, C53-21f-271174In the US more than 300 million tons/year of biomass are produced from agricultural operations that are subject to microbial decay to greenhouse gases. Through thermal processing this biomass can be converted to a high carbon biochar that could be used as a soil amendment for acidic soils to increase crop production. However, current biochar costs are too high. By coproducing a biofuel with the biochar, biochar costs can be reduced. A patented drop-in biofuels process will be leveraged to also create a low-cost biochar. In addition, carbon dioxide will be adsorbed on the biochar to improve soil amendment characteristics. The goal of the proposed project is to build a larger-scale enhanced biochar production system and operate the system to generate enhanced biochar for improving Controlled Environmental Agriculture (CEA) operations and improve the growth of corn and wheat in field applications in acidic soils. During the Phase I project, the enhanced biochar test system was designed and fabricated, and biochar was produced from corn stover and wheat straw. The biochar was characterized by standard tests and was shown to have good carbon dioxide capture potential and good potential for long-term carbon sequestration. Lettuce plant growth tests under Controlled Environmental Agriculture conditions in pots showed that the enhanced biochar could increase plant production in acidic media by up to 386%. A techno-economic analysis showed that these benefits could be achieved at a cost below $40/ton biochar. In the Phase II project, the enhanced biochar production system will be scaled up by a factor of ten to produce larger quantities of biochar. The corn stover and wheat straw biochar will then be applied to controlled environment agriculture pot studies in the first year of the effort to show the growth improvements with enhanced biochar. In the second year of the project, the enhanced biochar will be applied in field studies to show the growth improvement with corn and wheat in acidic soils. The project will conclude with a techno-economic analysis to show the cost, agricultural production and carbon sequestration benefits of enhanced biochar.', start_char_idx=25900, end_char_idx=30248, text_template='[Excerpt from document]\\n{metadata_str}\\nExcerpt:\\n-----\\n{content}\\n-----\\n', metadata_template='{key}: {value}', metadata_seperator='\\n'),\n",
       " TextNode(id_='a71fbae7-3bcf-4aae-9253-a71d21d7774a', embedding=None, metadata={'entities': ['Controlled Environmental Agriculture']}, excluded_embed_metadata_keys=[], excluded_llm_metadata_keys=[], relationships={<NodeRelationship.SOURCE: '1'>: RelatedNodeInfo(node_id='a9719264-1365-43e2-82a7-91b901943d15', node_type=<ObjectType.DOCUMENT: '4'>, metadata={}, hash='106262bb3154c79083556d3121b1e91012b9365aceed62792be006724bfcf109'), <NodeRelationship.PREVIOUS: '2'>: RelatedNodeInfo(node_id='3ffe308a-6685-43f2-82f5-3e26536d948c', node_type=<ObjectType.TEXT: '1'>, metadata={}, hash='731f17586ae11e4b3a0d864a70fe9e7588f9d6c16e92e97a42d5abdf888328b7'), <NodeRelationship.NEXT: '3'>: RelatedNodeInfo(node_id='65b809cc-e281-42bb-bd26-f90cdc1e2ed3', node_type=<ObjectType.TEXT: '1'>, metadata={}, hash='21a106b81f59ec6594e64c3f6b4f91f9ee1e08b97833c7d3a0d2216f055f098e')}, hash='9546c8ae3e6cbe758351693f10d95e06643b17f3ce98c38386cae11da2e55008', text=\"Lettuce plant growth tests under Controlled Environmental Agriculture conditions in pots showed that the enhanced biochar could increase plant production in acidic media by up to 386%. A techno-economic analysis showed that these benefits could be achieved at a cost below $40/ton biochar. In the Phase II project, the enhanced biochar production system will be scaled up by a factor of ten to produce larger quantities of biochar. The corn stover and wheat straw biochar will then be applied to controlled environment agriculture pot studies in the first year of the effort to show the growth improvements with enhanced biochar. In the second year of the project, the enhanced biochar will be applied in field studies to show the growth improvement with corn and wheat in acidic soils. The project will conclude with a techno-economic analysis to show the cost, agricultural production and carbon sequestration benefits of enhanced biochar. The enhanced biochar can be applied to increase the productivity of crops in acidic soils and replacing peat in the soilless media used for controlled environmental agriculture. This will improve the economic well-being of farmers, reduce carbon dioxide in the atmosphere, sequester carbon in soil and generate drop-in jet or gasoline renewable fuel. Preliminary results indicate farm revenues can be increased by $8.8 billion/year and 11.4 million tons of carbon can be sequestered in the soil., Alexander Kelly, , (408) 328-8311, alex@altextech.com, Nehru Chevanan, , (408) 328-8318, nehru@altextech.com, , , \\n25, American Physics and Technology LLC, Innovative high-volume low-cost manufacturing of conventional neutron supermirror beam guides, mirrors and filters for future large projects, Department of Energy, , Phase I, SBIR, 270517, DE-SC0023620, 2023-02-21, 01/20/2024, , 2023.0, 10/17/2022, 10/17/2022, 12/19/2022, C55-11a, 2023, 206,500, '080379185', N, Y, N, 3.0, http://www.AmPhysTech.com, 325 North 350 East, , Richmond, UT, 84333, In the next 5-10 years, the planned upgrades to the High Flux Isotope Reactor (HFIR) and the Spallation Neutron Source (SNS) nuclear scattering facilities at Oak Ridge National Laboratory (ORNL) will require kilometers of new neutron supermirror beam guides, mirrors, and filters. At the same time, an even larger amount of neutron optics will be required to build the new European Spallation Source in Sweden. These concurrent projects are stretching existing neutron manufacturers, all of which are presently located in Europe, beyond their capacities, thus presenting a unique opportunity for new American manufacturers. American Physics and Technology LLC (APT) is striving to become a trusted domestic supplier for these critically needed optics, one that manufactures the highest quality supermirror optics and competes on price as well. In our previous SBIR project, APT located in Richmond UT, with its suppliers: Rigaku Innovative Technologies (RIT) in Auburn Hills MI a worldwide leader in thin film deposition; Inrad Optics in Northvale NJ with 40+ years of expertise in manufacturing substrates for x-ray optics; and Exogenesis in Billerica MA, an innovator in atomic-scale surface modification technology; manufactured the first American made neutron supermirrors in &gt;20 years. This new proposed SBIR project will increase our capability to mass-produce low-cost conventional neutron guides, mirrors, and filters on flat substrates. In phase-I, we will: a) develop M=4 thin-film coatings, on small coupon samples, to achieve 80% neutron reflectivity at max q, to be measured at the SNS at ORNL; b) research the manufacture of substrates as large as 1000x150 mm made of glass, silicon, and metal, and with special attention to optimizing the surface quality and lowering cost; c) consider the technology and cost required for manufacturing the adjustable mounts and housings that are also required for the mirror assemblies. In phase-II we will demonstrate our ability to manufacture the required meter-sized optics. To date, we have made neutron supermirrors on glass, Si-crystal, and metal substrates, and our first attempts have already demonstrated M=4.5 performance with 75% neutron reflectivity at maximum q on a flat Si-crystal substrate. Our previous effort centered on making low-volume, high-cost, curved, metal, focusing mirrors using our proprietary cluster-beam surface-smoothing technologies. Our proposed project will add low-cost, high-volume, neutron optics to our product line.\", start_char_idx=29307, end_char_idx=33806, text_template='[Excerpt from document]\\n{metadata_str}\\nExcerpt:\\n-----\\n{content}\\n-----\\n', metadata_template='{key}: {value}', metadata_seperator='\\n'),\n",
       " TextNode(id_='65b809cc-e281-42bb-bd26-f90cdc1e2ed3', embedding=None, metadata={'entities': ['David Swenson']}, excluded_embed_metadata_keys=[], excluded_llm_metadata_keys=[], relationships={<NodeRelationship.SOURCE: '1'>: RelatedNodeInfo(node_id='a9719264-1365-43e2-82a7-91b901943d15', node_type=<ObjectType.DOCUMENT: '4'>, metadata={}, hash='106262bb3154c79083556d3121b1e91012b9365aceed62792be006724bfcf109'), <NodeRelationship.PREVIOUS: '2'>: RelatedNodeInfo(node_id='a71fbae7-3bcf-4aae-9253-a71d21d7774a', node_type=<ObjectType.TEXT: '1'>, metadata={}, hash='9546c8ae3e6cbe758351693f10d95e06643b17f3ce98c38386cae11da2e55008'), <NodeRelationship.NEXT: '3'>: RelatedNodeInfo(node_id='4459f37e-21d3-4106-aa0e-6d9434be2757', node_type=<ObjectType.TEXT: '1'>, metadata={}, hash='001cf56a748937888fb8c2dae4ced10f2ca5e5ebf48a3d7a3750f478389431eb')}, hash='21a106b81f59ec6594e64c3f6b4f91f9ee1e08b97833c7d3a0d2216f055f098e', text=\"In phase-II we will demonstrate our ability to manufacture the required meter-sized optics. To date, we have made neutron supermirrors on glass, Si-crystal, and metal substrates, and our first attempts have already demonstrated M=4.5 performance with 75% neutron reflectivity at maximum q on a flat Si-crystal substrate. Our previous effort centered on making low-volume, high-cost, curved, metal, focusing mirrors using our proprietary cluster-beam surface-smoothing technologies. Our proposed project will add low-cost, high-volume, neutron optics to our product line. Our goal is to compete with the existing European suppliers using conventional manufacturing methods and by using our new innovative cluster-beam methods. The new methods show much promise for reducing cost and manufacturing time while improving performance. Given the capabilities and vast experience of our suppliers, we can easily expand to make large quantities of low-cost neutron supermirror optics in the next 5-10 years., David Swenson, , (978) 609-5562, dswenson@amphystech.com, David Swenson, , (978) 609-5562, dswenson@amphystech.com, , , \\n29, Aqwest, LLC, Wavelength Tunable Visible Picosecond Laser, Department of Energy, , Phase II, SBIR, 271184, DE-SC0022466, 2023-04-03, 04/02/2025, , 2023.0, 12/06/2022, 12/06/2022, 02/10/2023, C53-12a, 2023, 1,149,980, '799077552', N, N, N, 9.0, https://www.aqwest.com, 8276 Eagle Road, , Larkspur, CO, 80118-8224, C53-12a-271184Photocathodes are critical for generation of high-brightness electron beams in accelerators that are used in science, industry, and medical disciplines. A visible wavelength-tunable picoseconds laser is required to support optimization of photocathodes leading to more compact, high-performance, and cost-effective systems. Such lasers are not available commercially. With new sources of high-brightness electron beams affordable for universities, commercial laboratories (e.g., semiconductor material development), and hospitals, the US would be able to maintain its technological leadership. In Phase I, we constructed a proof-of-principle Demonstrator system and experimentally validated our concept. We demonstrated key parameters targeted by the DOE including wavelength tunability from 484 to 643 nm, pulse energy up to 425 &#181;J, and output bandwidth as low as 1 nm. We characterized the performance of the demonstrator system, anchored our predictive models, confirmed energetics, validated the pulse synchronization, and used these results to design the Phase II Prototype driver. Our accomplishments generated an interest by the researchers at a DOE laboratory. In Phase II, we will develop and characterize a prototype photocathode drive laser meeting the DOE functional requirements. Results of Phase I will be extended using our validated approach. Effective thermal management will be implemented for the PA, harmonic conversion crystals, and the OPA crystals to facilitate continuous operation at high-average power. Wavelength selection under computer control with a feedback loop will be created. Means for pulse selection and generation of the objective waveform will be developed. Pulse synchronization at picosecond level will be matured. Spatial pulse shaping will be provided. Temporal pulse shaping will be evaluated. The resulting laser system will be a full-scale prototype offering a direct path to a photocathode drive laser deliverable in Phase III.\", start_char_idx=33236, end_char_idx=36667, text_template='[Excerpt from document]\\n{metadata_str}\\nExcerpt:\\n-----\\n{content}\\n-----\\n', metadata_template='{key}: {value}', metadata_seperator='\\n')]"
      ]
     },
     "execution_count": 65,
     "metadata": {},
     "output_type": "execute_result"
    }
   ],
   "source": [
    "nodes[:10]"
   ]
  },
  {
   "cell_type": "code",
   "execution_count": 66,
   "id": "8267bc2a",
   "metadata": {},
   "outputs": [
    {
     "name": "stdout",
     "output_type": "stream",
     "text": [
      "<class 'pandas.core.frame.DataFrame'>\n",
      "Index: 19506 entries, 2 to 45865\n",
      "Data columns (total 41 columns):\n",
      " #   Column                                   Non-Null Count  Dtype         \n",
      "---  ------                                   --------------  -----         \n",
      " 0   Company                                  19505 non-null  object        \n",
      " 1   Award Title                              19506 non-null  object        \n",
      " 2   Agency                                   19506 non-null  object        \n",
      " 3   Branch                                   16182 non-null  object        \n",
      " 4   Phase                                    19506 non-null  object        \n",
      " 5   Program                                  19506 non-null  object        \n",
      " 6   Agency Tracking Number                   19506 non-null  object        \n",
      " 7   Contract                                 19506 non-null  object        \n",
      " 8   Proposal Award Date                      19506 non-null  datetime64[ns]\n",
      " 9   Contract End Date                        19483 non-null  object        \n",
      " 10  Solicitation Number                      17891 non-null  object        \n",
      " 11  Solicitation Year                        19506 non-null  float64       \n",
      " 12  Solicitation Close Date                  18948 non-null  object        \n",
      " 13  Proposal Receipt Date                    19506 non-null  object        \n",
      " 14  Date of Notification                     19505 non-null  object        \n",
      " 15  Topic Code                               19452 non-null  object        \n",
      " 16  Award Year                               19506 non-null  int64         \n",
      " 17  Award Amount                             19506 non-null  object        \n",
      " 18  Duns                                     19412 non-null  object        \n",
      " 19  HUBZone Owned                            19506 non-null  object        \n",
      " 20  Socially and Economically Disadvantaged  19506 non-null  object        \n",
      " 21  Women Owned                              19506 non-null  object        \n",
      " 22  Number Employees                         18596 non-null  float64       \n",
      " 23  Company Website                          17189 non-null  object        \n",
      " 24  Address1                                 19506 non-null  object        \n",
      " 25  Address2                                 3076 non-null   object        \n",
      " 26  City                                     19506 non-null  object        \n",
      " 27  State                                    19506 non-null  object        \n",
      " 28  Zip                                      19506 non-null  object        \n",
      " 29  Abstract                                 19503 non-null  object        \n",
      " 30  Contact Name                             19506 non-null  object        \n",
      " 31  Contact Title                            200 non-null    object        \n",
      " 32  Contact Phone                            19506 non-null  object        \n",
      " 33  Contact Email                            19506 non-null  object        \n",
      " 34  PI Name                                  19506 non-null  object        \n",
      " 35  PI Title                                 6702 non-null   object        \n",
      " 36  PI Phone                                 19506 non-null  object        \n",
      " 37  PI Email                                 19506 non-null  object        \n",
      " 38  RI Name                                  3293 non-null   object        \n",
      " 39  RI POC Name                              3133 non-null   object        \n",
      " 40  RI POC Phone                             3155 non-null   object        \n",
      "dtypes: datetime64[ns](1), float64(2), int64(1), object(37)\n",
      "memory usage: 6.3+ MB\n"
     ]
    }
   ],
   "source": [
    "sbir_df.info()"
   ]
  },
  {
   "cell_type": "code",
   "execution_count": 67,
   "id": "fc89efa0",
   "metadata": {},
   "outputs": [],
   "source": [
    "sbir_df.to_csv('./Downloads/sbir_filtered.csv')"
   ]
  },
  {
   "cell_type": "code",
   "execution_count": null,
   "id": "62d95512",
   "metadata": {},
   "outputs": [],
   "source": [
    "### Graph store instead of vector store - alternate approach"
   ]
  },
  {
   "cell_type": "code",
   "execution_count": null,
   "id": "a40e04ab",
   "metadata": {},
   "outputs": [],
   "source": [
    "\n",
    "#from llama_index import KnowledgeGraphIndex\n",
    "## Takes lot of credits/$$$\n",
    "'''\n",
    "from llama_index.storage.storage_context import StorageContext\n",
    "from llama_index.graph_stores import SimpleGraphStore\n",
    "graph_store = SimpleGraphStore()\n",
    "storage_context = StorageContext.from_defaults(graph_store=graph_store)\n",
    "kn_index = KnowledgeGraphIndex(nodes, storage_context=storage_context, service_context=service_context)\n",
    "'''"
   ]
  }
 ],
 "metadata": {
  "kernelspec": {
   "display_name": "Python 3 (ipykernel)",
   "language": "python",
   "name": "python3"
  },
  "language_info": {
   "codemirror_mode": {
    "name": "ipython",
    "version": 3
   },
   "file_extension": ".py",
   "mimetype": "text/x-python",
   "name": "python",
   "nbconvert_exporter": "python",
   "pygments_lexer": "ipython3",
   "version": "3.9.12"
  }
 },
 "nbformat": 4,
 "nbformat_minor": 5
}
